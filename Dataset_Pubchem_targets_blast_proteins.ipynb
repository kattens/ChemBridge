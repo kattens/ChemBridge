{
  "nbformat": 4,
  "nbformat_minor": 0,
  "metadata": {
    "colab": {
      "provenance": [],
      "authorship_tag": "ABX9TyNzUD/NPb1M319qkwoIadoZ",
      "include_colab_link": true
    },
    "kernelspec": {
      "name": "python3",
      "display_name": "Python 3"
    },
    "language_info": {
      "name": "python"
    }
  },
  "cells": [
    {
      "cell_type": "markdown",
      "metadata": {
        "id": "view-in-github",
        "colab_type": "text"
      },
      "source": [
        "<a href=\"https://colab.research.google.com/github/kattens/ChemBridge/blob/main/Dataset_Pubchem_targets_blast_proteins.ipynb\" target=\"_parent\"><img src=\"https://colab.research.google.com/assets/colab-badge.svg\" alt=\"Open In Colab\"/></a>"
      ]
    },
    {
      "cell_type": "markdown",
      "source": [
        "# **Our Goal**\n",
        "\n",
        "Now we want a dataset structure that:\n",
        "\n",
        "    Stores this triplet clearly\n",
        "\n",
        "    Allows you to:\n",
        "\n",
        "        Run sequence alignments between target and malaria proteins\n",
        "\n",
        "        Analyze which drugs may bind to malaria proteins\n",
        "\n",
        "        Potentially train or evaluate a model later\n",
        "\n",
        "✅ Recommended Dataset Format (JSONL or DataFrame)\n",
        "\n",
        "🧬 Each row represents a single target–malaria protein match\n",
        "\n"
      ],
      "metadata": {
        "id": "fQUBMbr4nWEb"
      }
    },
    {
      "cell_type": "code",
      "execution_count": null,
      "metadata": {
        "colab": {
          "base_uri": "https://localhost:8080/"
        },
        "id": "K6CPDNdanLtK",
        "outputId": "c683edaa-fb87-4345-8c7e-a893e7e5aeda"
      },
      "outputs": [
        {
          "output_type": "execute_result",
          "data": {
            "text/plain": [
              "{'pubchem_id': '4735',\n",
              " 'target_chain_id': '1RKW_A',\n",
              " 'target_sequence': 'MVLSPADKTN...',\n",
              " 'malaria_match_id': '3D7A_A',\n",
              " 'malaria_sequence': 'MVLSPADKTV...',\n",
              " 'percent_identity': 85.2,\n",
              " 'alignment_length': 120,\n",
              " 'evalue': 1e-50,\n",
              " 'bitscore': 240.0}"
            ]
          },
          "metadata": {},
          "execution_count": 1
        }
      ],
      "source": [
        "{\n",
        "  \"pubchem_id\": \"4735\",\n",
        "  \"target_chain_id\": \"1RKW_A\",\n",
        "  \"target_sequence\": \"MVLSPADKTN...\",\n",
        "  \"malaria_match_id\": \"3D7A_A\",\n",
        "  \"malaria_sequence\": \"MVLSPADKTV...\",\n",
        "  \"percent_identity\": 85.2,\n",
        "  \"alignment_length\": 120,\n",
        "  \"evalue\": 1e-50,\n",
        "  \"bitscore\": 240.0\n",
        "}"
      ]
    },
    {
      "cell_type": "markdown",
      "source": [
        "\n",
        "Save all these in a list of rows → either:\n",
        "\n",
        "    A .jsonl file (one JSON per line)\n",
        "\n",
        "    Or .csv / Pandas DataFrame"
      ],
      "metadata": {
        "id": "KY4osLRjnfco"
      }
    },
    {
      "cell_type": "markdown",
      "source": [
        "#SOme example code generated (Just save it here)"
      ],
      "metadata": {
        "id": "ulljcwB9ptDt"
      }
    },
    {
      "cell_type": "code",
      "source": [
        "import os\n",
        "import json\n",
        "import pandas as pd\n",
        "\n",
        "def load_fasta_sequence(fasta_path):\n",
        "    \"\"\"Reads a FASTA file and returns the amino acid sequence as a string.\"\"\"\n",
        "    with open(fasta_path, \"r\") as f:\n",
        "        lines = f.readlines()\n",
        "    sequence = ''.join([line.strip() for line in lines if not line.startswith(\">\")])\n",
        "    return sequence if sequence else None\n",
        "\n",
        "def build_dataset(base_dir):\n",
        "    \"\"\"\n",
        "    Builds a dataset of PubChem drug IDs, target PDB chains, and matched malaria proteins.\n",
        "\n",
        "    Args:\n",
        "        base_dir (str): Path to the top-level folder with PubChem ID folders.\n",
        "\n",
        "    Returns:\n",
        "        pd.DataFrame: Compiled dataset.\n",
        "    \"\"\"\n",
        "    rows = []\n",
        "\n",
        "    for pubchem_id in os.listdir(base_dir):\n",
        "        folder_path = os.path.join(base_dir, pubchem_id)\n",
        "        if not os.path.isdir(folder_path) or pubchem_id.startswith('.'):\n",
        "            continue\n",
        "\n",
        "        for file in os.listdir(folder_path):\n",
        "            if not file.endswith(\".json\") or file.startswith('.'):\n",
        "                continue\n",
        "\n",
        "            json_path = os.path.join(folder_path, file)\n",
        "            fasta_path = json_path.replace(\".json\", \".fasta\")\n",
        "\n",
        "            if not os.path.exists(fasta_path):\n",
        "                continue\n",
        "\n",
        "            target_sequence = load_fasta_sequence(fasta_path)\n",
        "            if not target_sequence:\n",
        "                continue\n",
        "\n",
        "            with open(json_path, \"r\") as f:\n",
        "                try:\n",
        "                    results = json.load(f)\n",
        "                except:\n",
        "                    continue\n",
        "\n",
        "            # Skip if it's an error or \"no result found\" message\n",
        "            if isinstance(results, dict) or (len(results) == 1 and \"message\" in results[0]):\n",
        "                continue\n",
        "\n",
        "            target_chain_id = os.path.splitext(file)[0]  # filename without .json\n",
        "\n",
        "            for hit in results:\n",
        "                rows.append({\n",
        "                    \"pubchem_id\": pubchem_id,\n",
        "                    \"target_chain_id\": target_chain_id,\n",
        "                    \"target_sequence\": target_sequence,\n",
        "                    \"malaria_match_id\": hit.get(\"subject_id\"),\n",
        "                    \"malaria_sequence\": None,  # placeholder for future step\n",
        "                    \"percent_identity\": hit.get(\"percent_identity\"),\n",
        "                    \"alignment_length\": hit.get(\"alignment_length\"),\n",
        "                    \"evalue\": hit.get(\"evalue\"),\n",
        "                    \"bitscore\": hit.get(\"bitscore\")\n",
        "                })\n",
        "\n",
        "    return pd.DataFrame(rows)\n",
        "\n",
        "\n",
        "# Example usage:\n",
        "# dataset = build_dataset(\"/your/full/path/to/PubChem_PDB_Results\")\n",
        "# dataset.to_csv(\"drug_target_malaria_dataset.csv\", index=False)\n"
      ],
      "metadata": {
        "id": "17p0VQN9pxzZ"
      },
      "execution_count": null,
      "outputs": []
    }
  ]
}