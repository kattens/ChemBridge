{
  "nbformat": 4,
  "nbformat_minor": 0,
  "metadata": {
    "colab": {
      "provenance": [],
      "mount_file_id": "1-FAMhbMVGS7JO-kAZ8WWajUbvQyRN1ja",
      "authorship_tag": "ABX9TyP6l2B8M7PcCNb5/aj1be2i",
      "include_colab_link": true
    },
    "kernelspec": {
      "name": "python3",
      "display_name": "Python 3"
    },
    "language_info": {
      "name": "python"
    }
  },
  "cells": [
    {
      "cell_type": "markdown",
      "metadata": {
        "id": "view-in-github",
        "colab_type": "text"
      },
      "source": [
        "<a href=\"https://colab.research.google.com/github/kattens/ChemBridge/blob/main/Dataset_Pubchem_targets_blast_proteins.ipynb\" target=\"_parent\"><img src=\"https://colab.research.google.com/assets/colab-badge.svg\" alt=\"Open In Colab\"/></a>"
      ]
    },
    {
      "cell_type": "markdown",
      "source": [
        "# **Our Goal**\n",
        "\n",
        "Now we want a dataset structure that:\n",
        "\n",
        "    Stores this triplet clearly\n",
        "\n",
        "    Allows you to:\n",
        "\n",
        "        Run sequence alignments between target and malaria proteins\n",
        "\n",
        "        Analyze which drugs may bind to malaria proteins\n",
        "\n",
        "        Potentially train or evaluate a model later\n",
        "\n",
        "✅ Recommended Dataset Format (JSONL or DataFrame)\n",
        "\n",
        "🧬 Each row represents a single target–malaria protein match\n",
        "\n"
      ],
      "metadata": {
        "id": "fQUBMbr4nWEb"
      }
    },
    {
      "cell_type": "code",
      "execution_count": null,
      "metadata": {
        "colab": {
          "base_uri": "https://localhost:8080/"
        },
        "id": "K6CPDNdanLtK",
        "outputId": "c683edaa-fb87-4345-8c7e-a893e7e5aeda"
      },
      "outputs": [
        {
          "output_type": "execute_result",
          "data": {
            "text/plain": [
              "{'pubchem_id': '4735',\n",
              " 'target_chain_id': '1RKW_A',\n",
              " 'target_sequence': 'MVLSPADKTN...',\n",
              " 'malaria_match_id': '3D7A_A',\n",
              " 'malaria_sequence': 'MVLSPADKTV...',\n",
              " 'percent_identity': 85.2,\n",
              " 'alignment_length': 120,\n",
              " 'evalue': 1e-50,\n",
              " 'bitscore': 240.0}"
            ]
          },
          "metadata": {},
          "execution_count": 1
        }
      ],
      "source": [
        "{\n",
        "  \"pubchem_id\": \"4735\",\n",
        "  \"target_chain_id\": \"1RKW_A\",\n",
        "  \"target_sequence\": \"MVLSPADKTN...\",\n",
        "  \"malaria_match_id\": \"3D7A_A\",\n",
        "  \"malaria_sequence\": \"MVLSPADKTV...\",\n",
        "  \"percent_identity\": 85.2,\n",
        "  \"alignment_length\": 120,\n",
        "  \"evalue\": 1e-50,\n",
        "  \"bitscore\": 240.0\n",
        "}"
      ]
    },
    {
      "cell_type": "markdown",
      "source": [
        "\n",
        "Save all these in a list of rows → either:\n",
        "\n",
        "    A .jsonl file (one JSON per line)\n",
        "\n",
        "    Or .csv / Pandas DataFrame"
      ],
      "metadata": {
        "id": "KY4osLRjnfco"
      }
    },
    {
      "cell_type": "markdown",
      "source": [
        "# **Start the Code here**"
      ],
      "metadata": {
        "id": "Jx1scxUf6u-M"
      }
    },
    {
      "cell_type": "code",
      "source": [
        "json_path = '/content/drive/MyDrive/Drug Repurposing Project/PubChem_PDB_Results'"
      ],
      "metadata": {
        "id": "lseoFpDy6xlE"
      },
      "execution_count": 12,
      "outputs": []
    },
    {
      "cell_type": "code",
      "source": [
        "#Create the Ultimate Dataset:\n",
        "import pandas as pd\n",
        "import json\n",
        "import os\n",
        "\n",
        "#Make the main dataset\n",
        "columns = ['pubchem_id', 'target_chain_id', 'target_sequence', 'malaria_match_id', 'malaria_sequence', 'percent_identity', 'alignment_length', 'evalue', 'bitscore']\n",
        "df = pd.DataFrame(columns=columns)"
      ],
      "metadata": {
        "id": "28OP7JlN7Cp_"
      },
      "execution_count": 13,
      "outputs": []
    },
    {
      "cell_type": "markdown",
      "source": [
        "✅ What it does:\n",
        "\n",
        "    Each folder = a PubChem ID\n",
        "\n",
        "    Each file = a target name (e.g., a protein chain)\n",
        "\n",
        "    Each file contains a list of BLAST hit dictionaries\n",
        "\n",
        "    You want one row per hit, with all relevant info"
      ],
      "metadata": {
        "id": "93PHgvkUuh4y"
      }
    },
    {
      "cell_type": "code",
      "source": [
        "# Traverse each PubChem ID folder\n",
        "for pubchem_id in os.listdir(json_path):\n",
        "    folder_path = os.path.join(json_path, pubchem_id)\n",
        "    if not os.path.isdir(folder_path):\n",
        "        continue\n",
        "\n",
        "    for file in os.listdir(folder_path):\n",
        "        if not file.endswith('.json'):\n",
        "            continue\n",
        "        target_chain_id = file.replace('.json', '')\n",
        "        file_path = os.path.join(folder_path, file)\n",
        "\n",
        "        with open(file_path, 'r') as f:\n",
        "            try:\n",
        "                data = json.load(f)\n",
        "            except Exception as e:\n",
        "                print(f\"Error reading {file_path}: {e}\")\n",
        "                continue\n",
        "\n",
        "        # Skip if message says \"No result found.\"\n",
        "        if isinstance(data, list) and len(data) > 0 and \"message\" in data[0]:\n",
        "            if data[0][\"message\"] == \"No result found.\":\n",
        "                continue\n",
        "\n",
        "        for hit in data:\n",
        "            row = {\n",
        "                'pubchem_id': pubchem_id,\n",
        "                'target_chain_id': target_chain_id,\n",
        "                'malaria_match_id': hit.get(\"subject_id\"),\n",
        "                'percent_identity': hit.get(\"percent_identity\"),\n",
        "                'alignment_length': hit.get(\"alignment_length\"),\n",
        "                'evalue': hit.get(\"evalue\"),\n",
        "                'bitscore': hit.get(\"bitscore\")\n",
        "            }\n",
        "            df = pd.concat([df, pd.DataFrame([row])], ignore_index=True)\n",
        "\n",
        "# Preview or save\n",
        "print(df.head())\n",
        "# df.to_csv(\"malaria_alignment_dataset.csv\", index=False)\n"
      ],
      "metadata": {
        "colab": {
          "base_uri": "https://localhost:8080/"
        },
        "id": "nzteDnZitUs0",
        "outputId": "ea8c6709-c8af-4a26-fffb-b46034e9860b"
      },
      "execution_count": 14,
      "outputs": [
        {
          "output_type": "stream",
          "name": "stderr",
          "text": [
            "<ipython-input-14-39ca453421af>:35: FutureWarning: The behavior of DataFrame concatenation with empty or all-NA entries is deprecated. In a future version, this will no longer exclude empty or all-NA columns when determining the result dtypes. To retain the old behavior, exclude the relevant entries before the concat operation.\n",
            "  df = pd.concat([df, pd.DataFrame([row])], ignore_index=True)\n"
          ]
        },
        {
          "output_type": "stream",
          "name": "stdout",
          "text": [
            "  pubchem_id target_chain_id target_sequence malaria_match_id  \\\n",
            "0   11511120          4I24_A             NaN           5DYK_A   \n",
            "1   11511120          4I24_A             NaN           1V0O_A   \n",
            "2   11511120          4I24_A             NaN           1OB3_A   \n",
            "3   11511120          4I24_B             NaN           5DYK_A   \n",
            "4   11511120          4I24_B             NaN           1V0O_A   \n",
            "\n",
            "  malaria_sequence  percent_identity alignment_length        evalue  bitscore  \n",
            "0              NaN         27.403846              208  1.415680e-13     159.0  \n",
            "1              NaN         24.074074              216  2.054470e-10     131.0  \n",
            "2              NaN         24.074074              216  2.112270e-10     131.0  \n",
            "3              NaN         28.571429              210  7.233640e-13     154.0  \n",
            "4              NaN         22.685185              216  1.192090e-11     141.0  \n"
          ]
        }
      ]
    },
    {
      "cell_type": "code",
      "source": [
        "df.to_csv(\"final_dataset.csv\", index=False)"
      ],
      "metadata": {
        "id": "D2erAP82tzv5"
      },
      "execution_count": 15,
      "outputs": []
    }
  ]
}