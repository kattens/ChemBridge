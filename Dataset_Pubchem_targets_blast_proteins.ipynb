{
  "nbformat": 4,
  "nbformat_minor": 0,
  "metadata": {
    "colab": {
      "provenance": [],
      "authorship_tag": "ABX9TyN0vudb+7b+CNbFf668TyMx",
      "include_colab_link": true
    },
    "kernelspec": {
      "name": "python3",
      "display_name": "Python 3"
    },
    "language_info": {
      "name": "python"
    }
  },
  "cells": [
    {
      "cell_type": "markdown",
      "metadata": {
        "id": "view-in-github",
        "colab_type": "text"
      },
      "source": [
        "<a href=\"https://colab.research.google.com/github/kattens/ChemBridge/blob/main/Dataset_Pubchem_targets_blast_proteins.ipynb\" target=\"_parent\"><img src=\"https://colab.research.google.com/assets/colab-badge.svg\" alt=\"Open In Colab\"/></a>"
      ]
    },
    {
      "cell_type": "markdown",
      "source": [
        "# **Our Goal**\n",
        "\n",
        "Now we want a dataset structure that:\n",
        "\n",
        "    Stores this triplet clearly\n",
        "\n",
        "    Allows you to:\n",
        "\n",
        "        Run sequence alignments between target and malaria proteins\n",
        "\n",
        "        Analyze which drugs may bind to malaria proteins\n",
        "\n",
        "        Potentially train or evaluate a model later\n",
        "\n",
        "✅ Recommended Dataset Format (JSONL or DataFrame)\n",
        "\n",
        "🧬 Each row represents a single target–malaria protein match\n",
        "\n"
      ],
      "metadata": {
        "id": "fQUBMbr4nWEb"
      }
    },
    {
      "cell_type": "code",
      "execution_count": 1,
      "metadata": {
        "colab": {
          "base_uri": "https://localhost:8080/"
        },
        "id": "K6CPDNdanLtK",
        "outputId": "c683edaa-fb87-4345-8c7e-a893e7e5aeda"
      },
      "outputs": [
        {
          "output_type": "execute_result",
          "data": {
            "text/plain": [
              "{'pubchem_id': '4735',\n",
              " 'target_chain_id': '1RKW_A',\n",
              " 'target_sequence': 'MVLSPADKTN...',\n",
              " 'malaria_match_id': '3D7A_A',\n",
              " 'malaria_sequence': 'MVLSPADKTV...',\n",
              " 'percent_identity': 85.2,\n",
              " 'alignment_length': 120,\n",
              " 'evalue': 1e-50,\n",
              " 'bitscore': 240.0}"
            ]
          },
          "metadata": {},
          "execution_count": 1
        }
      ],
      "source": [
        "{\n",
        "  \"pubchem_id\": \"4735\",\n",
        "  \"target_chain_id\": \"1RKW_A\",\n",
        "  \"target_sequence\": \"MVLSPADKTN...\",\n",
        "  \"malaria_match_id\": \"3D7A_A\",\n",
        "  \"malaria_sequence\": \"MVLSPADKTV...\",\n",
        "  \"percent_identity\": 85.2,\n",
        "  \"alignment_length\": 120,\n",
        "  \"evalue\": 1e-50,\n",
        "  \"bitscore\": 240.0\n",
        "}"
      ]
    },
    {
      "cell_type": "markdown",
      "source": [
        "\n",
        "Save all these in a list of rows → either:\n",
        "\n",
        "    A .jsonl file (one JSON per line)\n",
        "\n",
        "    Or .csv / Pandas DataFrame"
      ],
      "metadata": {
        "id": "KY4osLRjnfco"
      }
    }
  ]
}