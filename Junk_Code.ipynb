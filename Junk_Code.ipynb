{
  "nbformat": 4,
  "nbformat_minor": 0,
  "metadata": {
    "colab": {
      "provenance": [],
      "authorship_tag": "ABX9TyMHO7eYQR8bY7gdWdeJrIXm",
      "include_colab_link": true
    },
    "kernelspec": {
      "name": "python3",
      "display_name": "Python 3"
    },
    "language_info": {
      "name": "python"
    }
  },
  "cells": [
    {
      "cell_type": "markdown",
      "metadata": {
        "id": "view-in-github",
        "colab_type": "text"
      },
      "source": [
        "<a href=\"https://colab.research.google.com/github/kattens/PubChem-Data-Handler/blob/main/Junk_Code.ipynb\" target=\"_parent\"><img src=\"https://colab.research.google.com/assets/colab-badge.svg\" alt=\"Open In Colab\"/></a>"
      ]
    },
    {
      "cell_type": "code",
      "source": [
        "%%capture\n",
        "!pip install PubChemPy"
      ],
      "metadata": {
        "id": "56r0c3d1eg4T"
      },
      "execution_count": null,
      "outputs": []
    },
    {
      "cell_type": "code",
      "source": [
        "import csv\n",
        "import pandas as pd\n",
        "import pubchempy as pcp\n",
        "import os\n",
        "import requests"
      ],
      "metadata": {
        "id": "0tYFeKueejEw"
      },
      "execution_count": null,
      "outputs": []
    },
    {
      "cell_type": "code",
      "execution_count": null,
      "metadata": {
        "id": "cwHvy8ySeavO"
      },
      "outputs": [],
      "source": [
        "#THE PRACTICE CODE FOR SEEING IF THE REQUEST RETURNS THE PAGE WE WANT!\n",
        "'''\n",
        "import requests\n",
        "import webbrowser\n",
        "from IPython.display import IFrame\n",
        "\n",
        "def fetch_bioassay_results(cid):\n",
        "    query = f'https://pubchem.ncbi.nlm.nih.gov/compound/{cid}#section=BioAssay-Results&fullscreen=true'\n",
        "\n",
        "    try:\n",
        "        # Try opening in a new tab (might not work in all environments)\n",
        "        webbrowser.open_new_tab(query)\n",
        "    except Exception as e:\n",
        "        print(f\"Error opening in new tab: {e}\")\n",
        "        # Fallback: Open in default browser (new window or tab)\n",
        "        webbrowser.open(query)\n",
        "\n",
        "    # Embed the webpage in the notebook using IFrame\n",
        "    display(IFrame(query, width=800, height=600))\n",
        "\n",
        "    # Make the request with 'requests' (optional)\n",
        "    response = requests.get(query)\n",
        "    if response.status_code == 200:\n",
        "        print(f\"Successfully accessed the website for CID: {cid}\")\n",
        "    else:\n",
        "        print(f\"Failed to access the website for CID: {cid}, Status code: {response.status_code}\")\n",
        "\n",
        "# Example usage\n",
        "fetch_bioassay_results(5330175)\n",
        "'''"
      ]
    },
    {
      "cell_type": "code",
      "source": [
        "#code for using the PUG API in pubchem:\n",
        "\n",
        "'''\n",
        "import requests\n",
        "\n",
        "def fetch_and_download_csv(cid):\n",
        "    # Update the CSV URL you identified\n",
        "    csv_url = f\"https://pubchem.ncbi.nlm.nih.gov/rest/pug/compound/cid/{cid}/bioassay/csv\"\n",
        "\n",
        "    # Fetch the CSV file\n",
        "    try:\n",
        "        response = requests.get(csv_url)\n",
        "        if response.status_code == 200:\n",
        "            # Save the CSV file locally\n",
        "            file_name = f\"bioassay_results_{cid}.csv\"\n",
        "            with open(file_name, \"wb\") as file:\n",
        "                file.write(response.content)\n",
        "            print(f\"CSV file downloaded successfully as {file_name}\")\n",
        "        else:\n",
        "            print(f\"Failed to fetch the CSV file. Status code: {response.status_code}\")\n",
        "    except Exception as e:\n",
        "        print(f\"An error occurred: {e}\")\n",
        "\n",
        "# Example usage\n",
        "fetch_and_download_csv(5330175)\n",
        "\n",
        "'''"
      ],
      "metadata": {
        "id": "ZpDI53FRgqBg"
      },
      "execution_count": null,
      "outputs": []
    },
    {
      "cell_type": "code",
      "source": [
        "#give example from the bioessay_dict with the first entry\n",
        "#order -> view object -> list of tuples -> every tuple is (str, list of str)\n",
        "tuple_61 = list(bioessay_dict.items())[61]\n",
        "print(tuple_61[0])\n",
        "print(tuple_61[1])\n",
        "#check how many elements are there in the value which is a list\n",
        "print(len(list(bioessay_dict.values())[61]))\n",
        "#also drop the values that are similar only keep the unique ones in the list\n",
        "print(len(set(list(bioessay_dict.values())[61])))\n",
        "print(list(set(list(bioessay_dict.values())[61])))"
      ],
      "metadata": {
        "id": "zUJIeUTSeRXh"
      },
      "execution_count": null,
      "outputs": []
    },
    {
      "cell_type": "code",
      "source": [
        "#When you iterate over a dictionary directly (e.g., for key in bioessay_dict), Python defaults to iterating over the dictionary's keys.\n",
        "#The __iter__ method of a dictionary returns an iterator over the keys. (built in defualt)\n",
        "\n",
        "# Create a new dictionary with updated keys\n",
        "updated_bioessay_dict = {}\n",
        "for key in bioessay_dict:\n",
        "    new_key = key.replace('.csv', '')  # Remove .csv from the key\n",
        "    updated_bioessay_dict[new_key] = bioessay_dict[key]  # Assign the value to the new key\n",
        "\n",
        "# Replace the old dictionary with the updated one\n",
        "bioessay_dict = updated_bioessay_dict\n",
        "\n",
        "print(bioessay_dict.keys())"
      ],
      "metadata": {
        "id": "1dcS9aTVguIa"
      },
      "execution_count": null,
      "outputs": []
    }
  ]
}