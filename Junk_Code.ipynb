{
  "nbformat": 4,
  "nbformat_minor": 0,
  "metadata": {
    "colab": {
      "provenance": [],
      "authorship_tag": "ABX9TyMjWsx1WjZ0BfDOh3VS6xA7",
      "include_colab_link": true
    },
    "kernelspec": {
      "name": "python3",
      "display_name": "Python 3"
    },
    "language_info": {
      "name": "python"
    }
  },
  "cells": [
    {
      "cell_type": "markdown",
      "metadata": {
        "id": "view-in-github",
        "colab_type": "text"
      },
      "source": [
        "<a href=\"https://colab.research.google.com/github/kattens/PubChem-Data-Handler/blob/main/Junk_Code.ipynb\" target=\"_parent\"><img src=\"https://colab.research.google.com/assets/colab-badge.svg\" alt=\"Open In Colab\"/></a>"
      ]
    },
    {
      "cell_type": "code",
      "source": [
        "%%capture\n",
        "!pip install PubChemPy"
      ],
      "metadata": {
        "id": "56r0c3d1eg4T"
      },
      "execution_count": null,
      "outputs": []
    },
    {
      "cell_type": "code",
      "source": [
        "import csv\n",
        "import pandas as pd\n",
        "import pubchempy as pcp\n",
        "import os\n",
        "import requests"
      ],
      "metadata": {
        "id": "0tYFeKueejEw"
      },
      "execution_count": null,
      "outputs": []
    },
    {
      "cell_type": "code",
      "execution_count": null,
      "metadata": {
        "id": "cwHvy8ySeavO"
      },
      "outputs": [],
      "source": [
        "#THE PRACTICE CODE FOR SEEING IF THE REQUEST RETURNS THE PAGE WE WANT!\n",
        "'''\n",
        "import requests\n",
        "import webbrowser\n",
        "from IPython.display import IFrame\n",
        "\n",
        "def fetch_bioassay_results(cid):\n",
        "    query = f'https://pubchem.ncbi.nlm.nih.gov/compound/{cid}#section=BioAssay-Results&fullscreen=true'\n",
        "\n",
        "    try:\n",
        "        # Try opening in a new tab (might not work in all environments)\n",
        "        webbrowser.open_new_tab(query)\n",
        "    except Exception as e:\n",
        "        print(f\"Error opening in new tab: {e}\")\n",
        "        # Fallback: Open in default browser (new window or tab)\n",
        "        webbrowser.open(query)\n",
        "\n",
        "    # Embed the webpage in the notebook using IFrame\n",
        "    display(IFrame(query, width=800, height=600))\n",
        "\n",
        "    # Make the request with 'requests' (optional)\n",
        "    response = requests.get(query)\n",
        "    if response.status_code == 200:\n",
        "        print(f\"Successfully accessed the website for CID: {cid}\")\n",
        "    else:\n",
        "        print(f\"Failed to access the website for CID: {cid}, Status code: {response.status_code}\")\n",
        "\n",
        "# Example usage\n",
        "fetch_bioassay_results(5330175)\n",
        "'''"
      ]
    }
  ]
}