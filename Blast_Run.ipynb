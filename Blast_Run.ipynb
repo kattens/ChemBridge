{
  "nbformat": 4,
  "nbformat_minor": 0,
  "metadata": {
    "colab": {
      "provenance": [],
      "mount_file_id": "1HwKC3sdviMQn28OTV179GIEhHOcdh0KK",
      "authorship_tag": "ABX9TyPgco7J1E8dT64+1Se01yhq",
      "include_colab_link": true
    },
    "kernelspec": {
      "name": "python3",
      "display_name": "Python 3"
    },
    "language_info": {
      "name": "python"
    }
  },
  "cells": [
    {
      "cell_type": "markdown",
      "metadata": {
        "id": "view-in-github",
        "colab_type": "text"
      },
      "source": [
        "<a href=\"https://colab.research.google.com/github/kattens/PubChem-Data-Handler/blob/main/Blast_Run.ipynb\" target=\"_parent\"><img src=\"https://colab.research.google.com/assets/colab-badge.svg\" alt=\"Open In Colab\"/></a>"
      ]
    },
    {
      "cell_type": "markdown",
      "source": [
        "# Recap:\n",
        "\n",
        "We created a CSV file using the PubChem IDs from the initial `cdot_targets` CSV file. This file includes all the PubChem IDs for which we searched PubChem to identify targets that interact with them, recording these interactions in the \"Target Names\" column. We also included a column for \"Accession IDs,\" which are the UniProt IDs corresponding to each target name. To streamline the process, we added a column with only gene names to enhance the accuracy of the BLAST results using the accession IDs."
      ],
      "metadata": {
        "id": "gYJzsT4yMynQ"
      }
    },
    {
      "cell_type": "markdown",
      "source": [
        "#Goal:\n",
        "we wanna run the blast from our previously created csv file with the targets uniprot ids agains our target (plasmodiom malaria)"
      ],
      "metadata": {
        "id": "A-Uw408glM5E"
      }
    },
    {
      "cell_type": "code",
      "source": [
        "#install Bio\n",
        "!pip install biopython"
      ],
      "metadata": {
        "colab": {
          "base_uri": "https://localhost:8080/"
        },
        "id": "7Au6SapAlqi7",
        "outputId": "adaf0e12-2714-42a3-bfcc-d5b9a675f0b1"
      },
      "execution_count": null,
      "outputs": [
        {
          "output_type": "stream",
          "name": "stdout",
          "text": [
            "Collecting biopython\n",
            "  Downloading biopython-1.85-cp311-cp311-manylinux_2_17_x86_64.manylinux2014_x86_64.whl.metadata (13 kB)\n",
            "Requirement already satisfied: numpy in /usr/local/lib/python3.11/dist-packages (from biopython) (1.26.4)\n",
            "Downloading biopython-1.85-cp311-cp311-manylinux_2_17_x86_64.manylinux2014_x86_64.whl (3.3 MB)\n",
            "\u001b[2K   \u001b[90m━━━━━━━━━━━━━━━━━━━━━━━━━━━━━━━━━━━━━━━━\u001b[0m \u001b[32m3.3/3.3 MB\u001b[0m \u001b[31m14.6 MB/s\u001b[0m eta \u001b[36m0:00:00\u001b[0m\n",
            "\u001b[?25hInstalling collected packages: biopython\n",
            "Successfully installed biopython-1.85\n"
          ]
        }
      ]
    },
    {
      "cell_type": "markdown",
      "source": [
        "The NCBIWWW module allows for running BLAST searches online, while NCBIXML parses the XML results from these searches into a manageable format in Python.\n",
        "The `SeqIO` module in Biopython is used for reading and writing sequences in various bioinformatics file formats."
      ],
      "metadata": {
        "id": "yytwbIuPRzNj"
      }
    },
    {
      "cell_type": "code",
      "execution_count": null,
      "metadata": {
        "id": "Cac2TWsilHmr"
      },
      "outputs": [],
      "source": [
        "import csv\n",
        "import pandas as pd\n",
        "from Bio.Blast import NCBIWWW,NCBIXML\n",
        "from Bio import SeqIO\n",
        "import requests"
      ]
    },
    {
      "cell_type": "code",
      "source": [
        "path = '/content/drive/MyDrive/target_results.csv'\n",
        "df = pd.read_csv(path)"
      ],
      "metadata": {
        "id": "_OIG7cU8lmWt"
      },
      "execution_count": null,
      "outputs": []
    },
    {
      "cell_type": "code",
      "source": [
        "df.head()"
      ],
      "metadata": {
        "colab": {
          "base_uri": "https://localhost:8080/",
          "height": 206
        },
        "id": "m9vCO-Zbl39F",
        "outputId": "c9f87a50-8e16-4705-d25b-145fd8577780"
      },
      "execution_count": null,
      "outputs": [
        {
          "output_type": "execute_result",
          "data": {
            "text/plain": [
              "   PubChem ID                                       Target Names  \\\n",
              "0     5330175  ['Tyrosineprotein', 'NTMT1', 'FH', 'Chain', 'N...   \n",
              "1     5311340  ['ID4', 'ALDH1A1', 'EZH2', 'MYC', 'GLA', 'APOB...   \n",
              "2    11511120  ['AcylCoA', 'Epidermal', 'Mitogenactivated', '...   \n",
              "3      221354  ['CYP2D6', 'lethal', 'ALDH1A1', 'RGS12', 'ALOX...   \n",
              "4     6806409                                                 []   \n",
              "\n",
              "                                       Accession IDs  \\\n",
              "0  ['A0A0K2VLS4', 'S4R3J7', 'P07954', 'P0C023', '...   \n",
              "1  ['P47928', 'Q5SYQ8', 'Q921E6', 'A0A8A5GQJ2', '...   \n",
              "2  ['B2BXS0', 'Q9Z0P7', 'L8GZV5', 'P05067', 'Q9ZN...   \n",
              "3  ['P10635', 'A1Z198', 'Q5SYQ8', 'E9Q652', 'I3L1...   \n",
              "4                                                 []   \n",
              "\n",
              "                                    Target Gene Name  \n",
              "0  ['NTMT1', 'FH', 'NSD2', 'KDR', 'GPX4', 'COMT',...  \n",
              "1  ['ID4', 'ALDH1A1', 'EZH2', 'MYC', 'GLA', 'APOB...  \n",
              "2  ['NADH', 'MAP', 'CYP2C9', 'NSD2', 'ERBB4', 'GP...  \n",
              "3  ['CYP2D6', 'ALDH1A1', 'RGS12', 'ALOX15B', 'HPG...  \n",
              "4                                                 []  "
            ],
            "text/html": [
              "\n",
              "  <div id=\"df-27d280e2-82e7-4eec-85b9-ba778e254b06\" class=\"colab-df-container\">\n",
              "    <div>\n",
              "<style scoped>\n",
              "    .dataframe tbody tr th:only-of-type {\n",
              "        vertical-align: middle;\n",
              "    }\n",
              "\n",
              "    .dataframe tbody tr th {\n",
              "        vertical-align: top;\n",
              "    }\n",
              "\n",
              "    .dataframe thead th {\n",
              "        text-align: right;\n",
              "    }\n",
              "</style>\n",
              "<table border=\"1\" class=\"dataframe\">\n",
              "  <thead>\n",
              "    <tr style=\"text-align: right;\">\n",
              "      <th></th>\n",
              "      <th>PubChem ID</th>\n",
              "      <th>Target Names</th>\n",
              "      <th>Accession IDs</th>\n",
              "      <th>Target Gene Name</th>\n",
              "    </tr>\n",
              "  </thead>\n",
              "  <tbody>\n",
              "    <tr>\n",
              "      <th>0</th>\n",
              "      <td>5330175</td>\n",
              "      <td>['Tyrosineprotein', 'NTMT1', 'FH', 'Chain', 'N...</td>\n",
              "      <td>['A0A0K2VLS4', 'S4R3J7', 'P07954', 'P0C023', '...</td>\n",
              "      <td>['NTMT1', 'FH', 'NSD2', 'KDR', 'GPX4', 'COMT',...</td>\n",
              "    </tr>\n",
              "    <tr>\n",
              "      <th>1</th>\n",
              "      <td>5311340</td>\n",
              "      <td>['ID4', 'ALDH1A1', 'EZH2', 'MYC', 'GLA', 'APOB...</td>\n",
              "      <td>['P47928', 'Q5SYQ8', 'Q921E6', 'A0A8A5GQJ2', '...</td>\n",
              "      <td>['ID4', 'ALDH1A1', 'EZH2', 'MYC', 'GLA', 'APOB...</td>\n",
              "    </tr>\n",
              "    <tr>\n",
              "      <th>2</th>\n",
              "      <td>11511120</td>\n",
              "      <td>['AcylCoA', 'Epidermal', 'Mitogenactivated', '...</td>\n",
              "      <td>['B2BXS0', 'Q9Z0P7', 'L8GZV5', 'P05067', 'Q9ZN...</td>\n",
              "      <td>['NADH', 'MAP', 'CYP2C9', 'NSD2', 'ERBB4', 'GP...</td>\n",
              "    </tr>\n",
              "    <tr>\n",
              "      <th>3</th>\n",
              "      <td>221354</td>\n",
              "      <td>['CYP2D6', 'lethal', 'ALDH1A1', 'RGS12', 'ALOX...</td>\n",
              "      <td>['P10635', 'A1Z198', 'Q5SYQ8', 'E9Q652', 'I3L1...</td>\n",
              "      <td>['CYP2D6', 'ALDH1A1', 'RGS12', 'ALOX15B', 'HPG...</td>\n",
              "    </tr>\n",
              "    <tr>\n",
              "      <th>4</th>\n",
              "      <td>6806409</td>\n",
              "      <td>[]</td>\n",
              "      <td>[]</td>\n",
              "      <td>[]</td>\n",
              "    </tr>\n",
              "  </tbody>\n",
              "</table>\n",
              "</div>\n",
              "    <div class=\"colab-df-buttons\">\n",
              "\n",
              "  <div class=\"colab-df-container\">\n",
              "    <button class=\"colab-df-convert\" onclick=\"convertToInteractive('df-27d280e2-82e7-4eec-85b9-ba778e254b06')\"\n",
              "            title=\"Convert this dataframe to an interactive table.\"\n",
              "            style=\"display:none;\">\n",
              "\n",
              "  <svg xmlns=\"http://www.w3.org/2000/svg\" height=\"24px\" viewBox=\"0 -960 960 960\">\n",
              "    <path d=\"M120-120v-720h720v720H120Zm60-500h600v-160H180v160Zm220 220h160v-160H400v160Zm0 220h160v-160H400v160ZM180-400h160v-160H180v160Zm440 0h160v-160H620v160ZM180-180h160v-160H180v160Zm440 0h160v-160H620v160Z\"/>\n",
              "  </svg>\n",
              "    </button>\n",
              "\n",
              "  <style>\n",
              "    .colab-df-container {\n",
              "      display:flex;\n",
              "      gap: 12px;\n",
              "    }\n",
              "\n",
              "    .colab-df-convert {\n",
              "      background-color: #E8F0FE;\n",
              "      border: none;\n",
              "      border-radius: 50%;\n",
              "      cursor: pointer;\n",
              "      display: none;\n",
              "      fill: #1967D2;\n",
              "      height: 32px;\n",
              "      padding: 0 0 0 0;\n",
              "      width: 32px;\n",
              "    }\n",
              "\n",
              "    .colab-df-convert:hover {\n",
              "      background-color: #E2EBFA;\n",
              "      box-shadow: 0px 1px 2px rgba(60, 64, 67, 0.3), 0px 1px 3px 1px rgba(60, 64, 67, 0.15);\n",
              "      fill: #174EA6;\n",
              "    }\n",
              "\n",
              "    .colab-df-buttons div {\n",
              "      margin-bottom: 4px;\n",
              "    }\n",
              "\n",
              "    [theme=dark] .colab-df-convert {\n",
              "      background-color: #3B4455;\n",
              "      fill: #D2E3FC;\n",
              "    }\n",
              "\n",
              "    [theme=dark] .colab-df-convert:hover {\n",
              "      background-color: #434B5C;\n",
              "      box-shadow: 0px 1px 3px 1px rgba(0, 0, 0, 0.15);\n",
              "      filter: drop-shadow(0px 1px 2px rgba(0, 0, 0, 0.3));\n",
              "      fill: #FFFFFF;\n",
              "    }\n",
              "  </style>\n",
              "\n",
              "    <script>\n",
              "      const buttonEl =\n",
              "        document.querySelector('#df-27d280e2-82e7-4eec-85b9-ba778e254b06 button.colab-df-convert');\n",
              "      buttonEl.style.display =\n",
              "        google.colab.kernel.accessAllowed ? 'block' : 'none';\n",
              "\n",
              "      async function convertToInteractive(key) {\n",
              "        const element = document.querySelector('#df-27d280e2-82e7-4eec-85b9-ba778e254b06');\n",
              "        const dataTable =\n",
              "          await google.colab.kernel.invokeFunction('convertToInteractive',\n",
              "                                                    [key], {});\n",
              "        if (!dataTable) return;\n",
              "\n",
              "        const docLinkHtml = 'Like what you see? Visit the ' +\n",
              "          '<a target=\"_blank\" href=https://colab.research.google.com/notebooks/data_table.ipynb>data table notebook</a>'\n",
              "          + ' to learn more about interactive tables.';\n",
              "        element.innerHTML = '';\n",
              "        dataTable['output_type'] = 'display_data';\n",
              "        await google.colab.output.renderOutput(dataTable, element);\n",
              "        const docLink = document.createElement('div');\n",
              "        docLink.innerHTML = docLinkHtml;\n",
              "        element.appendChild(docLink);\n",
              "      }\n",
              "    </script>\n",
              "  </div>\n",
              "\n",
              "\n",
              "<div id=\"df-aabe72f0-1c01-4d19-9b29-b58c49aaf1db\">\n",
              "  <button class=\"colab-df-quickchart\" onclick=\"quickchart('df-aabe72f0-1c01-4d19-9b29-b58c49aaf1db')\"\n",
              "            title=\"Suggest charts\"\n",
              "            style=\"display:none;\">\n",
              "\n",
              "<svg xmlns=\"http://www.w3.org/2000/svg\" height=\"24px\"viewBox=\"0 0 24 24\"\n",
              "     width=\"24px\">\n",
              "    <g>\n",
              "        <path d=\"M19 3H5c-1.1 0-2 .9-2 2v14c0 1.1.9 2 2 2h14c1.1 0 2-.9 2-2V5c0-1.1-.9-2-2-2zM9 17H7v-7h2v7zm4 0h-2V7h2v10zm4 0h-2v-4h2v4z\"/>\n",
              "    </g>\n",
              "</svg>\n",
              "  </button>\n",
              "\n",
              "<style>\n",
              "  .colab-df-quickchart {\n",
              "      --bg-color: #E8F0FE;\n",
              "      --fill-color: #1967D2;\n",
              "      --hover-bg-color: #E2EBFA;\n",
              "      --hover-fill-color: #174EA6;\n",
              "      --disabled-fill-color: #AAA;\n",
              "      --disabled-bg-color: #DDD;\n",
              "  }\n",
              "\n",
              "  [theme=dark] .colab-df-quickchart {\n",
              "      --bg-color: #3B4455;\n",
              "      --fill-color: #D2E3FC;\n",
              "      --hover-bg-color: #434B5C;\n",
              "      --hover-fill-color: #FFFFFF;\n",
              "      --disabled-bg-color: #3B4455;\n",
              "      --disabled-fill-color: #666;\n",
              "  }\n",
              "\n",
              "  .colab-df-quickchart {\n",
              "    background-color: var(--bg-color);\n",
              "    border: none;\n",
              "    border-radius: 50%;\n",
              "    cursor: pointer;\n",
              "    display: none;\n",
              "    fill: var(--fill-color);\n",
              "    height: 32px;\n",
              "    padding: 0;\n",
              "    width: 32px;\n",
              "  }\n",
              "\n",
              "  .colab-df-quickchart:hover {\n",
              "    background-color: var(--hover-bg-color);\n",
              "    box-shadow: 0 1px 2px rgba(60, 64, 67, 0.3), 0 1px 3px 1px rgba(60, 64, 67, 0.15);\n",
              "    fill: var(--button-hover-fill-color);\n",
              "  }\n",
              "\n",
              "  .colab-df-quickchart-complete:disabled,\n",
              "  .colab-df-quickchart-complete:disabled:hover {\n",
              "    background-color: var(--disabled-bg-color);\n",
              "    fill: var(--disabled-fill-color);\n",
              "    box-shadow: none;\n",
              "  }\n",
              "\n",
              "  .colab-df-spinner {\n",
              "    border: 2px solid var(--fill-color);\n",
              "    border-color: transparent;\n",
              "    border-bottom-color: var(--fill-color);\n",
              "    animation:\n",
              "      spin 1s steps(1) infinite;\n",
              "  }\n",
              "\n",
              "  @keyframes spin {\n",
              "    0% {\n",
              "      border-color: transparent;\n",
              "      border-bottom-color: var(--fill-color);\n",
              "      border-left-color: var(--fill-color);\n",
              "    }\n",
              "    20% {\n",
              "      border-color: transparent;\n",
              "      border-left-color: var(--fill-color);\n",
              "      border-top-color: var(--fill-color);\n",
              "    }\n",
              "    30% {\n",
              "      border-color: transparent;\n",
              "      border-left-color: var(--fill-color);\n",
              "      border-top-color: var(--fill-color);\n",
              "      border-right-color: var(--fill-color);\n",
              "    }\n",
              "    40% {\n",
              "      border-color: transparent;\n",
              "      border-right-color: var(--fill-color);\n",
              "      border-top-color: var(--fill-color);\n",
              "    }\n",
              "    60% {\n",
              "      border-color: transparent;\n",
              "      border-right-color: var(--fill-color);\n",
              "    }\n",
              "    80% {\n",
              "      border-color: transparent;\n",
              "      border-right-color: var(--fill-color);\n",
              "      border-bottom-color: var(--fill-color);\n",
              "    }\n",
              "    90% {\n",
              "      border-color: transparent;\n",
              "      border-bottom-color: var(--fill-color);\n",
              "    }\n",
              "  }\n",
              "</style>\n",
              "\n",
              "  <script>\n",
              "    async function quickchart(key) {\n",
              "      const quickchartButtonEl =\n",
              "        document.querySelector('#' + key + ' button');\n",
              "      quickchartButtonEl.disabled = true;  // To prevent multiple clicks.\n",
              "      quickchartButtonEl.classList.add('colab-df-spinner');\n",
              "      try {\n",
              "        const charts = await google.colab.kernel.invokeFunction(\n",
              "            'suggestCharts', [key], {});\n",
              "      } catch (error) {\n",
              "        console.error('Error during call to suggestCharts:', error);\n",
              "      }\n",
              "      quickchartButtonEl.classList.remove('colab-df-spinner');\n",
              "      quickchartButtonEl.classList.add('colab-df-quickchart-complete');\n",
              "    }\n",
              "    (() => {\n",
              "      let quickchartButtonEl =\n",
              "        document.querySelector('#df-aabe72f0-1c01-4d19-9b29-b58c49aaf1db button');\n",
              "      quickchartButtonEl.style.display =\n",
              "        google.colab.kernel.accessAllowed ? 'block' : 'none';\n",
              "    })();\n",
              "  </script>\n",
              "</div>\n",
              "\n",
              "    </div>\n",
              "  </div>\n"
            ],
            "application/vnd.google.colaboratory.intrinsic+json": {
              "type": "dataframe",
              "variable_name": "df",
              "summary": "{\n  \"name\": \"df\",\n  \"rows\": 63,\n  \"fields\": [\n    {\n      \"column\": \"PubChem ID\",\n      \"properties\": {\n        \"dtype\": \"number\",\n        \"std\": 28178895,\n        \"min\": 2798,\n        \"max\": 135421339,\n        \"num_unique_values\": 63,\n        \"samples\": [\n          11785878,\n          9829836,\n          5330175\n        ],\n        \"semantic_type\": \"\",\n        \"description\": \"\"\n      }\n    },\n    {\n      \"column\": \"Target Names\",\n      \"properties\": {\n        \"dtype\": \"string\",\n        \"num_unique_values\": 59,\n        \"samples\": [\n          \"['Tyrosineprotein', 'NTMT1', 'FH', 'Chain', 'NSD2', 'KDR', 'GPX4', 'Luciferin', 'COMT', 'Protooncogene', 'Tyrosineprotein', 'NNMT', 'HNMT', 'Tyrosineprotein', 'Tyrosineprotein', 'GPT2', 'Canis', 'Rattus', 'Tyrosineprotein', 'Replicase', 'CYP3A4', 'CIB1', 'SRC', 'CYP2C9', 'S', 'GAMT', 'IFNB1', 'PNMT', 'Severe', 'Tyrosineprotein', 'GPX1', 'Proteintyrosine', 'Histone', 'IP6K1', 'GNMT', 'CYP2D6', 'Mus', 'CYP3A7']\",\n          \"['Rorc', 'MEN1', 'ID4', 'EGFR', 'THRB', 'FH', 'ERBB2', 'NTMT1', 'EZH2', 'Cgas', 'KMT2A', 'MYC', 'IFNG', 'CGAS', 'shiga', 'NFKB1', 'Chain', 'GLA', 'GAPDH', 'COMT', 'MAP2K1', 'NNMT', 'TP53', 'HNMT', 'shiga', 'STAT3', 'IDH1', 'GAA', 'Chain', 'KAT2A', 'Chain', 'RAF1', 'heat', 'Chain', 'GBA1', 'GAMT', 'PNMT', 'MAPK1', 'Chain', 'GPX1', 'Histone', 'VDR', 'NSD2', 'GNMT', 'POLK', 'phosphopantetheinyl', 'BLM']\",\n          \"['Solute', 'CFTR', 'ID4', 'ERG', 'HTR5A', 'RARA', 'Slc22a2', 'DRD1', 'Slc22a1', 'NCOA1', 'apical', 'Deoxynucleoside', 'MYC', 'SUMO1', 'Plasmodium', 'Neuropeptide', 'Vasopressin', 'Chain', 'Chain', 'ESR2', 'potassium', 'Kcnq2', 'NR2E3', 'ABCB6', 'UBE2M', 'CYP2C9', 'env', 'RIN1', 'PF3D7_1324900', 'TAAR1', 'Leishmania', 'GNRHR', 'CASP1', 'LOC116160065', 'HOXA9', 'Casp7', 'KCNJ6', 'NSD2', 'T', 'Muscarinic', 'TRPV1', 'TNNC1', 'TRHR', 'Chain', 'Amine', 'GSK3A', 'GPR151', 'UDPglucuronosyltransferase', 'Vasopressin', 'Multidrug', 'PAX8', 'NR1H4', 'SCN1A', 'DNMT1', 'tsaE', 'CYP19A1', 'PPARD', 'GPT2', 'SNCA', 'Abhd17b', 'FEN1', 'HRH1', 'B2', 'PSIP1', 'Chain', 'Txnrd1', 'Deltatype', 'PNMT', 'S100A4', 'Cytochrome', 'ATF6', 'KCNK9', 'Adenosine', 'cAMPspecific', 'Cytochrome', 'Adenosine', 'Slco1a4', 'RTT109', 'Slco1a1', 'Solute', 'Kcnt2', 'P4HB', 'RAD54L', 'SLC22A8', 'RAPGEF4', 'ssb', 'KCNA7', 'botulinum', 'CASP7', 'LRRC26', 'Nuclear', 'hypothetical', 'TLR9', 'ATM', 'UL50', 'HSPB1', 'CYP1A2', 'APP', 'Histamine', 'Kcnj2', 'GALC', 'Mus', 'Glutamate', 'MMP14', 'euchromatic', 'Solute', 'GOPC', 'TNNI3', 'Candida', 'FH', 'Cacna1c', 'MRGPRX1', 'Androgen', 'JUN', 'tsaE', 'integrase,', 'heat', 'Scn5a', 'Thrb', 'ESRRA', 'Rattus', 'GMNN', 'ASAP1', 'Sodium', 'CIB1', 'RBBP8', 'Plasmodium', 'RAB9A', 'SENP8', 'Human', 'CRHBP', 'CASP6', 'Sodiumdependent', 'CHRM1', 'Histamine', 'MAPT', '5hydroxytryptamine', 'IP6K1', 'MSRA', 'CYP3A7', 'DNA', 'SLC22A5', 'Gli1', 'Il2', 'NTSR1', 'KCNT1', 'NS1', 'TRA', 'Trypanosoma', 'KCNA5', 'Quinolone', 'PGR', 'Chain', 'Growth', 'APOBEC3G', 'TPM1', 'PLA2G7', 'EBNA1', 'PPM1D', 'CYP2C19', 'protein', 'CYP1B1', 'Canis', 'AHR', 'KAT2A', 'GRK2', 'large', 'Melanocortin', 'LCMVsSgp2', 'Nr1i2', 'S', 'glucose6phosphate', 'Kcna4', 'SIX1', 'Cyp2d3', 'Gastrin/cholecystokinin', 'KLK7', 'GPX1', 'SCN5A', 'HIF1A', 'VDR', 'HTRA1', 'Histidinerich', 'fzo1', 'PLK1', 'TDP1', 'PF3D7_0217500', 'Cyp2d1', 'HPGD', 'EYA2', 'KCNK5', 'Smarca4', 'KCNK16', 'Fosb', 'IFNG', 'Type1', 'CGAS', 'SLC29A4', 'Chain', 'hypothetical', 'Rv3671c', 'KCNH2', 'ADAM17', 'RGS4', 'BCL2L1', 'PRKACB', 'ACHE', 'Voltagedependent', 'Prostaglandin', 'CBX1', 'COPS5', 'VMA11', 'KCNMA1', 'Kcnu1', 'POLI', 'AR', 'RXFP1', 'PADI4', 'UHRF1', 'priA', 'GAMT', 'Cytochrome', 'Kcnk10', 'M2', 'NR5A2', 'FGF22', 'NFE2L2', 'CCT2', 'UDPglucuronosyltransferase', 'citrate', 'ALOX12', 'recC', 'MC4R', 'GLP1R', 'GFER', 'Prkacb', 'Estrogen', 'thioredoxin', 'CACNA1C', 'Impa1', 'KCNMB1', 'KCNMB4', 'KCNH1', 'FUS', 'hypothetical', 'Alpha1A', 'SLCO1A2', 'Klebsiella', 'PRNP', 'PRKN', 'KISS1R', 'recA', 'ARRB1', 'NCOA2', 'PF3D7_1337100', 'IDH1', 'Slc22a1', 'glf', 'Nucleoprotein', 'NOD2', 'CXCR6', 'Alpha2A', 'SCN2A', '5hydroxytryptamine', 'heat', 'Kappatype', 'UL53', 'TOR1A', 'CASP3', 'LYPLA1', 'PRKAR1A', 'IFNB1', 'PLCB3', 'Beta2', 'Dyrk1a', 'DAGLB', 'Chain', 'Kcnk6', 'PRKAR2B', 'GNAI1', 'CYP2D6', 'Rorc', 'CDK5', 'Abcb1b', 'Cytochrome', 'ABCC2', 'Kcnh5', 'RGS12', 'Chain', 'USP1', 'Muscarinic', 'PINK1', 'LMP1', 'GPR183', 'Kcnb1', 'RORC', 'OXTR', 'mazF', 'lon', 'Cyp2d2', 'PLA2G3', 'Muscarinic', 'Multidrug', 'ALOX15', 'Escherichia', 'daf12', 'TSHR', 'CRHR2', 'PRMT1', 'PPARG', 'ATPbinding', 'ALDH1A1', 'PTPN5', 'ADAM10', 'ARNT', 'PAFAH1B3', 'Solute', 'recombination', 'AKT1', 'EZH2', 'Trpc6', 'PAFAH2', 'UDPglucuronosyltransferase', 'ATG4B', 'HHV8GK18_gp81', 'Htr2a', 'TNNT2', 'GLA', 'fba', 'NR3C1', 'SLC22A1', 'TARDBP', 'LARGE1', 'IDE', 'GAA', 'DnaK', 'PPME1', 'NR1I2', 'ACP1', 'Ano1', 'GSTO1', 'GSK3B', 'CACNA1D', 'IL1B', 'GBA1', 'OPRM1', 'Arfgap1', 'GLS', 'Multidrug', 'lysophospholipase', 'Tb10.70.6470', 'GNMT', 'cyclic', 'LOC100757539', 'bioA', 'THRB', 'L3MBTL1', 'Chain', 'Cgas', 'Sodium', 'Motilin', 'Genome', 'STAT3', 'Chain', 'Scarb1', 'RXRA', 'CDK5R1', 'TDP2', 'Cholesterol', 'cathepsin', 'Sodiumdependent', 'autoinducer', 'CACNA1S', 'FXN', 'Chain', 'lactate', 'PSMD14', 'MARVELD2', 'ITGA4', 'CHRM4', 'tatA', 'BAZ2B', 'OPRD1', 'Canalicular', 'KCNU1', 'DRD2', 'SELE', 'ALOX15B', 'SMPD1', 'NR1I3', 'Tb927.3.3270', 'Albumin', 'Cavia', 'CCR6', 'LANA', 'PIN1', 'ATXN2', 'PF3D7_1443900', 'SNUPN', 'Kcnk9', 'D(3)', 'D(1A)', 'CAALFM_CR05890CA', 'NR0B1', 'CTDSP1', 'BCHE', 'recB', 'MCL1', 'KEAP1', 'Severe', 'CHRM5', 'Cacna1c', 'HBB', 'caspase', 'NFKBIA', 'MLLT3', 'SIRT5', 'KCNMB2', 'Cyp2d4', 'PGKC', 'Histamine', 'DRD3', 'Beta1', 'NPC1', 'SIAE', 'Oryctolagus', 'WRN', 'botulinum', 'Ppp1r15a', 'MEP2', 'skn1', 'HDAC9', '5hydroxytryptamine', 'Sodium', 'NAE1', 'recD', 'PglD', '5hydroxytryptamine', 'TNF', 'Kcnt1', 'B18R', 'SMAD3', 'HTT', 'KCNK3', 'Potassium', 'MAPK1', 'vpr', 'MBD2', 'Casp3', 'LASVsSgp1', 'Neuronal', 'KPNB1', 'SLCO1B1', 'ESR1', 'Chain', 'BCL2L11', 'PTH1R', 'FKBP1A', 'FATTYACIDCoA', 'KCNQ1', 'Sodium', 'GNAS', 'Plau', 'Melanocortin', 'PPARA', 'Chain', 'Entamoeba', 'D(2)', 'Abcb1a', 'GLI3', 'ATAD5', 'SCN3A', 'toxin', 'Chain', 'CXCL8', 'BZLF1', 'CYP3A4', 'RACGAP1', 'ERAP1', 'SLC5A7', 'RIPK2', 'PF3D7_1437900', 'POLH', 'PF3D7_0717500', 'LASVsLgp1', 'Progesterone', 'gld1', 'AGP1', 'Trpc4', 'D1Y31_gp1', 'Chain', 'ATPdependent', 'PLIN5', 'ABCB11', 'Hsf1', 'RCE1', 'PI4K2A', 'TSG101', 'BRCA1', 'streptokinase', 'NTMT1', 'UDPglucuronosyltransferase', 'Chain', 'PREPL', 'likely', 'ABHD5', 'Equilibrative', 'UDPglucuronosyltransferase', 'Cholecystokinin', 'NFKB1', 'TP53', 'SMARCA2', 'CACNA1F', 'NR2F2', 'Adenosine', 'TNFRSF10B', 'ABCB1', 'HDAC3', 'core', 'Pseudomonas', 'AVPR1A', 'UBE2N', 'POLK', 'mex5', 'ache', 'cGMPinhibited', 'Alpha2C', 'Mutype', 'HTR2B', 'Plaur', 'Gammaaminobutyric', 'PF3D7_1113900', 'MCOLN1', 'Slc22a5', 'Itgal', '5hydroxytryptamine', 'HCRTR1', 'Homo', 'SLC47A1', 'NNMT', 'Cryptococcus', 'Alpha2B', 'UCHL5', 'sentrinspecific', 'Prostaglandin', 'PPP1CA', 'RPL19A', 'Staphylococcus', 'ClpP', 'SLC22A4', 'BCHE', 'PABPC1', 'RAPGEF3', 'PPP5C', 'APOBEC3A', 'Abhd4', 'Cannabinoid', 'Chain', 'ADRB2', 'GPR32', 'Bile', 'Saccharomyces', 'Sodiumdependent', 'SMN2', 'NS3,', 'lethal', 'Glucocorticoid', 'GALR3', 'Acinetobacter', 'Voltagedependent', 'SLC47A2', 'TACC3', 'SLC22A2', 'STK33', 'LAP4', 'PLCG1', 'GPX4', 'Mapk10', 'NCOA3', 'RAN', 'COMT', 'vif', 'MITF', 'HNMT', 'Kcnd2', 'RAD52', 'PDIA6', 'Cytochrome', 'SMAD2', 'EPAS1', 'Nucleoprotein', 'Spike', 'ABL1', 'LuxS,', 'APOBEC3F', 'USP2', 'Plg', 'HKDC1', 'PAFAH1B2', 'PF3D7_0213400', 'FASN', 'RdRp']\"\n        ],\n        \"semantic_type\": \"\",\n        \"description\": \"\"\n      }\n    },\n    {\n      \"column\": \"Accession IDs\",\n      \"properties\": {\n        \"dtype\": \"string\",\n        \"num_unique_values\": 59,\n        \"samples\": [\n          \"['A0A0K2VLS4', 'S4R3J7', 'P07954', 'P0C023', 'O96028', 'Q3UQZ6', 'K7EJ20', 'A0A173GP47', 'A0A286SD53', 'Q95M86', 'A0A0K2VLS4', 'O55239', 'Q9P1Y0', 'A0A0K2VLS4', 'A0A0K2VLS4', 'H3BU54', 'A0A0H4TJD6', 'Q63694', 'A0A0K2VLS4', 'P14647', 'E7EVM8', 'D3YY46', 'Q90738', 'S5RV20', 'P10484', 'A0A0D9RI81', 'P01574', 'P11086', 'P05484', 'A0A0K2VLS4', 'P11352', 'L8GNA7', 'Q9Y294', 'Q6PD10', 'Q14749', 'P10635', 'H6A2B4', 'P24462']\",\n          \"['Q61026', 'O00255', 'P47928', 'Q9ULV8', 'Q8QG78', 'P07954', 'P00533', 'S4R3J7', 'Q921E6', 'P62805', 'P61964', 'A0A8A5GQJ2', 'P01579', 'P62805', 'Q32GM1', 'V9GX90', 'P0C023', 'O53996', 'A0A0A0MQF6', 'A0A286SD53', 'Q9JJE1', 'O55239', 'Q00987', 'Q9P1Y0', 'Q32GM1', 'B7ZC18', 'Q0QER9', 'A2AFL5', 'P0C023', 'Q01831', 'P0C023', 'Q99N57', 'O23310', 'P0C023', 'P04062', 'A0A0D9RI81', 'P11086', 'A0A338P781', 'P0C023', 'P11352', 'Q9Y294', 'Q15648', 'O96028', 'Q14749', 'Q9UBT6', 'Q2TS46', 'P54132']\",\n          \"['A8AFI6', 'O14745', 'P47928', 'P35637', 'P47898', 'O75376', 'O15244', 'O22781', 'O15245', 'P37231', 'Q15907', 'A0A7S3GKR2', 'A0A8A5GQJ2', 'B8ZZN6', 'I0DEB3', 'O76818', 'P01185', 'P0C023', 'P0C023', 'A0A348FV96', 'P0A006', 'P0DP23', 'Q9Y5X4', 'U3TD89', 'Q96GG9', 'S5RV20', 'Q10589', 'Q13671', 'Q76NM3', 'P63092', 'P24302', 'Q6P8H4', 'P57764', None, 'Q13619', 'P98170', 'P48051', 'O96028', 'O15178', 'P11229', 'B2G331', 'C9JDI3', 'P34981', 'P0C023', 'O86138', 'Q2NL51', 'Q8TDV0', 'A0A0K2VDN1', 'P01185', 'P38749', 'H0YJD1', 'B6ZGS9', 'A2APX8', 'Q96EB6', 'P76256', 'Q92087', 'Q546I3', 'H3BU54', 'D6RA31', 'A0A494BBA3', 'Q99638', 'P35367', 'Q5EP01', 'Q03164', 'P0C023', 'E9PLT3', None, 'P11086', 'P26447', 'P00157', 'Q7K2V1', 'Q9NPC2', 'Q2KDX6', None, 'P00157', 'Q2KDX6', 'Q9EP96', 'P53853', 'Q9JJ40', 'A8AFI6', 'A0A0A6YXD8', 'Q86YB8', 'V9GYD3', 'Q8TCC7', 'Q8WZA2', 'P04995', 'Q96RP8', 'P0DPI0', 'P98170', 'Q2I0M4', 'Q9HAV4', 'Q9Y351', 'Q9DAU1', 'O60934', 'P16794', 'C9J3N8', 'P05177', 'Q9Y287', 'P35367', 'P63252', 'G3V4M2', 'H6A2B4', 'Q00959', 'Q61483', 'A0A8C8T6K8', 'A8AFI6', 'Q8BH60', 'K7EN02', 'Q9R0Q8', 'P07954', 'P54287', 'Q96LB2', 'Q99041', 'K7RMT3', 'P76256', 'J7GY74', 'O23310', 'Q92913', 'Q8QG78', 'P11474', 'Q63694', 'Q9H211', 'Q14289', 'O00764', 'D3YY46', 'P38398', 'I0DEB3', 'P51151', 'Q15843', 'P04610', 'A0A217FL62', 'D6RHU3', 'A0A0K2TLA7', 'Q712U1', 'P35367', 'A2A5Y6', None, 'Q6PD10', 'H0YAN3', 'P24462', 'A0A0M4BXD2', 'D6RH54', 'Q9UMX1', 'P70291', 'P30989', 'Q6ZPR4', 'Q06124', 'A0A097P3M4', 'I0DEB3', 'Q09081', 'P0A2I3', 'Q00403', 'P0C023', 'P42345', 'P12504', 'P58771', 'E9Q6J0', 'Q93009', 'O14757', 'P33261', 'Q84128', 'Q64429', 'A0A0H4TJD6', 'P53762', 'Q01831', 'Q99MK8', 'O95461', 'P56473', None, 'Q9CRZ0', 'P10484', None, 'P10499', 'Q15475', 'A0AAU9ZG95', 'A0A3B3QN94', 'A0A2H4GDB2', 'P11352', 'Q92913', 'D0VY79', 'Q15648', 'A0A3B3IU24', 'A0A0K2U6C9', 'P39538', 'Q3TPZ2', 'G3V554', 'P62344', 'A0A0G2K0N7', 'P15428', 'Q15475', 'A0A0B6VPR3', 'Q8NFD5', 'Q96T55', 'P17535', 'P01579', 'Q76BI4', 'P62805', 'A0A0G2JE87', 'P0C023', 'Q9Y351', 'P9WHR9', 'A0A090N8Q0', 'Q53RS1', 'P10824', 'Q14457', 'B1APG3', 'P0C1Z0', 'A0A0K2T929', 'G5EFH8', 'C9JWS9', 'O35864', 'P41806', 'Q9NPA1', 'O54982', 'Q9UNA4', 'A0A3G2C3P2', 'A0A087WWV0', 'Q53HY9', 'Q96T88', 'Q9Z6Y2', 'A0A0D9RI81', 'P00157', 'Q3LS20', 'P01009', 'B6ZGU9', 'Q9HCT0', 'Q14145', 'A0A1W2P6Q3', 'A0A0K2VDN1', 'P51553', 'K7ENN9', 'Q585P3', 'O00253', 'P43220', 'Q8N4Q1', 'B1APG3', 'Q64678', 'P22217', 'P54287', 'E5RIP7', 'Q16558', 'Q9JIN6', 'Q32MR7', 'A0A068A4T3', 'Q9Y351', 'Q76N29', 'P46721', 'Q9S6D8', 'Q53YK7', 'A0A3B2W489', 'Q969F8', 'P08394', 'Q3U172', 'Q61026', 'Q8IDW1', 'Q0QER9', 'O15245', 'F5HFF4', 'Q9IK91', 'E9PLF7', 'A0N0N3', 'B6ZDR3', 'A0A1B0GWA6', None, 'O23310', None, 'P16791', 'B4DGM9', 'C9JXR7', 'A0A087X1K9', 'P51817', 'P01574', 'Q571K9', 'E1AND5', 'A9C478', 'C9JA85', 'P0C023', 'Q3TQ68', 'P31323', 'P59768', 'P10635', 'Q61026', 'Q15078', 'P06795', 'P00157', 'Q9UN90', 'Q8NCM2', 'E9Q652', 'P0C023', 'Q8BJQ2', 'P11229', 'A2AM78', 'Q13114', 'Q3U6B2', 'Q80X33', 'Q61026', 'P30559', 'P96621', 'P0AFZ5', 'A0AAU9ZGS9', 'Q9NZ20', 'P11229', 'P38749', 'P16050', 'P08957', 'G5EFF5', 'A0A1B0RYB7', 'P55089', 'A0A3S6H7X9', 'D2KUA6', 'A0A6A7G2R9', 'Q5SYQ8', 'P54829', 'O14672', 'Q9QZQ0', 'P43033', 'A8AFI6', 'P15927', 'B0LPE5', 'Q921E6', 'Q99N78', 'Q5SY00', 'A0A0K2VDN1', 'Q8BGE6', 'A0A6B9EQM3', 'P28223', 'E7EPW4', 'O53996', 'A0A6G9HC00', 'H6V745', 'O15245', 'Q921F2', 'Q059X9', 'P10997', 'A2AFL5', 'Q8D2Q5', 'Q9Y570', 'Q9CRZ0', 'P29317', 'D3Z035', 'Q5TA02', 'A0A338P6P8', 'Q99246', 'C9JSC2', 'P04062', 'A1KZZ7', 'Q63524', 'A0A0B4LF95', 'P38749', 'Q05315', 'Q38C91', 'Q14749', 'Q90282', 'G3I968', 'Q8D2A2', 'Q8QG78', 'B0QYN4', 'P0C023', 'P62805', 'O00764', 'D2KTU6', 'A0A6C0VVD5', 'B7ZC18', 'P0C023', 'Q9JIL4', 'P10276', 'Q8BKY0', 'Q9Y4K3', 'P02649', 'A0A6I8TMQ9', 'A0A0K2TLA7', 'Q9KLK7', 'Q8BZ71', 'Q9H1K1', 'P0C023', 'O35240', 'O35593', 'Q99KG5', 'Q13682', 'Q0VBU3', 'P69428', 'Q53TG3', 'Q8BLP9', 'Q5DRK1', 'O54982', 'P32120', 'Q14242', 'I3L1D5', 'Q3UEE0', 'Q6GZ69', 'D6XDN4', 'P19594', 'A0A0N7J5R0', 'P51684', 'B4LFR2', 'Q13526', 'O70305', 'Q8IL32', 'Q14974', 'Q9NPC2', 'P15529', 'Q92847', 'A0A1D8PT39', 'P51843', 'Q3SXG6', 'H7C4Y0', 'Q9Z7G7', 'Q9JM54', 'Q16236', 'P05484', 'P08912', 'P54287', 'P02008', 'Q07820', 'Q9UGJ4', 'A2AM29', 'Q8K2C6', 'Q9Y691', 'A0AAU9ZF99', 'A0A0A9XN80', 'P35367', 'P35462', 'P03192', 'O15118', 'Q9HAT2', 'A0A0K2UPX4', 'A0A494C0M3', 'P0DPI0', 'A0A1B0GRX4', 'Q6WIH2', 'A0A060C7R6', 'A0A2I0UBX0', None, 'O00764', 'Q8TBC4', 'P04993', 'Q9RR56', None, 'O15263', 'Q6ZPR4', 'Q8V4R0', 'Q8BUN5', 'Q8IUH5', 'B9EIJ4', 'P0A006', 'A0A338P781', 'Q7L5N1', 'Q86YP4', 'C9JXR7', 'A0A481XUV9', 'P04629', 'O95149', 'Q9Y6L6', 'Q15648', 'P0C023', 'P63167', 'P01270', 'P36897', 'F0X2A9', 'A0A087WRU8', 'O00764', 'P26769', 'P05154', 'P56473', 'P19793', 'P0C023', 'M3S007', 'Q63666', 'A0A812V1F5', 'Q9UMX1', 'Q06609', 'A9JQD5', 'Q9KS12', 'P0C023', 'P10145', 'A0A0C7TP04', 'E7EVM8', 'Q02241', 'A0A0A7E6J5', 'A0A3B2WAN5', 'E7ERW9', 'Q8IL88', 'A0A3B2WAL6', 'Q8IBS5', None, 'O60383', 'Q6RZX1', 'A0A873P8U5', 'A0A0G2JEV6', None, 'P0C023', 'A0A0P1AX45', 'Q00G26', 'O95342', 'A0A075F5C6', 'E9PKA7', 'Q2TBE6', 'A0A1B0GS10', 'Q6UWZ7', 'A0AAF0A295', 'S4R3J7', 'A0A0K2VDN1', 'P0C023', 'C9JMT4', 'A0A077QWS8', 'Q8BJ56', 'F6IA08', 'A0A0K2VDN1', 'P06307', 'V9GX90', 'Q00987', 'F6VDE0', 'H7C549', 'P24468', 'Q2KDX6', 'B5BU36', 'A1L471', 'Q9Y618', 'P27958', 'Q9LYU4', 'X5D2B0', 'Q96FW1', 'Q9UBT6', 'Q9XUB2', 'P0C1Z0', None, 'B6ZDR5', None, 'P41595', 'M0R383', 'A0A0K2T099', 'Q8I629', 'Q99J21', 'D6RH54', 'H2ELL3', None, 'Q0VDP6', 'W8R5U2', 'J3KSS8', 'O55239', 'D2XT18', 'B6ZDR4', 'Q16186', None, 'G5EFH8', 'Q3TYF5', 'A0A813BVZ9', 'P01024', 'O76031', 'Q9Z306', 'H7C4Y0', 'Q9NZI8', 'H3BKA8', 'A8MU39', 'P31941', 'A0A0G2JE28', 'P01193', 'P0C023', 'Q96B67', 'H9NIL6', 'P22455', 'A0A193PD21', 'A0A0K2TLA7', 'I2E4T2', 'Q9YWQ0', 'A1Z198', 'Q86VQ1', 'O88853', 'A0A3S5FWR4', 'A0A0K2T929', 'Q3V050', 'E7EMT0', 'O15244', 'P08670', 'P35193', 'P09619', 'K7EJ20', 'A0A286YES9', 'Q65ZG9', 'Q9HAV4', 'A0A286SD53', 'Q15369', 'I6L9I6', 'Q9P1Y0', 'Q9Z0V2', 'Q3MI84', 'Q543X4', 'P00157', 'K7ESI8', 'P27540', 'Q9IK91', 'Q04830', 'Q9ESJ1', 'Q75RY6', 'M4VR43', 'Q00987', 'Q6TCI0', 'Q2TB90', 'P63005', 'O96214', 'Q3TB22', 'P42731']\"\n        ],\n        \"semantic_type\": \"\",\n        \"description\": \"\"\n      }\n    },\n    {\n      \"column\": \"Target Gene Name\",\n      \"properties\": {\n        \"dtype\": \"string\",\n        \"num_unique_values\": 56,\n        \"samples\": [\n          \"['NTMT1', 'FH', 'NSD2', 'KDR', 'GPX4', 'COMT', 'NNMT', 'HNMT', 'GPT2', 'CYP3A4', 'CIB1', 'SRC', 'CYP2C9', 'S', 'GAMT', 'IFNB1', 'PNMT', 'GPX1', 'IP6K1', 'GNMT', 'CYP2D6', 'CYP3A7']\",\n          \"['MEN1', 'ID4', 'EGFR', 'THRB', 'FH', 'ERBB2', 'NTMT1', 'EZH2', 'KMT2A', 'MYC', 'IFNG', 'CGAS', 'NFKB1', 'GLA', 'GAPDH', 'COMT', 'MAP2K1', 'NNMT', 'TP53', 'HNMT', 'STAT3', 'IDH1', 'GAA', 'KAT2A', 'RAF1', 'GBA1', 'GAMT', 'PNMT', 'MAPK1', 'GPX1', 'VDR', 'NSD2', 'GNMT', 'POLK', 'BLM']\",\n          \"['CFTR', 'CC', 'AURKB', 'D(2)', 'CYP2C19', 'ACR', 'CYP3A4', 'PLG', 'CYP2C9', '60', 'CXC', 'S', 'EWS/FLI', 'GPX1', 'ABCB5', 'NSD2', 'S100B', 'HSPE1', 'NTMT1', 'GPR151', 'CC', 'IFNG', 'CGAS', 'NR1H4', 'KCNH2', 'CXC', 'GPT2', 'PRMT5', 'SNCA', 'PTP4A2', 'ST14', 'ABCB1', 'B2', 'F10', 'GRIN1', 'ALOX12', 'TMPRSS2', 'GRIN2A', 'PTP4A1', 'SAT1', 'ATXN2', 'GAPDH', 'D(3)', 'D(1A)', 'D(4)', 'AOC1', 'UL53', 'IFNB1', 'CC', 'UL50', 'CYP1A2', 'CYP2D6', 'HSPD1', 'FH', 'GPX4', 'CTSB', 'MULTISPECIES:', 'PTP4A3', 'CCDC88A', 'TUBA1A', 'CIB1', '10', 'HTT', 'PRMT1']\"\n        ],\n        \"semantic_type\": \"\",\n        \"description\": \"\"\n      }\n    }\n  ]\n}"
            }
          },
          "metadata": {},
          "execution_count": 4
        }
      ]
    },
    {
      "cell_type": "markdown",
      "source": [
        "#Parameters:\n",
        "blast_sequence_from_uniprot(accession_id, identity_threshold=80.0, e_value_threshold=1e-5, taxonomy=\"5858\"):\n",
        "    "
      ],
      "metadata": {
        "id": "GrFS0t7NMmdY"
      }
    },
    {
      "cell_type": "code",
      "source": [
        "def fetch_uniprot_sequence(accession_id):\n",
        "    \"\"\"\n",
        "    Fetch a sequence from UniProt using the accession ID.\n",
        "    \"\"\"\n",
        "    url = f\"https://rest.uniprot.org/uniprotkb/{accession_id}.fasta\"\n",
        "    try:\n",
        "        response = requests.get(url)\n",
        "        if response.status_code == 200:\n",
        "            return response.text\n",
        "        else:\n",
        "            print(f\"UniProt query failed for {accession_id} with status code: {response.status_code}\")\n",
        "            return None\n",
        "    except Exception as e:\n",
        "        print(f\"Error querying UniProt for {accession_id}: {e}\")\n",
        "        return None\n",
        "\n",
        "def blast_sequence_from_uniprot(accession_id, taxonomy=\"5858\"):\n",
        "    \"\"\"\n",
        "    Fetch a sequence from UniProt, run BLAST with custom settings, and print results.\n",
        "    \"\"\"\n",
        "    print(f\"Fetching sequence for Accession ID: {accession_id} from UniProt...\")\n",
        "    sequence_data = fetch_uniprot_sequence(accession_id)\n",
        "    if not sequence_data:\n",
        "        print(f\"Sequence for Accession ID {accession_id} could not be found in UniProt.\")\n",
        "        return\n",
        "\n",
        "    entrez_query = f\"txid{taxonomy}[ORGN]\"\n",
        "    print(f\"Running BLAST for Accession ID: {accession_id}...\")\n",
        "    result_handle = NCBIWWW.qblast(\"blastp\", \"nr\", sequence_data,\n",
        "                                   expect=100, matrix_name=\"BLOSUM62\",\n",
        "                                   alignments=250, hitlist_size=250,\n",
        "                                   filter=\"F\", gapcosts=\"11 1\",\n",
        "                                   entrez_query=entrez_query)\n",
        "\n",
        "    blast_record = NCBIXML.read(result_handle)\n",
        "    if not blast_record.alignments:\n",
        "        print(f\"No BLAST results found for Accession ID: {accession_id}\")\n",
        "        return\n",
        "\n",
        "    print(f\"Results for Accession ID: {accession_id}\")\n",
        "    for alignment in blast_record.alignments[:5]:  # Top 5 hits similar to the web interface\n",
        "        print(f\"  Hit ID: {alignment.hit_id}\")\n",
        "        print(f\"  Hit Description: {alignment.hit_def}\")\n",
        "        for hsp in alignment.hsps[:1]:  # Only the first HSP per alignment\n",
        "            print(f\"    E-value: {hsp.expect}\")\n",
        "            print(f\"    Score: {hsp.score}\")\n",
        "            print(f\"    Query Alignment: {hsp.query[:50]}...\")\n",
        "            print(f\"    Subject Alignment: {hsp.sbjct[:50]}...\")\n",
        "            print(\"-\" * 80)\n",
        "\n"
      ],
      "metadata": {
        "id": "fSTLZjIcndWI"
      },
      "execution_count": null,
      "outputs": []
    },
    {
      "cell_type": "code",
      "source": [
        "# Example usage\n",
        "blast_sequence_from_uniprot(\"P10635\")"
      ],
      "metadata": {
        "colab": {
          "base_uri": "https://localhost:8080/"
        },
        "id": "brJHkNFJogkM",
        "outputId": "b4e75038-b708-4f15-8a34-29bdec5da2e0",
        "collapsed": true
      },
      "execution_count": null,
      "outputs": [
        {
          "output_type": "stream",
          "name": "stdout",
          "text": [
            "Fetching sequence for Accession ID: P10635 from UniProt...\n",
            "Running BLAST for Accession ID: P10635...\n",
            "Results for Accession ID: P10635\n",
            "  Hit ID: emb|SBT80758.1|\n",
            "  Hit Description: drug/metabolite transporter, putative [Plasmodium malariae]\n",
            "    E-value: 5.11915\n",
            "    Score: 64.0\n",
            "    Query Alignment: QLAWTPVVVLNGLAAVREALVTHGEDTAD-------RPPVPI-TQILGFG...\n",
            "    Subject Alignment: KIAYMPIIILSVTGAIRQAIVIIALQYTDSHNVAIIQPTIPIFTAILSYY...\n",
            "--------------------------------------------------------------------------------\n",
            "  Hit ID: ref|XP_028864306.1|\n",
            "  Hit Description: drug/metabolite transporter, putative [Plasmodium malariae] >ref|XP_067070681.1| drug/metabolite transporter DMT1 [Plasmodium brasilianum] >gb|KAI4834792.1| drug/metabolite transporter DMT1 [Plasmodium brasilianum] >emb|SCP03351.1| drug/metabolite transporter, putative [Plasmodium malariae]\n",
            "    E-value: 5.22542\n",
            "    Score: 64.0\n",
            "    Query Alignment: QLAWTPVVVLNGLAAVREALVTHGEDTAD-------RPPVPI-TQILGFG...\n",
            "    Subject Alignment: KIAYMPIIILSVTGAIRQAIVIIALQYTDSHNVAIIQPTIPIFTAILSYY...\n",
            "--------------------------------------------------------------------------------\n",
            "  Hit ID: emb|SBS90475.1|\n",
            "  Hit Description: transporter, putative [Plasmodium malariae]\n",
            "    E-value: 5.45959\n",
            "    Score: 64.0\n",
            "    Query Alignment: QLAWTPVVVLNGLAAVREALVTHGEDTAD-------RPPVPI-TQILGFG...\n",
            "    Subject Alignment: KIAYMPIIILSVTGAIRQAIVIIALQYTDSHNVAIIQPTIPIFTAILSYY...\n",
            "--------------------------------------------------------------------------------\n"
          ]
        }
      ]
    },
    {
      "cell_type": "code",
      "source": [
        "# Example usage\n",
        "blast_sequence_from_uniprot(\"L8GZV5\")"
      ],
      "metadata": {
        "id": "_CaLvbObpN_x",
        "colab": {
          "base_uri": "https://localhost:8080/"
        },
        "outputId": "f6c12aab-8f4d-4f98-b96b-9c9a57a62900"
      },
      "execution_count": null,
      "outputs": [
        {
          "output_type": "stream",
          "name": "stdout",
          "text": [
            "Fetching sequence for Accession ID: L8GZV5 from UniProt...\n",
            "Running BLAST for Accession ID: L8GZV5...\n",
            "Results for Accession ID: L8GZV5\n",
            "  Hit ID: emb|SBT71238.1|\n",
            "  Hit Description: mitogen-activated protein kinase 2, putative [Plasmodium malariae]\n",
            "    E-value: 1.82337e-41\n",
            "    Score: 388.0\n",
            "    Query Alignment: RLTDLYDLQHVIGQGAYGVVWLALDRRSGQRVAVKKIADVFGDSKEAKRT...\n",
            "    Subject Alignment: RVPDNYEIKHLIGRGSYGYVYLAYDKNTNKNVAIKKVNRMFEDLIDCKRI...\n",
            "--------------------------------------------------------------------------------\n",
            "  Hit ID: ref|XP_028861557.1|\n",
            "  Hit Description: mitogen-activated protein kinase 2, putative [Plasmodium malariae] >emb|SBS85304.1| mitogen-activated protein kinase 2, putative (MAPK2) [Plasmodium malariae] >emb|SCN12660.1| mitogen-activated protein kinase 2, putative [Plasmodium malariae]\n",
            "    E-value: 3.36168e-41\n",
            "    Score: 387.0\n",
            "    Query Alignment: RLTDLYDLQHVIGQGAYGVVWLALDRRSGQRVAVKKIADVFGDSKEAKRT...\n",
            "    Subject Alignment: RVPDNYEIKHLIGRGSYGYVYLAYDKNTNKNVAIKKVNRMFEDLIDCKRI...\n",
            "--------------------------------------------------------------------------------\n",
            "  Hit ID: emb|SBT72158.1|\n",
            "  Hit Description: mitogen-activated protein kinase 1, putative [Plasmodium malariae]\n",
            "    E-value: 1.49027e-35\n",
            "    Score: 350.0\n",
            "    Query Alignment: YDLQHVIGQGAYGVVWLALDRRSGQRVAVKKIADVFGDSKEAKRTLREVR...\n",
            "    Subject Alignment: YDIIKRIGKGAYGIVFKGRCKKNKKIVAVKKIFGAFQNSTDAQRTYREIM...\n",
            "--------------------------------------------------------------------------------\n",
            "  Hit ID: ref|XP_028863673.1|\n",
            "  Hit Description: mitogen-activated protein kinase 1, putative [Plasmodium malariae] >ref|XP_067071301.1| mitogen-activated protein kinase 1 [Plasmodium brasilianum] >gb|KAI4835708.1| mitogen-activated protein kinase 1 [Plasmodium brasilianum] >emb|SBS89469.1| mitogen-activated protein kinase 1, putative (MAPK1) [Plasmodium malariae] >emb|SCP02640.1| mitogen-activated protein kinase 1, putative [Plasmodium malariae]\n",
            "    E-value: 2.05835e-35\n",
            "    Score: 349.0\n",
            "    Query Alignment: YDLQHVIGQGAYGVVWLALDRRSGQRVAVKKIADVFGDSKEAKRTLREVR...\n",
            "    Subject Alignment: YDIIKRIGKGAYGIVFKGRCKKNKKIVAVKKIFGAFQNSTDAQRTYREIM...\n",
            "--------------------------------------------------------------------------------\n",
            "  Hit ID: ref|XP_028862480.1|\n",
            "  Hit Description: protein kinase 5, putative [Plasmodium malariae] >ref|XP_067072437.1| protein kinase 5 [Plasmodium brasilianum] >gb|KAI4837155.1| protein kinase 5 [Plasmodium brasilianum] >emb|SCO93040.1| protein kinase 5, putative [Plasmodium malariae]\n",
            "    E-value: 2.06511e-24\n",
            "    Score: 253.0\n",
            "    Query Alignment: IGQGAYGVVWLALDRRSGQRVAVKKIADVFGDSKEAKRTLREVRLMRHFR...\n",
            "    Subject Alignment: IGEGTYGVVYKA-QNNYGETFALKKIRLEKEDEGIPSTAIREISILKELK...\n",
            "--------------------------------------------------------------------------------\n"
          ]
        }
      ]
    },
    {
      "cell_type": "code",
      "source": [
        "# Example usage\n",
        "blast_sequence_from_uniprot(\"Q9Z0P7\")"
      ],
      "metadata": {
        "id": "JcYwM1ULqyEy",
        "colab": {
          "base_uri": "https://localhost:8080/"
        },
        "outputId": "8d3b4e99-1fed-469d-c900-1febbf29a425"
      },
      "execution_count": null,
      "outputs": [
        {
          "output_type": "stream",
          "name": "stdout",
          "text": [
            "Fetching sequence for Accession ID: Q9Z0P7 from UniProt...\n",
            "Running BLAST for Accession ID: Q9Z0P7...\n",
            "Results for Accession ID: Q9Z0P7\n",
            "  Hit ID: ref|XP_028859374.1|\n",
            "  Hit Description: pre-mRNA-processing-splicing factor 8, putative [Plasmodium malariae] >ref|XP_067075240.1| pre-mRNA-processing-splicing factor 8 [Plasmodium brasilianum] >gb|KAI4840639.1| pre-mRNA-processing-splicing factor 8 [Plasmodium brasilianum] >emb|SBT86203.1| pre-mRNA-processing-splicing factor 8, putative [Plasmodium malariae]\n",
            "    E-value: 10.014\n",
            "    Score: 62.0\n",
            "    Query Alignment: SVAPGPAAPPASGPSAPPAFASLFPPGLHAIYGECRRLYPDQPN-PLQV...\n",
            "    Subject Alignment: SIPPNMHSIPPNMHSIPPNMHSI-PPNMHSIPPNMYSMPPNMPNMPLNM...\n",
            "--------------------------------------------------------------------------------\n",
            "  Hit ID: emb|SBT01368.1|\n",
            "  Hit Description: PIR Superfamily Protein [Plasmodium malariae]\n",
            "    E-value: 22.4057\n",
            "    Score: 59.0\n",
            "    Query Alignment: ELTFRLKRETGESAPPTWPAELMQGLARYV...\n",
            "    Subject Alignment: DLRWKLDEDTKIRCPPKKPSEVTLGLCKYV...\n",
            "--------------------------------------------------------------------------------\n",
            "  Hit ID: ref|XP_028860286.1|\n",
            "  Hit Description: PIR protein [Plasmodium malariae] >emb|SBT87261.1| PIR protein [Plasmodium malariae]\n",
            "    E-value: 70.9106\n",
            "    Score: 55.0\n",
            "    Query Alignment: ELTFRLKRETGESAPPTWPAELMQGLARYV...\n",
            "    Subject Alignment: DLRWKLNADTKIRCPPEKPSQVTLGLCKYV...\n",
            "--------------------------------------------------------------------------------\n",
            "  Hit ID: ref|XP_028864654.1|\n",
            "  Hit Description: mitochondrial import inner membrane translocase subunit TIM13, putative [Plasmodium malariae] >emb|SBS97213.1| mitochondrial import inner membrane translocase subunit TIM13, putative (TIM13) [Plasmodium malariae] >emb|SBT81101.1| mitochondrial import inner membrane translocase subunit TIM13, putative [Plasmodium malariae] >emb|SCP03701.1| mitochondrial import inner membrane translocase subunit TIM13, putative [Plasmodium malariae]\n",
            "    E-value: 81.6786\n",
            "    Score: 51.0\n",
            "    Query Alignment: ITDMRRGETIFEIDPHLQER----------VDKGIETDGSNLSGVSAKCA...\n",
            "    Subject Alignment: IDDKQRAAVLLSLQEMIQKQKENVKVMNICFNKCVPKIGNNLSSNEQKCI...\n",
            "--------------------------------------------------------------------------------\n"
          ]
        }
      ]
    },
    {
      "cell_type": "markdown",
      "source": [
        "#NEW CODE:\n",
        "### this would be easier to use to loop through different types of taxonomies but the results are the same as the code above"
      ],
      "metadata": {
        "id": "zxIVdI-qOoYU"
      }
    },
    {
      "cell_type": "code",
      "source": [
        "from Bio import Entrez #The `Entrez` module in Biopython facilitates searching and retrieving data from NCBI databases via the Entrez online system.\n",
        "\n",
        "def blast_with_custom_settings(accession_id, email=\"your_email@example.com\",\n",
        "                               db=\"nr\", evalue=10, taxonomy=None):\n",
        "    \"\"\"\n",
        "    Fetch a sequence using an accession ID, run BLAST with custom settings, and print results.\n",
        "\n",
        "    Parameters:\n",
        "        accession_id (str): Accession ID for the sequence to BLAST.\n",
        "        email (str): Email for NCBI Entrez.\n",
        "        db (str): Target database for BLAST (e.g., 'nr' for non-redundant database).\n",
        "        evalue (float): E-value threshold for BLAST hits.\n",
        "        taxonomy (str): Taxonomy ID or organism name to filter results.\n",
        "    \"\"\"\n",
        "    Entrez.email = email\n",
        "\n",
        "    try:\n",
        "        # Format the Entrez taxonomy filter\n",
        "        entrez_query = f\"txid{taxonomy}[ORGN]\" if taxonomy else None\n",
        "\n",
        "        # Run BLAST with custom parameters on the nr database\n",
        "        print(f\"Running BLAST on database '{db}' with E-value threshold {evalue}...\")\n",
        "        result_handle = NCBIWWW.qblast(\"blastp\", db, f\"SP|{accession_id}\", expect=evalue, entrez_query=entrez_query)\n",
        "\n",
        "        # Parse BLAST results\n",
        "        blast_record = NCBIXML.read(result_handle)\n",
        "\n",
        "        # Check if there are alignments\n",
        "        if not blast_record.alignments:\n",
        "            print(f\"No results found for Accession ID: {accession_id}\")\n",
        "            return\n",
        "\n",
        "        # Print top hits\n",
        "        print(f\"Results for Accession ID: {accession_id}\")\n",
        "        for alignment in blast_record.alignments[:5]:  # Limit to top 5 hits\n",
        "            print(f\"  Hit ID: {alignment.hit_id}\")\n",
        "            print(f\"  Hit Description: {alignment.hit_def}\")\n",
        "            for hsp in alignment.hsps[:1]:  # Only the first HSP per alignment\n",
        "                print(f\"    E-value: {hsp.expect}\")\n",
        "                print(f\"    Score: {hsp.score}\")\n",
        "                print(f\"    Query Alignment: {hsp.query[:50]}...\")\n",
        "                print(f\"    Subject Alignment: {hsp.sbjct[:50]}...\")\n",
        "            print(\"-\" * 80)\n",
        "\n",
        "    except Exception as e:\n",
        "        print(f\"Error for Accession ID {accession_id}: {e}\")\n",
        "\n"
      ],
      "metadata": {
        "id": "NmTXJhJKrGwX",
        "colab": {
          "base_uri": "https://localhost:8080/",
          "height": 394
        },
        "outputId": "987c5e1b-1e4f-4358-b927-b23cc266d886"
      },
      "execution_count": null,
      "outputs": [
        {
          "output_type": "error",
          "ename": "ModuleNotFoundError",
          "evalue": "No module named 'Bio'",
          "traceback": [
            "\u001b[0;31m---------------------------------------------------------------------------\u001b[0m",
            "\u001b[0;31mModuleNotFoundError\u001b[0m                       Traceback (most recent call last)",
            "\u001b[0;32m<ipython-input-1-8eb746285fe5>\u001b[0m in \u001b[0;36m<cell line: 0>\u001b[0;34m()\u001b[0m\n\u001b[0;32m----> 1\u001b[0;31m \u001b[0;32mfrom\u001b[0m \u001b[0mBio\u001b[0m \u001b[0;32mimport\u001b[0m \u001b[0mEntrez\u001b[0m\u001b[0;34m\u001b[0m\u001b[0;34m\u001b[0m\u001b[0m\n\u001b[0m\u001b[1;32m      2\u001b[0m \u001b[0;34m\u001b[0m\u001b[0m\n\u001b[1;32m      3\u001b[0m def blast_with_custom_settings(accession_id, email=\"your_email@example.com\",\n\u001b[1;32m      4\u001b[0m                                db=\"nr\", evalue=10, taxonomy=None):\n\u001b[1;32m      5\u001b[0m     \"\"\"\n",
            "\u001b[0;31mModuleNotFoundError\u001b[0m: No module named 'Bio'",
            "",
            "\u001b[0;31m---------------------------------------------------------------------------\u001b[0;32m\nNOTE: If your import is failing due to a missing package, you can\nmanually install dependencies using either !pip or !apt.\n\nTo view examples of installing some common dependencies, click the\n\"Open Examples\" button below.\n\u001b[0;31m---------------------------------------------------------------------------\u001b[0m\n"
          ],
          "errorDetails": {
            "actions": [
              {
                "action": "open_url",
                "actionText": "Open Examples",
                "url": "/notebooks/snippets/importing_libraries.ipynb"
              }
            ]
          }
        }
      ]
    },
    {
      "cell_type": "code",
      "source": [
        "# Example usage\n",
        "blast_with_custom_settings(\n",
        "    accession_id=\"P10635\",\n",
        "    email=\"kattayun.ens@gmail.com\",\n",
        "    db=\"nr\",  # Use the non-redundant (nr) database\n",
        "    evalue=1,\n",
        "    taxonomy=\"5810\"  # Plasmodium malaria\n",
        ")\n"
      ],
      "metadata": {
        "colab": {
          "base_uri": "https://localhost:8080/"
        },
        "id": "qp49MUJ0K96i",
        "outputId": "9ac43655-b7b9-4dc4-d845-28552ee4adbc"
      },
      "execution_count": null,
      "outputs": [
        {
          "output_type": "stream",
          "name": "stdout",
          "text": [
            "Running BLAST on database 'nr' with E-value threshold 1...\n",
            "Results for Accession ID: P10635\n",
            "  Hit ID: gb|KYK65665.1|\n",
            "  Hit Description: cytochrome p450 superfamily protein, partial [Toxoplasma gondii TgCatPRC2]\n",
            "    E-value: 1.30795e-07\n",
            "    Score: 123.0\n",
            "    Query Alignment: FRIPKGTTLITNLSSVLKDEAVWEKPFR-FHPEHFLDAQGHFVKPEAFLP...\n",
            "    Subject Alignment: FSIPAGTVILVDNYSLTRDEVLWGQDANVFNPDRFV---GRIWQQAPWLP...\n",
            "--------------------------------------------------------------------------------\n",
            "  Hit ID: ref|XP_018635310.1|\n",
            "  Hit Description: cytochrome p450 superfamily protein [Toxoplasma gondii ME49] >gb|EPT25706.1| cytochrome p450 superfamily protein [Toxoplasma gondii ME49] >gb|ESS35314.1| cytochrome p450 superfamily protein [Toxoplasma gondii VEG] >gb|KFG36736.1| cytochrome p450 superfamily protein [Toxoplasma gondii GAB2-2007-GAL-DOM2] >tpe|CEL77777.1| TPA: cytochrome p450, putative [Toxoplasma gondii VEG]\n",
            "    E-value: 2.55111e-07\n",
            "    Score: 132.0\n",
            "    Query Alignment: AHMPYTTAVIHEVQRFGDIVPLGVTHMTSRDIEVQGFRIPKGTTLITNLS...\n",
            "    Subject Alignment: SHLGEVVNVFLESLRFYALPILSRSASKAIHLKSVDFSIPAGTVILVDNY...\n",
            "--------------------------------------------------------------------------------\n",
            "  Hit ID: gb|KYF40239.1|\n",
            "  Hit Description: cytochrome p450 superfamily protein [Toxoplasma gondii ARI]\n",
            "    E-value: 2.61862e-07\n",
            "    Score: 132.0\n",
            "    Query Alignment: ADLFSAGMVTTSTTLAWGLLLMILHPDVQRRVQQEIDDVIGQVRRPEMGD...\n",
            "    Subject Alignment: ASLLLLAAENTALPIVWALYELAKDPLLQERIYTATR--MEDLTLADSTD...\n",
            "--------------------------------------------------------------------------------\n",
            "  Hit ID: gb|EPR58800.1|\n",
            "  Hit Description: cytochrome p450 superfamily protein [Toxoplasma gondii GT1] >gb|KFG49386.1| cytochrome p450 superfamily protein [Toxoplasma gondii p89] >gb|KFG56385.1| cytochrome p450 superfamily protein [Toxoplasma gondii FOU]\n",
            "    E-value: 2.85682e-07\n",
            "    Score: 131.0\n",
            "    Query Alignment: ADLFSAGMVTTSTTLAWGLLLMILHPDVQRRVQQEIDDVIGQVRRPEMGD...\n",
            "    Subject Alignment: ASLLLLAAENTALPIVWALYELAKNPLLQERIYTATR--MEDLTLVDSTD...\n",
            "--------------------------------------------------------------------------------\n",
            "  Hit ID: gb|PUA86658.1|\n",
            "  Hit Description: cytochrome P450 family protein [Toxoplasma gondii TgCATBr9]\n",
            "    E-value: 3.33074e-07\n",
            "    Score: 121.0\n",
            "    Query Alignment: FRIPKGTTLITNLSSVLKDEAVWEKPFR-FHPEHFLDAQGHFVKPEAFLP...\n",
            "    Subject Alignment: FSIPAGTVILVDNYSLTRDEVLWGQDANVFNPDRFV---GRIWQQAPWLP...\n",
            "--------------------------------------------------------------------------------\n"
          ]
        }
      ]
    },
    {
      "cell_type": "markdown",
      "source": [
        "### since the base code is created and is working, we want to save the data in a json file for each accession ID"
      ],
      "metadata": {
        "id": "B0Hc4428P9Qz"
      }
    },
    {
      "cell_type": "code",
      "source": [],
      "metadata": {
        "id": "P56n_d0IRctp"
      },
      "execution_count": null,
      "outputs": []
    }
  ]
}