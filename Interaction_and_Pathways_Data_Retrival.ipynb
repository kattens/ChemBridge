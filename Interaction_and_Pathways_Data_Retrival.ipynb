{
  "cells": [
    {
      "cell_type": "markdown",
      "metadata": {
        "id": "view-in-github",
        "colab_type": "text"
      },
      "source": [
        "<a href=\"https://colab.research.google.com/github/kattens/ChemBridge/blob/main/Interaction_and_Pathways_Data_Retrival.ipynb\" target=\"_parent\"><img src=\"https://colab.research.google.com/assets/colab-badge.svg\" alt=\"Open In Colab\"/></a>"
      ]
    },
    {
      "cell_type": "markdown",
      "source": [
        "# **🟢 1. Configuration and Paths**"
      ],
      "metadata": {
        "id": "HvDstRxCbmn5"
      }
    },
    {
      "cell_type": "code",
      "source": [
        "from google.colab import drive\n",
        "drive.mount('/content/drive')"
      ],
      "metadata": {
        "id": "uvatOcmK1ekF"
      },
      "execution_count": null,
      "outputs": []
    },
    {
      "cell_type": "code",
      "source": [
        "#installing biopython\n",
        "!pip install biopython"
      ],
      "metadata": {
        "id": "V3fZsfR_mjF3"
      },
      "execution_count": null,
      "outputs": []
    },
    {
      "cell_type": "code",
      "execution_count": 3,
      "metadata": {
        "id": "foAQwLnOkShG"
      },
      "outputs": [],
      "source": [
        "#import libraries\n",
        "import pandas as pd\n",
        "import numpy as np\n",
        "import os\n",
        "import requests\n",
        "import json\n",
        "from Bio.PDB import PDBParser, PPBuilder, is_aa\n",
        "from Bio.Blast import NCBIWWW, NCBIXML\n",
        "import concurrent.futures\n",
        "from Bio.PDB.Polypeptide import PPBuilder"
      ]
    },
    {
      "cell_type": "code",
      "execution_count": 4,
      "metadata": {
        "id": "CiEPSGYhkv1p"
      },
      "outputs": [],
      "source": [
        "# --- 1. Configuration and Paths ---\n",
        "\n",
        "#have the paths set, if not existing, make them\n",
        "BASE_PATH = '/content/drive/MyDrive/Drug Repurposing Project/Interactions_Results'\n",
        "SAVE_PATH = '/content/drive/MyDrive/Drug Repurposing Project/PubChem_PDB_Results'\n",
        "PDB_SAVE_PATH = os.path.join(SAVE_PATH, \"pdb_matches\")\n",
        "\n",
        "os.makedirs(SAVE_PATH, exist_ok=True)\n",
        "os.makedirs(PDB_SAVE_PATH, exist_ok=True)\n"
      ]
    },
    {
      "cell_type": "markdown",
      "source": [
        "# Skip the block below if you have already mix the csv files"
      ],
      "metadata": {
        "id": "lEmFWaEo1AL5"
      }
    },
    {
      "cell_type": "code",
      "source": [
        "# We are combining all interaction and pathway files along with PubChem IDs and other relevant information, we will also focus on using the target PDB ID for further processing.\n",
        "Interaction_folder_path = BASE_PATH\n",
        "\n",
        "# 🔄 Combine all CSV files into one DataFrame\n",
        "combined_df = pd.DataFrame()\n",
        "\n",
        "for filename in os.listdir(Interaction_folder_path):\n",
        "    if filename.endswith(\".csv\"):\n",
        "        file_path = os.path.join(Interaction_folder_path, filename)\n",
        "        df = pd.read_csv(file_path)\n",
        "        df['source_file'] = filename  # Optional: keep track of original source\n",
        "        combined_df = pd.concat([combined_df, df], ignore_index=True)\n",
        "\n",
        "# ➕ Add pubchem_id by removing '.csv' and converting to integer\n",
        "combined_df['pubchem_id'] = combined_df['source_file'].str.replace('.csv', '', regex=False).astype(int)\n",
        "\n",
        "# 💾 Save the combined DataFrame to a new CSV\n",
        "output_path = os.path.join(Interaction_folder_path, '/content/drive/MyDrive/Drug Repurposing Project/Combined_Interaction_PDB_Targets.csv')\n",
        "combined_df.to_csv(output_path, index=False)\n",
        "\n",
        "print(f\"✅ Combined CSV saved to: {output_path}\")"
      ],
      "metadata": {
        "id": "BLNW0LcrlsVT"
      },
      "execution_count": null,
      "outputs": []
    },
    {
      "cell_type": "code",
      "execution_count": 7,
      "metadata": {
        "id": "WSNHLRxclGKb",
        "colab": {
          "base_uri": "https://localhost:8080/"
        },
        "outputId": "e89ed0f9-3d09-40d1-d83e-5294ed3184df"
      },
      "outputs": [
        {
          "output_type": "execute_result",
          "data": {
            "text/plain": [
              "Index(['resolution', 'pdbid', 'title', 'expmethod', 'lignme', 'glytoucan',\n",
              "       'cids', 'protacxns', 'geneids', 'pmid', 'dois', 'pmcids', 'pclids',\n",
              "       'citations', 'source_file', 'pubchem_id'],\n",
              "      dtype='object')"
            ]
          },
          "metadata": {},
          "execution_count": 7
        }
      ],
      "source": [
        "df = pd.read_csv('/content/drive/MyDrive/Drug Repurposing Project/Combined_Interaction_PDB_Targets.csv')\n",
        "df.columns"
      ]
    },
    {
      "cell_type": "markdown",
      "metadata": {
        "id": "tb3x46mFA9xr"
      },
      "source": [
        "### 🧬 Key Column Descriptions – `combined_targets.csv`\n",
        "\n",
        "| Column Name     | Description                                                                 |\n",
        "|------------------|-----------------------------------------------------------------------------|\n",
        "| `pdbid`          | PDB ID of the protein-ligand structure (e.g., `4I24`)                       |\n",
        "| `title`          | Title/description of the structure (often includes protein and ligand info)|\n",
        "| `expmethod`      | Method used to determine the structure (e.g., X-RAY DIFFRACTION)            |\n",
        "| `resolution`     | Resolution of the structure in Ångströms; lower values = better quality     |\n",
        "| `lignme`         | Ligand(s) present in the structure (e.g., `CLQ` = chloroquine)              |\n",
        "| `cids`           | PubChem Compound IDs (CIDs) for ligands in the structure                    |\n",
        "| `protacxns`      | UniProt accession ID(s) or protein IDs involved in the interaction          |\n",
        "| `geneids`        | NCBI Gene IDs corresponding to the proteins                                 |\n",
        "| `pmid`           | PubMed ID of the publication describing the structure                       |\n",
        "| `dois`           | DOI (Digital Object Identifier) for the structure's publication             |\n",
        "| `pmcids`         | PubMed Central ID, if available                                              |\n",
        "| `pclids`         | PubChem Literature IDs                                                       |\n",
        "| `citations`      | Full text reference or author list                                          |\n",
        "| `source_file`    | Name of the original CSV file (e.g., `444810.csv`) that this row came from  |\n"
      ]
    },
    {
      "cell_type": "markdown",
      "source": [
        "# ✅ Step 1: Download PDB Structures of Drug Targets\n",
        "\n",
        "We have a list of drugs (PubChem CIDs) and their known protein targets.\n",
        "\n",
        "Goal:\n",
        "Find the 3D structure (PDB file) of each protein target (the human protein that interacts with the drug).\n",
        "\n",
        "How:\n",
        "For each PubChem CID + Target:\n",
        "\n",
        "    Search RCSB Protein Data Bank to see if there’s a known structure.\n",
        "\n",
        "    If found, download the .pdb or .cif file and save it.\n",
        "\n",
        "This gives you the structures of the human proteins that the drugs are known to interact with."
      ],
      "metadata": {
        "id": "fILiLXmEamK5"
      }
    },
    {
      "cell_type": "markdown",
      "source": [],
      "metadata": {
        "id": "g4KKeDELamqC"
      }
    },
    {
      "cell_type": "code",
      "execution_count": null,
      "metadata": {
        "id": "z-_FcfDC_2Oq"
      },
      "outputs": [],
      "source": [
        "# --- 2. Sequence Extraction ---\n",
        "def extract_protein_chains(pdb_file_path):\n",
        "    \"\"\"Extracts protein chain sequences from a PDB file.\"\"\"\n",
        "    parser = PDBParser(QUIET=True)\n",
        "    structure = parser.get_structure(\"structure\", pdb_file_path)\n",
        "    ppb = PPBuilder()\n",
        "    chain_sequences = {}\n",
        "    for model in structure:\n",
        "        for chain in model:\n",
        "            residues = [res for res in chain if is_aa(res)]\n",
        "            if residues:\n",
        "                peptides = ppb.build_peptides(chain)\n",
        "                if peptides:\n",
        "                    sequence = ''.join(str(peptide.get_sequence()) for peptide in peptides)\n",
        "                    if sequence:\n",
        "                        chain_sequences[chain.id] = sequence\n",
        "    return chain_sequences\n",
        "\n",
        "# --- 3. BLAST Functions ---\n",
        "def blast_sequence(sequence, tax_id=\"5833\"):\n",
        "    \"\"\"Performs a BLAST search against the PDB database.\"\"\"\n",
        "    result_handle = NCBIWWW.qblast(\n",
        "        program=\"blastp\",\n",
        "        database=\"pdb\",\n",
        "        sequence=sequence,\n",
        "        entrez_query=f\"txid{tax_id}[ORGN]\",\n",
        "        hitlist_size=3\n",
        "    )\n",
        "    return NCBIXML.read(result_handle)\n",
        "\n",
        "def safe_blast_with_timeout(sequence, timeout=600):\n",
        "    \"\"\"Performs BLAST with a timeout to prevent indefinite waiting.\"\"\"\n",
        "    with concurrent.futures.ThreadPoolExecutor() as executor:\n",
        "        future = executor.submit(blast_sequence, sequence)\n",
        "        try:\n",
        "            return future.result(timeout=timeout)\n",
        "        except concurrent.futures.TimeoutError:\n",
        "            print(\"⏰ Timeout reached! Skipping this chain.\")\n",
        "            return None\n",
        "\n",
        "# --- 4. UniProt PDB Mapping ---\n",
        "def get_pdb_for_accession(accession):\n",
        "    \"\"\"Retrieves PDB IDs associated with a UniProt accession.\"\"\"\n",
        "    url = f\"https://rest.uniprot.org/uniprotkb/{accession}.json\"\n",
        "    response = requests.get(url)\n",
        "    if response.ok:\n",
        "        data = response.json()\n",
        "        pdbs = []\n",
        "        for xref in data.get(\"uniProtKBCrossReferences\", []):\n",
        "            if xref[\"database\"] == \"PDB\":\n",
        "                pdbs.append(xref[\"id\"])\n",
        "        return pdbs\n",
        "    return []\n",
        "\n",
        "# --- 5. PDB and AlphaFold Download ---\n",
        "def download_file(url, dest_path, description):\n",
        "    \"\"\"Downloads a file from a URL.\"\"\"\n",
        "    if os.path.exists(dest_path):\n",
        "        print(f\"📦 Skipping already downloaded {description}\")\n",
        "        return dest_path\n",
        "    r = requests.get(url)\n",
        "    if r.ok:\n",
        "        with open(dest_path, 'w') as f:\n",
        "            f.write(r.text)\n",
        "        print(f\"📥 Downloaded {description}\")\n",
        "        return dest_path\n",
        "    print(f\"⚠️ Failed to download {description}\")\n",
        "    return None\n",
        "\n",
        "def download_pdb(pdb_id, dest_folder):\n",
        "    \"\"\"Downloads a PDB file.\"\"\"\n",
        "    dest_path = os.path.join(dest_folder, f\"{pdb_id}.pdb\")\n",
        "    url = f\"https://files.rcsb.org/download/{pdb_id}.pdb\"\n",
        "    return download_file(url, dest_path, f\"PDB {pdb_id}\")\n",
        "\n",
        "def download_alphafold(uniprot_id, dest_folder):\n",
        "    \"\"\"Downloads an AlphaFold model.\"\"\"\n",
        "    file_name = f\"AF-{uniprot_id}.pdb\"\n",
        "    dest_path = os.path.join(dest_folder, file_name)\n",
        "    url = f\"https://alphafold.ebi.ac.uk/files/{file_name}\"\n",
        "    return download_file(url, dest_path, f\"AlphaFold model for {uniprot_id}\")\n",
        "\n",
        "# --- 6. Main Processing Loop ---\n",
        "for folder_name in os.listdir(BASE_PATH):\n",
        "    folder_path = os.path.join(BASE_PATH, folder_name)\n",
        "    if os.path.isdir(folder_path):\n",
        "        for file in os.listdir(folder_path):\n",
        "            if file.endswith('.pdb'):\n",
        "                pdb_file_path = os.path.join(folder_path, file)\n",
        "                pdb_id = file.replace('.pdb', '')\n",
        "                pubchem_id = folder_name\n",
        "\n",
        "                print(f\"\\n📄 Processing {pdb_id} from PubChem {pubchem_id}\")\n",
        "                protein_chains = extract_protein_chains(pdb_file_path)\n",
        "\n",
        "                for chain_id, sequence in protein_chains.items():\n",
        "                    json_name = f\"{pubchem_id}_{pdb_id}_{chain_id}.json\"\n",
        "                    json_file_path = os.path.join(SAVE_PATH, json_name)\n",
        "\n",
        "                    if os.path.exists(json_file_path):\n",
        "                        print(f\"⏭️ Skipping chain {chain_id} (already processed)\")\n",
        "                        continue\n",
        "\n",
        "                    print(f\"\\n🧬 Chain {chain_id} | Length: {len(sequence)}\")\n",
        "                    result = safe_blast_with_timeout(sequence)\n",
        "\n",
        "                    if result and result.alignments:\n",
        "                        top_hits = []\n",
        "                        for alignment in result.alignments[:3]:\n",
        "                            hsp = alignment.hsps[0]\n",
        "                            pdb_code, chain_code = None, None\n",
        "                            parts = alignment.hit_id.split('|')\n",
        "                            if alignment.hit_id.startswith('pdb|') and len(parts) >= 3:\n",
        "                                pdb_code, chain_code = parts[1], parts[2]\n",
        "\n",
        "                            hit = {\n",
        "                                \"hit_def\": alignment.hit_def,\n",
        "                                \"e_value\": hsp.expect,\n",
        "                                \"score\": hsp.score,\n",
        "                                \"query\": hsp.query[:60],\n",
        "                                \"subject\": hsp.sbjct[:60],\n",
        "                                \"pdb_code\": pdb_code,\n",
        "                                \"chain\": chain_code\n",
        "                            }\n",
        "\n",
        "                            acc = parts[1] if parts else None\n",
        "                            if acc:\n",
        "                                mapped_pdbs = get_pdb_for_accession(acc)\n",
        "                                hit['mapped_pdbs'] = mapped_pdbs\n",
        "                                for pdb_id_hit in mapped_pdbs:\n",
        "                                    download_pdb(pdb_id_hit, PDB_SAVE_PATH)\n",
        "                                if not mapped_pdbs:\n",
        "                                    download_alphafold(acc, PDB_SAVE_PATH)\n",
        "\n",
        "                            top_hits.append(hit)\n",
        "\n",
        "                        with open(json_file_path, 'w') as f:\n",
        "                            json.dump(top_hits, f, indent=2)\n",
        "                        print(f\"💾 Saved results to {json_file_path}\")\n",
        "\n",
        "                    else:\n",
        "                        print(f\"❌ No valid BLAST result for {pdb_id} Chain {chain_id}\")\n",
        "                        no_hits_file = os.path.join(SAVE_PATH, \"no_pdb_hits.txt\")\n",
        "                        with open(no_hits_file, 'a') as f:\n",
        "                            f.write(f\"{pubchem_id}_{pdb_id}_{chain_id}\\n\")"
      ]
    },
    {
      "cell_type": "code",
      "source": [],
      "metadata": {
        "id": "em_d8hgSmSAg"
      },
      "execution_count": null,
      "outputs": []
    }
  ],
  "metadata": {
    "colab": {
      "provenance": [],
      "authorship_tag": "ABX9TyP/CVVhNQz6LqbJLBfT0rJw",
      "include_colab_link": true
    },
    "kernelspec": {
      "display_name": "Python 3",
      "name": "python3"
    },
    "language_info": {
      "name": "python"
    }
  },
  "nbformat": 4,
  "nbformat_minor": 0
}