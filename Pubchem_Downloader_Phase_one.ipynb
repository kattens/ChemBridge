{
  "nbformat": 4,
  "nbformat_minor": 0,
  "metadata": {
    "colab": {
      "provenance": [],
      "mount_file_id": "1nUqLK5WqiMEJ2_o0rqC1OA5E4Fb_ets2",
      "authorship_tag": "ABX9TyOMVdFK74wlzMIPnzx3tk8m",
      "include_colab_link": true
    },
    "kernelspec": {
      "name": "python3",
      "display_name": "Python 3"
    },
    "language_info": {
      "name": "python"
    }
  },
  "cells": [
    {
      "cell_type": "markdown",
      "metadata": {
        "id": "view-in-github",
        "colab_type": "text"
      },
      "source": [
        "<a href=\"https://colab.research.google.com/github/kattens/PubChem-Data-Handler/blob/main/Pubchem_Downloader_Phase_one.ipynb\" target=\"_parent\"><img src=\"https://colab.research.google.com/assets/colab-badge.svg\" alt=\"Open In Colab\"/></a>"
      ]
    },
    {
      "cell_type": "code",
      "execution_count": 2,
      "metadata": {
        "id": "kKc8xF3T8SiS"
      },
      "outputs": [],
      "source": [
        "%%capture\n",
        "!pip install PubChemPy"
      ]
    },
    {
      "cell_type": "code",
      "source": [
        "import csv\n",
        "import pandas as pd\n",
        "import pubchempy as pcp\n",
        "import os\n",
        "import requests"
      ],
      "metadata": {
        "id": "lo_Nt5Pu0Mqw"
      },
      "execution_count": 3,
      "outputs": []
    },
    {
      "cell_type": "code",
      "source": [
        "file_path = '/content/drive/MyDrive/cdot_actives_50 1.xlsx'\n",
        "\n",
        "df = pd.read_excel(file_path)"
      ],
      "metadata": {
        "id": "nJ7j4Egg0RDv"
      },
      "execution_count": 4,
      "outputs": []
    },
    {
      "cell_type": "code",
      "source": [
        "#based on a experiment theres some NaN values in the column that we should remove\n",
        "#remove the rows with NaN as the pubchem_cid value\n",
        "df = df.dropna(subset=['pubchem_cid'])"
      ],
      "metadata": {
        "id": "lgCThy304TL8"
      },
      "execution_count": 5,
      "outputs": []
    },
    {
      "cell_type": "code",
      "source": [
        "#access to the pubchem_cid column\n",
        "df['pubchem_cid']"
      ],
      "metadata": {
        "colab": {
          "base_uri": "https://localhost:8080/",
          "height": 458
        },
        "id": "wtZ9uV3471_1",
        "outputId": "41dc2eeb-7bd3-423c-a00d-192c39c77f22"
      },
      "execution_count": 6,
      "outputs": [
        {
          "output_type": "execute_result",
          "data": {
            "text/plain": [
              "0      5330175.0\n",
              "1      5311340.0\n",
              "2     11511120.0\n",
              "3       221354.0\n",
              "4      6806409.0\n",
              "         ...    \n",
              "60     9829836.0\n",
              "61    51031035.0\n",
              "62      452192.0\n",
              "63       30323.0\n",
              "64    11785878.0\n",
              "Name: pubchem_cid, Length: 63, dtype: float64"
            ],
            "text/html": [
              "<div>\n",
              "<style scoped>\n",
              "    .dataframe tbody tr th:only-of-type {\n",
              "        vertical-align: middle;\n",
              "    }\n",
              "\n",
              "    .dataframe tbody tr th {\n",
              "        vertical-align: top;\n",
              "    }\n",
              "\n",
              "    .dataframe thead th {\n",
              "        text-align: right;\n",
              "    }\n",
              "</style>\n",
              "<table border=\"1\" class=\"dataframe\">\n",
              "  <thead>\n",
              "    <tr style=\"text-align: right;\">\n",
              "      <th></th>\n",
              "      <th>pubchem_cid</th>\n",
              "    </tr>\n",
              "  </thead>\n",
              "  <tbody>\n",
              "    <tr>\n",
              "      <th>0</th>\n",
              "      <td>5330175.0</td>\n",
              "    </tr>\n",
              "    <tr>\n",
              "      <th>1</th>\n",
              "      <td>5311340.0</td>\n",
              "    </tr>\n",
              "    <tr>\n",
              "      <th>2</th>\n",
              "      <td>11511120.0</td>\n",
              "    </tr>\n",
              "    <tr>\n",
              "      <th>3</th>\n",
              "      <td>221354.0</td>\n",
              "    </tr>\n",
              "    <tr>\n",
              "      <th>4</th>\n",
              "      <td>6806409.0</td>\n",
              "    </tr>\n",
              "    <tr>\n",
              "      <th>...</th>\n",
              "      <td>...</td>\n",
              "    </tr>\n",
              "    <tr>\n",
              "      <th>60</th>\n",
              "      <td>9829836.0</td>\n",
              "    </tr>\n",
              "    <tr>\n",
              "      <th>61</th>\n",
              "      <td>51031035.0</td>\n",
              "    </tr>\n",
              "    <tr>\n",
              "      <th>62</th>\n",
              "      <td>452192.0</td>\n",
              "    </tr>\n",
              "    <tr>\n",
              "      <th>63</th>\n",
              "      <td>30323.0</td>\n",
              "    </tr>\n",
              "    <tr>\n",
              "      <th>64</th>\n",
              "      <td>11785878.0</td>\n",
              "    </tr>\n",
              "  </tbody>\n",
              "</table>\n",
              "<p>63 rows × 1 columns</p>\n",
              "</div><br><label><b>dtype:</b> float64</label>"
            ]
          },
          "metadata": {},
          "execution_count": 6
        }
      ]
    },
    {
      "cell_type": "code",
      "source": [
        "#make a list\n",
        "pubchem_ids = df['pubchem_cid'].tolist() #type = float\n",
        "pubchem_targets = df['target'].tolist() #type = string\n",
        "\n",
        "#convert the float to int\n",
        "pubchem_ids = [int(i) for i in pubchem_ids]\n",
        "\n",
        "#make every element in pubchem_targets a list and if see | break and make a new entry in the list\n",
        "for i in range(len(pubchem_targets)):\n",
        "  if isinstance(pubchem_targets[i], str): #checking if the element is a string before continuing\n",
        "    if '|' in pubchem_targets[i]:\n",
        "        pubchem_targets[i] = pubchem_targets[i].strip().split('|')\n",
        "    else:\n",
        "        #remove the '' from the entry\n",
        "        pubchem_targets[i] = pubchem_targets[i].strip().replace(' ', '') #Added strip before replace\n",
        "        pubchem_targets[i] = [pubchem_targets[i]]\n",
        "\n",
        "'''\n",
        "#just to make sure the values are correct to make a dict\n",
        "print(len(pubchem_ids))\n",
        "print(len(pubchem_targets))\n",
        "print(type(pubchem_targets[2][0]))\n",
        "'''\n",
        "\n",
        "#make a dictionary such that ids are the keys and targets are the values\n",
        "pubchem_dict = dict(zip(pubchem_ids , pubchem_targets))\n",
        "print(pubchem_dict)\n"
      ],
      "metadata": {
        "colab": {
          "base_uri": "https://localhost:8080/"
        },
        "id": "f4rQ_LG433Lr",
        "outputId": "ee4b07f9-9e5f-4b60-b0a5-a7667e01bb01"
      },
      "execution_count": 7,
      "outputs": [
        {
          "output_type": "stream",
          "name": "stdout",
          "text": [
            "{5330175: ['SRC'], 5311340: ['OPRL1'], 11511120: ['EGFR', 'ERBB2', 'ERBB4'], 221354: ['CCR1'], 6806409: ['TP53', 'USP14'], 5329480: ['EGFR', 'ERBB2'], 12947: ['TLR7', 'TLR9'], 444810: ['MRGPRX1'], 135421339: ['BRAF'], 9939609: ['PLA2G7'], 42627755: ['ERNÂ\\xa01.00'], 53464483: ['TRPV4'], 3647519: ['HNMT'], 9810709: ['TOP2A'], 6413301: ['TP53', 'USP14'], 119081415: ['CDK7'], 5311382: ['EGFR', 'FGFR1', 'PDGFRB', 'PKMYT1', 'SRC', 'WEE1'], 53315868: ['EHMT2'], 10219: ['RPS2'], 9914412: ['AURKA', 'AURKB'], 2993: ['KCNN1', 'KCNN3'], 24756910: ['EGFR', 'ERBB2'], 6918097: ['ADORA3'], 4534086: ['SLC8A1', 'TRPC3', 'TRPC5', 'TRPC6'], 73416445: ['ATP1A1'], 132928: ['BDKRB2'], 5281035: ['AR'], 121750: ['TYMS'], 9852185: ['BCL2'], 51000408: ['ATR'], 73602827: ['CDK7'], 3499: ['PRKCA', 'PRKCB', 'PRKCD', 'PRKCG', 'PRKCZ'], 9809926: ['CACNA2D1'], 41867: ['CHD1', 'TOP2A'], 6918837: ['HDAC1', 'HDAC2', 'HDAC3', 'HDAC4', 'HDAC6', 'HDAC7', 'HDAC8', 'HDAC9'], 24858111: ['DNMT1', 'DNMT3A', 'DNMT3B'], 33630: ['CACNA1G'], 2798: ['KCNA5', 'KCNH1'], 441074: ['KCNA5', 'KCNA7', 'KCNH1', 'KCNH2', 'KCNH5', 'KCNK1', 'KCNK6', 'SCN5A', 'SLC29A4'], 4735: ['TRDMT1'], 3034034: ['GP9', 'KCNB2', 'KCNN4', 'SLC29A4'], 676352: ['CASP3'], 49855250: ['HDAC1', 'HDAC10', 'HDAC2', 'HDAC3', 'HDAC4', 'HDAC5', 'HDAC6', 'HDAC9'], 154257: ['ESR1', 'ESR2'], 24795070: ['FLT3', 'PIM1', 'PIM2', 'PIM3'], 11978790: ['MTOR', 'PIK3CA', 'PIK3CB', 'PIK3CG'], 439530: ['NHP2L1', 'RPL10L', 'RPL11', 'RPL13A', 'RPL15', 'RPL19', 'RPL23', 'RPL23A', 'RPL26L1', 'RPL3', 'RPL37', 'RPL8', 'RSL24D1'], 6445562: ['EGFR'], 9829526: ['ADRA1A', 'ADRA1B', 'ADRA1D'], 5583: ['DHFR'], 446536: ['PLA2G1B'], 46848036: ['ABL1', 'PDGFRB'], 9549305: ['IGF1R'], 25150857: ['EHMT1', 'EHMT2'], 53315882: ['EHMT2'], 6197: ['RPL3'], 51358113: ['MTOR'], 16007391: ['AURKB'], 9829836: ['ADRB1', 'ADRB2', 'ADRB3'], 51031035: ['RAC1', 'RAC3'], 452192: ['HIF1A'], 30323: ['TOP2A', 'TOP2B'], 11785878: ['LCK']}\n"
          ]
        }
      ]
    },
    {
      "cell_type": "markdown",
      "source": [
        "# Now we have a dictionary of the ids and targets.\n"
      ],
      "metadata": {
        "id": "aSHQactQ9MrR"
      }
    },
    {
      "cell_type": "code",
      "source": [
        "for cid in pubchem_ids:\n",
        "  print(cid)"
      ],
      "metadata": {
        "id": "SXfO_BjWciH4",
        "colab": {
          "base_uri": "https://localhost:8080/"
        },
        "outputId": "9a0c6f0f-fcb4-4ad3-ab30-48b49a28b7ba"
      },
      "execution_count": 8,
      "outputs": [
        {
          "output_type": "stream",
          "name": "stdout",
          "text": [
            "5330175\n",
            "5311340\n",
            "11511120\n",
            "221354\n",
            "6806409\n",
            "5329480\n",
            "12947\n",
            "444810\n",
            "135421339\n",
            "9939609\n",
            "42627755\n",
            "53464483\n",
            "3647519\n",
            "9810709\n",
            "6413301\n",
            "119081415\n",
            "5311382\n",
            "53315868\n",
            "10219\n",
            "9914412\n",
            "2993\n",
            "24756910\n",
            "6918097\n",
            "4534086\n",
            "73416445\n",
            "132928\n",
            "5281035\n",
            "121750\n",
            "9852185\n",
            "51000408\n",
            "73602827\n",
            "3499\n",
            "9809926\n",
            "41867\n",
            "6918837\n",
            "24858111\n",
            "33630\n",
            "2798\n",
            "441074\n",
            "4735\n",
            "3034034\n",
            "676352\n",
            "49855250\n",
            "154257\n",
            "24795070\n",
            "11978790\n",
            "439530\n",
            "6445562\n",
            "9829526\n",
            "5583\n",
            "446536\n",
            "46848036\n",
            "9549305\n",
            "25150857\n",
            "53315882\n",
            "6197\n",
            "51358113\n",
            "16007391\n",
            "9829836\n",
            "51031035\n",
            "452192\n",
            "30323\n",
            "11785878\n"
          ]
        }
      ]
    },
    {
      "cell_type": "code",
      "source": [
        "'''\n",
        "Next step is to download the ids biological test results csv files from pubchem website\n",
        "We tried to use the PUG API but it wasnt downloading the correct files so we did it manually\n",
        "'''\n",
        "\n",
        "#folder to save the csv files in:\n",
        "folder_path = '/content/drive/MyDrive/IDS_Target_Result'\n",
        "\n",
        "def fetch_bioassay_results(pubchem_ids, folder_path):\n",
        "    # Ensure the folder exists\n",
        "    os.makedirs(folder_path, exist_ok=True)\n",
        "    for cid in pubchem_ids:\n",
        "        # The url, using f-string formatting -> same for all the files\n",
        "        url = f\"https://pubchem.ncbi.nlm.nih.gov/sdq/sdqagent.cgi?infmt=json&outfmt=csv&query={{%22download%22:%22*%22,%22collection%22:%22bioactivity%22,%22order%22:[%22acvalue,asc%22],%22start%22:1,%22limit%22:10000000,%22downloadfilename%22:%22pubchem_cid_{cid}_bioactivity%22,%22nullatbottom%22:1,%22where%22:{{%22ands%22:[{{%22cid%22:%22{cid}%22}}]}}}}\"\n",
        "\n",
        "        # Send a GET request to the API\n",
        "        response = requests.get(url)\n",
        "\n",
        "        # Check if the request was successful\n",
        "        if response.status_code == 200:\n",
        "            # Define the file path\n",
        "            file_path = os.path.join(folder_path, f\"{cid}.csv\")\n",
        "            # Write the content to a CSV file\n",
        "            with open(file_path, 'wb') as file:\n",
        "                file.write(response.content)\n",
        "            print(f\"Bioassay data for CID {cid} has been downloaded and saved to {file_path}\")\n",
        "        else:\n",
        "            print(f\"Failed to retrieve bioassay data for CID {cid}. HTTP Status Code: {response.status_code}\")\n",
        "\n",
        "\n"
      ],
      "metadata": {
        "id": "zJ39h15r9cVd"
      },
      "execution_count": 9,
      "outputs": []
    },
    {
      "cell_type": "code",
      "source": [
        "fetch_bioassay_results(pubchem_ids , folder_path)"
      ],
      "metadata": {
        "id": "vHJoOjZTcO9y"
      },
      "execution_count": null,
      "outputs": []
    },
    {
      "cell_type": "markdown",
      "source": [
        "#Now that we have all the csv files we should extract and create the dictionary for the new ids and targets."
      ],
      "metadata": {
        "id": "F7avUZDievt5"
      }
    },
    {
      "cell_type": "code",
      "source": [
        "#open csv and get the column names\n",
        "new_df = pd.read_csv('/content/drive/MyDrive/IDS_Target_Result/10219.csv')\n",
        "print(new_df.columns)"
      ],
      "metadata": {
        "id": "hSteAljbfVQX",
        "colab": {
          "base_uri": "https://localhost:8080/"
        },
        "outputId": "66c018de-3901-4a74-989e-7f72619af1ab"
      },
      "execution_count": 12,
      "outputs": [
        {
          "output_type": "stream",
          "name": "stdout",
          "text": [
            "Index([' baid', 'acvalue', 'aid', 'sid', 'cid', 'geneid', 'pmid', 'aidtype',\n",
            "       'aidmdate', 'hasdrc', 'rnai', 'activity', 'protacxn', 'acname',\n",
            "       'acqualifier', 'aidsrcname', 'aidname', 'cmpdname', 'targetname',\n",
            "       'targeturl', 'ecs', 'repacxn', 'taxid', 'cellids', 'targettaxid',\n",
            "       'anatomyid', 'anatomy', 'dois', 'pmcids', 'pclids', 'citations'],\n",
            "      dtype='object')\n"
          ]
        }
      ]
    },
    {
      "source": [
        "#create an empty dictionary\n",
        "bioessay_dict = {}\n",
        "\n",
        "#go through all the csv files in the folder, have the name of the file as key and the column 'targetname' as value\n",
        "for file in os.listdir(folder_path):\n",
        "  if file.endswith('.csv'):\n",
        "    file_path = os.path.join(folder_path , file)\n",
        "    df = pd.read_csv(file_path)\n",
        "    bioessay_dict[file] = df['targetname'].tolist()\n",
        ""
      ],
      "cell_type": "code",
      "metadata": {
        "id": "6mrkV2IDDFZf"
      },
      "execution_count": 13,
      "outputs": []
    },
    {
      "cell_type": "markdown",
      "source": [
        "#As shown here:\n",
        "3034034 pubchem id has many targets\n",
        "we may run into things like that but number of the unique elements are not much."
      ],
      "metadata": {
        "id": "ewUVzIL1oBiJ"
      }
    },
    {
      "cell_type": "code",
      "source": [
        "#give example from the bioessay_dict with the first entry\n",
        "print(list(bioessay_dict.items())[40])\n",
        "#check how many elements are there in the value which is a list\n",
        "print(len(list(bioessay_dict.values())[30]))\n",
        "#also drop the values that are similar only keep the unique ones in the list\n",
        "print(len(set(list(bioessay_dict.values())[30])))\n",
        "print(list(set(list(bioessay_dict.values())[30])))"
      ],
      "metadata": {
        "id": "IfXR13ZXhzkv",
        "outputId": "f6e85830-8ddd-4632-be43-aa85339a8ce5",
        "colab": {
          "base_uri": "https://localhost:8080/"
        }
      },
      "execution_count": 19,
      "outputs": [
        {
          "output_type": "stream",
          "name": "stdout",
          "text": [
            "('3034034.csv', ['Plasmodium falciparum (malaria parasite P. falciparum)', 'Plasmodium falciparum (malaria parasite P. falciparum)', 'Plasmodium falciparum (malaria parasite P. falciparum)', 'CYP2D6 - cytochrome P450 family 2 subfamily D member 6 (gene/pseudogene) (human)', 'Plasmodium falciparum (malaria parasite P. falciparum)', 'Plasmodium falciparum (malaria parasite P. falciparum)', 'Plasmodium falciparum (malaria parasite P. falciparum)', 'Plasmodium falciparum (malaria parasite P. falciparum)', 'Plasmodium falciparum (malaria parasite P. falciparum)', 'Plasmodium falciparum (malaria parasite P. falciparum)', 'Plasmodium falciparum (malaria parasite P. falciparum)', 'Plasmodium falciparum (malaria parasite P. falciparum)', 'Plasmodium falciparum (malaria parasite P. falciparum)', 'Plasmodium falciparum (malaria parasite P. falciparum)', 'Plasmodium falciparum (malaria parasite P. falciparum)', 'Plasmodium falciparum (malaria parasite P. falciparum)', 'Plasmodium falciparum (malaria parasite P. falciparum)', 'Plasmodium falciparum (malaria parasite P. falciparum)', 'Plasmodium falciparum (malaria parasite P. falciparum)', 'Plasmodium falciparum (malaria parasite P. falciparum)', 'Plasmodium falciparum (malaria parasite P. falciparum)', 'Plasmodium falciparum (malaria parasite P. falciparum)', 'Plasmodium falciparum (malaria parasite P. falciparum)', 'Plasmodium falciparum (malaria parasite P. falciparum)', 'Plasmodium falciparum (malaria parasite P. falciparum)', 'Plasmodium falciparum (malaria parasite P. falciparum)', 'Plasmodium falciparum (malaria parasite P. falciparum)', 'Plasmodium falciparum (malaria parasite P. falciparum)', 'Plasmodium falciparum (malaria parasite P. falciparum)', 'Plasmodium falciparum (malaria parasite P. falciparum)', 'Plasmodium falciparum (malaria parasite P. falciparum)', 'Plasmodium falciparum (malaria parasite P. falciparum)', 'Plasmodium falciparum (malaria parasite P. falciparum)', 'Plasmodium falciparum (malaria parasite P. falciparum)', 'Plasmodium falciparum (malaria parasite P. falciparum)', 'Plasmodium falciparum (malaria parasite P. falciparum)', 'Plasmodium falciparum (malaria parasite P. falciparum)', 'Plasmodium falciparum (malaria parasite P. falciparum)', 'Plasmodium falciparum (malaria parasite P. falciparum)', 'Plasmodium falciparum (malaria parasite P. falciparum)', 'Plasmodium falciparum (malaria parasite P. falciparum)', 'Plasmodium falciparum (malaria parasite P. falciparum)', 'Plasmodium falciparum (malaria parasite P. falciparum)', 'Plasmodium falciparum (malaria parasite P. falciparum)', 'Plasmodium falciparum (malaria parasite P. falciparum)', 'Plasmodium falciparum (malaria parasite P. falciparum)', 'Plasmodium falciparum (malaria parasite P. falciparum)', 'Plasmodium falciparum (malaria parasite P. falciparum)', 'Plasmodium falciparum (malaria parasite P. falciparum)', 'Plasmodium falciparum (malaria parasite P. falciparum)', 'Plasmodium falciparum (malaria parasite P. falciparum)', 'Plasmodium falciparum (malaria parasite P. falciparum)', 'Plasmodium falciparum (malaria parasite P. falciparum)', 'Plasmodium falciparum (malaria parasite P. falciparum)', 'Plasmodium falciparum (malaria parasite P. falciparum)', 'Plasmodium falciparum (malaria parasite P. falciparum)', 'Plasmodium falciparum (malaria parasite P. falciparum)', 'Plasmodium falciparum (malaria parasite P. falciparum)', 'Plasmodium falciparum (malaria parasite P. falciparum)', 'Plasmodium falciparum (malaria parasite P. falciparum)', 'Plasmodium falciparum (malaria parasite P. falciparum)', 'Plasmodium falciparum (malaria parasite P. falciparum)', 'Plasmodium falciparum (malaria parasite P. falciparum)', 'Plasmodium falciparum (malaria parasite P. falciparum)', 'Plasmodium falciparum (malaria parasite P. falciparum)', 'Plasmodium falciparum (malaria parasite P. falciparum)', 'Plasmodium falciparum (malaria parasite P. falciparum)', 'Plasmodium falciparum (malaria parasite P. falciparum)', 'Plasmodium falciparum (malaria parasite P. falciparum)', 'Plasmodium falciparum (malaria parasite P. falciparum)', 'Plasmodium falciparum (malaria parasite P. falciparum)', 'Plasmodium falciparum (malaria parasite P. falciparum)', 'Plasmodium falciparum (malaria parasite P. falciparum)', 'Plasmodium falciparum (malaria parasite P. falciparum)', 'Plasmodium falciparum (malaria parasite P. falciparum)', 'Plasmodium falciparum (malaria parasite P. falciparum)', 'Plasmodium falciparum (malaria parasite P. falciparum)', 'Plasmodium falciparum (malaria parasite P. falciparum)', 'Plasmodium falciparum (malaria parasite P. falciparum)', 'Plasmodium falciparum (malaria parasite P. falciparum)', 'Plasmodium falciparum (malaria parasite P. falciparum)', 'Plasmodium falciparum (malaria parasite P. falciparum)', 'Plasmodium falciparum (malaria parasite P. falciparum)', 'Plasmodium falciparum (malaria parasite P. falciparum)', 'Plasmodium falciparum (malaria parasite P. falciparum)', 'Plasmodium falciparum (malaria parasite P. falciparum)', 'Plasmodium falciparum (malaria parasite P. falciparum)', 'Plasmodium falciparum (malaria parasite P. falciparum)', 'Cyp2d2 - cytochrome P450, family 2, subfamily d, polypeptide 2 (Norway rat)', 'Plasmodium falciparum (malaria parasite P. falciparum)', 'Plasmodium falciparum (malaria parasite P. falciparum)', 'Plasmodium falciparum (malaria parasite P. falciparum)', 'Plasmodium falciparum (malaria parasite P. falciparum)', 'Plasmodium falciparum (malaria parasite P. falciparum)', 'Plasmodium falciparum (malaria parasite P. falciparum)', 'Plasmodium falciparum (malaria parasite P. falciparum)', 'Plasmodium falciparum (malaria parasite P. falciparum)', 'Plasmodium falciparum (malaria parasite P. falciparum)', 'Plasmodium falciparum (malaria parasite P. falciparum)', 'Plasmodium falciparum (malaria parasite P. falciparum)', 'Plasmodium falciparum (malaria parasite P. falciparum)', 'Plasmodium falciparum (malaria parasite P. falciparum)', 'Plasmodium falciparum (malaria parasite P. falciparum)', 'Plasmodium falciparum (malaria parasite P. falciparum)', 'Plasmodium falciparum (malaria parasite P. falciparum)', 'Plasmodium falciparum (malaria parasite P. falciparum)', nan, 'Plasmodium falciparum (malaria parasite P. falciparum)', 'Plasmodium falciparum (malaria parasite P. falciparum)', 'Plasmodium falciparum (malaria parasite P. falciparum)', 'Plasmodium falciparum (malaria parasite P. falciparum)', 'Plasmodium falciparum (malaria parasite P. falciparum)', 'Plasmodium falciparum (malaria parasite P. falciparum)', 'Plasmodium falciparum (malaria parasite P. falciparum)', 'Plasmodium falciparum (malaria parasite P. falciparum)', 'Plasmodium falciparum (malaria parasite P. falciparum)', 'Plasmodium falciparum (malaria parasite P. falciparum)', 'Plasmodium falciparum (malaria parasite P. falciparum)', 'Plasmodium falciparum (malaria parasite P. falciparum)', 'Plasmodium falciparum (malaria parasite P. falciparum)', 'Plasmodium falciparum (malaria parasite P. falciparum)', 'Plasmodium falciparum (malaria parasite P. falciparum)', 'Plasmodium falciparum (malaria parasite P. falciparum)', 'Plasmodium falciparum (malaria parasite P. falciparum)', 'Plasmodium falciparum (malaria parasite P. falciparum)', 'Plasmodium falciparum (malaria parasite P. falciparum)', 'Plasmodium falciparum (malaria parasite P. falciparum)', 'Plasmodium falciparum (malaria parasite P. falciparum)', 'Plasmodium falciparum (malaria parasite P. falciparum)', 'Plasmodium falciparum (malaria parasite P. falciparum)', 'Plasmodium falciparum (malaria parasite P. falciparum)', 'Plasmodium falciparum (malaria parasite P. falciparum)', 'Plasmodium falciparum (malaria parasite P. falciparum)', 'Plasmodium falciparum (malaria parasite P. falciparum)', 'Plasmodium falciparum (malaria parasite P. falciparum)', 'Plasmodium falciparum (malaria parasite P. falciparum)', 'Plasmodium falciparum (malaria parasite P. falciparum)', 'Plasmodium falciparum (malaria parasite P. falciparum)', 'Plasmodium falciparum (malaria parasite P. falciparum)', 'Plasmodium falciparum (malaria parasite P. falciparum)', 'Plasmodium falciparum (malaria parasite P. falciparum)', 'Plasmodium falciparum (malaria parasite P. falciparum)', 'Plasmodium falciparum (malaria parasite P. falciparum)', 'Plasmodium falciparum (malaria parasite P. falciparum)', 'Plasmodium falciparum (malaria parasite P. falciparum)', 'Plasmodium falciparum (malaria parasite P. falciparum)', 'Plasmodium falciparum (malaria parasite P. falciparum)', 'Plasmodium falciparum (malaria parasite P. falciparum)', 'Plasmodium falciparum (malaria parasite P. falciparum)', 'Plasmodium falciparum (malaria parasite P. falciparum)', 'Plasmodium falciparum (malaria parasite P. falciparum)', 'Plasmodium falciparum (malaria parasite P. falciparum)', 'Plasmodium falciparum (malaria parasite P. falciparum)', 'Plasmodium falciparum (malaria parasite P. falciparum)', 'Plasmodium falciparum (malaria parasite P. falciparum)', 'Plasmodium falciparum (malaria parasite P. falciparum)', 'Plasmodium falciparum (malaria parasite P. falciparum)', 'Plasmodium falciparum (malaria parasite P. falciparum)', 'Plasmodium falciparum (malaria parasite P. falciparum)', 'Plasmodium falciparum (malaria parasite P. falciparum)', 'Plasmodium falciparum (malaria parasite P. falciparum)', 'Plasmodium falciparum (malaria parasite P. falciparum)', 'Plasmodium falciparum (malaria parasite P. falciparum)', 'Plasmodium falciparum (malaria parasite P. falciparum)', 'Plasmodium falciparum (malaria parasite P. falciparum)', 'Plasmodium falciparum (malaria parasite P. falciparum)', 'Plasmodium falciparum (malaria parasite P. falciparum)', 'Plasmodium falciparum (malaria parasite P. falciparum)', 'Plasmodium falciparum (malaria parasite P. falciparum)', 'Plasmodium falciparum (malaria parasite P. falciparum)', 'Plasmodium falciparum (malaria parasite P. falciparum)', 'Plasmodium falciparum (malaria parasite P. falciparum)', 'Plasmodium falciparum (malaria parasite P. falciparum)', 'Plasmodium falciparum (malaria parasite P. falciparum)', 'Plasmodium falciparum (malaria parasite P. falciparum)', 'Plasmodium falciparum (malaria parasite P. falciparum)', 'Plasmodium falciparum (malaria parasite P. falciparum)', 'Slc22a1 - solute carrier family 22 member 1 (Norway rat)', 'Plasmodium falciparum (malaria parasite P. falciparum)', 'Plasmodium falciparum (malaria parasite P. falciparum)', 'Plasmodium falciparum (malaria parasite P. falciparum)', 'Plasmodium falciparum (malaria parasite P. falciparum)', 'Plasmodium falciparum (malaria parasite P. falciparum)', 'Slc22a1 - solute carrier family 22 (organic cation transporter), member 1 (house mouse)', 'Plasmodium falciparum (malaria parasite P. falciparum)', 'Plasmodium falciparum (malaria parasite P. falciparum)', 'Plasmodium falciparum (malaria parasite P. falciparum)', 'Plasmodium falciparum (malaria parasite P. falciparum)', 'Plasmodium falciparum (malaria parasite P. falciparum)', 'Plasmodium falciparum (malaria parasite P. falciparum)', 'Plasmodium falciparum (malaria parasite P. falciparum)', 'Plasmodium falciparum (malaria parasite P. falciparum)', 'Plasmodium falciparum (malaria parasite P. falciparum)', 'Plasmodium falciparum (malaria parasite P. falciparum)', 'Plasmodium falciparum (malaria parasite P. falciparum)', 'Plasmodium falciparum (malaria parasite P. falciparum)', 'Plasmodium falciparum (malaria parasite P. falciparum)', 'Plasmodium falciparum (malaria parasite P. falciparum)', 'Plasmodium falciparum (malaria parasite P. falciparum)', 'Plasmodium falciparum (malaria parasite P. falciparum)', 'Plasmodium falciparum (malaria parasite P. falciparum)', 'Plasmodium falciparum (malaria parasite P. falciparum)', 'Plasmodium falciparum (malaria parasite P. falciparum)', 'Plasmodium falciparum (malaria parasite P. falciparum)', 'Plasmodium falciparum (malaria parasite P. falciparum)', 'Plasmodium falciparum (malaria parasite P. falciparum)', 'Plasmodium falciparum (malaria parasite P. falciparum)', 'Plasmodium falciparum (malaria parasite P. falciparum)', 'Plasmodium falciparum (malaria parasite P. falciparum)', 'Plasmodium falciparum (malaria parasite P. falciparum)', 'Plasmodium falciparum (malaria parasite P. falciparum)', 'Plasmodium falciparum (malaria parasite P. falciparum)', 'Plasmodium falciparum (malaria parasite P. falciparum)', 'Plasmodium falciparum (malaria parasite P. falciparum)', 'Plasmodium falciparum (malaria parasite P. falciparum)', 'Plasmodium falciparum (malaria parasite P. falciparum)', 'Plasmodium falciparum (malaria parasite P. falciparum)', 'Plasmodium falciparum (malaria parasite P. falciparum)', 'Plasmodium falciparum (malaria parasite P. falciparum)', 'Plasmodium falciparum (malaria parasite P. falciparum)', 'Plasmodium falciparum (malaria parasite P. falciparum)', 'Plasmodium falciparum (malaria parasite P. falciparum)', 'Plasmodium falciparum (malaria parasite P. falciparum)', 'Plasmodium falciparum (malaria parasite P. falciparum)', 'Plasmodium falciparum (malaria parasite P. falciparum)', 'Plasmodium falciparum (malaria parasite P. falciparum)', 'Plasmodium falciparum (malaria parasite P. falciparum)', 'Plasmodium falciparum (malaria parasite P. falciparum)', 'Plasmodium falciparum (malaria parasite P. falciparum)', 'Plasmodium falciparum (malaria parasite P. falciparum)', 'Plasmodium falciparum (malaria parasite P. falciparum)', 'Plasmodium falciparum (malaria parasite P. falciparum)', 'Plasmodium falciparum (malaria parasite P. falciparum)', 'Plasmodium falciparum (malaria parasite P. falciparum)', 'Plasmodium falciparum (malaria parasite P. falciparum)', 'Plasmodium falciparum (malaria parasite P. falciparum)', 'Plasmodium falciparum (malaria parasite P. falciparum)', 'Plasmodium falciparum (malaria parasite P. falciparum)', 'Plasmodium falciparum (malaria parasite P. falciparum)', 'Plasmodium falciparum (malaria parasite P. falciparum)', 'Plasmodium falciparum (malaria parasite P. falciparum)', 'Plasmodium falciparum (malaria parasite P. falciparum)', 'Plasmodium falciparum (malaria parasite P. falciparum)', 'Plasmodium falciparum (malaria parasite P. falciparum)', 'Plasmodium falciparum (malaria parasite P. falciparum)', 'Plasmodium falciparum (malaria parasite P. falciparum)', 'Plasmodium falciparum (malaria parasite P. falciparum)', 'Plasmodium falciparum (malaria parasite P. falciparum)', 'Plasmodium falciparum (malaria parasite P. falciparum)', 'Plasmodium falciparum (malaria parasite P. falciparum)', 'Plasmodium falciparum (malaria parasite P. falciparum)', 'Plasmodium falciparum (malaria parasite P. falciparum)', 'Plasmodium falciparum (malaria parasite P. falciparum)', 'Plasmodium falciparum (malaria parasite P. falciparum)', 'Plasmodium falciparum (malaria parasite P. falciparum)', 'Plasmodium falciparum (malaria parasite P. falciparum)', 'Plasmodium falciparum (malaria parasite P. falciparum)', 'Plasmodium falciparum (malaria parasite P. falciparum)', 'Plasmodium falciparum (malaria parasite P. falciparum)', nan, 'Plasmodium falciparum (malaria parasite P. falciparum)', 'Plasmodium falciparum (malaria parasite P. falciparum)', 'Plasmodium falciparum (malaria parasite P. falciparum)', 'Plasmodium falciparum (malaria parasite P. falciparum)', 'Plasmodium falciparum (malaria parasite P. falciparum)', 'Plasmodium falciparum (malaria parasite P. falciparum)', 'Plasmodium falciparum (malaria parasite P. falciparum)', 'Plasmodium falciparum (malaria parasite P. falciparum)', 'Plasmodium falciparum (malaria parasite P. falciparum)', 'Plasmodium falciparum (malaria parasite P. falciparum)', 'Plasmodium falciparum (malaria parasite P. falciparum)', 'Plasmodium falciparum (malaria parasite P. falciparum)', 'Plasmodium falciparum (malaria parasite P. falciparum)', 'Plasmodium falciparum (malaria parasite P. falciparum)', 'Plasmodium falciparum (malaria parasite P. falciparum)', 'Plasmodium falciparum (malaria parasite P. falciparum)', 'Plasmodium falciparum (malaria parasite P. falciparum)', 'Plasmodium falciparum (malaria parasite P. falciparum)', 'Plasmodium falciparum (malaria parasite P. falciparum)', 'CYP2D6 - cytochrome P450 family 2 subfamily D member 6 (gene/pseudogene) (human)', 'Plasmodium falciparum (malaria parasite P. falciparum)', 'Plasmodium falciparum (malaria parasite P. falciparum)', 'Plasmodium falciparum (malaria parasite P. falciparum)', 'Plasmodium falciparum (malaria parasite P. falciparum)', 'Plasmodium falciparum (malaria parasite P. falciparum)', 'Plasmodium falciparum (malaria parasite P. falciparum)', 'Plasmodium falciparum (malaria parasite P. falciparum)', 'Plasmodium falciparum (malaria parasite P. falciparum)', 'Plasmodium falciparum (malaria parasite P. falciparum)', 'Plasmodium falciparum (malaria parasite P. falciparum)', 'Plasmodium falciparum (malaria parasite P. falciparum)', 'Plasmodium falciparum (malaria parasite P. falciparum)', 'Plasmodium falciparum (malaria parasite P. falciparum)', 'Plasmodium falciparum (malaria parasite P. falciparum)', 'Plasmodium falciparum (malaria parasite P. falciparum)', 'Plasmodium falciparum (malaria parasite P. falciparum)', 'Plasmodium falciparum (malaria parasite P. falciparum)', 'Plasmodium falciparum (malaria parasite P. falciparum)', 'Plasmodium falciparum (malaria parasite P. falciparum)', 'Plasmodium falciparum (malaria parasite P. falciparum)', 'Plasmodium falciparum (malaria parasite P. falciparum)', 'Plasmodium falciparum (malaria parasite P. falciparum)', 'Plasmodium falciparum (malaria parasite P. falciparum)', 'Plasmodium falciparum (malaria parasite P. falciparum)', 'Plasmodium falciparum (malaria parasite P. falciparum)', 'Plasmodium falciparum (malaria parasite P. falciparum)', 'Plasmodium falciparum (malaria parasite P. falciparum)', 'Plasmodium falciparum (malaria parasite P. falciparum)', 'Plasmodium falciparum (malaria parasite P. falciparum)', 'Plasmodium falciparum (malaria parasite P. falciparum)', 'Plasmodium falciparum (malaria parasite P. falciparum)', 'Plasmodium falciparum (malaria parasite P. falciparum)', 'Plasmodium falciparum (malaria parasite P. falciparum)', 'Plasmodium falciparum (malaria parasite P. falciparum)', 'Plasmodium falciparum (malaria parasite P. falciparum)', 'Plasmodium falciparum (malaria parasite P. falciparum)', 'Plasmodium falciparum (malaria parasite P. falciparum)', 'Slc22a1 - solute carrier family 22 member 1 (Norway rat)', 'Plasmodium falciparum (malaria parasite P. falciparum)', 'Plasmodium falciparum (malaria parasite P. falciparum)', 'Slc22a1 - solute carrier family 22 member 1 (Norway rat)', 'Plasmodium falciparum (malaria parasite P. falciparum)', 'Plasmodium falciparum (malaria parasite P. falciparum)', 'Plasmodium falciparum (malaria parasite P. falciparum)', 'Plasmodium falciparum (malaria parasite P. falciparum)', nan, 'Plasmodium falciparum (malaria parasite P. falciparum)', 'Plasmodium falciparum (malaria parasite P. falciparum)', 'Plasmodium falciparum (malaria parasite P. falciparum)', 'Plasmodium falciparum (malaria parasite P. falciparum)', 'Plasmodium falciparum (malaria parasite P. falciparum)', 'Slc22a1 - solute carrier family 22 member 1 (Norway rat)', 'Plasmodium falciparum (malaria parasite P. falciparum)', 'Plasmodium falciparum (malaria parasite P. falciparum)', 'Plasmodium falciparum (malaria parasite P. falciparum)', 'Plasmodium falciparum (malaria parasite P. falciparum)', 'Plasmodium falciparum (malaria parasite P. falciparum)', 'Plasmodium falciparum (malaria parasite P. falciparum)', 'Plasmodium falciparum (malaria parasite P. falciparum)', 'Plasmodium falciparum (malaria parasite P. falciparum)', nan, 'Plasmodium falciparum (malaria parasite P. falciparum)', 'Plasmodium falciparum (malaria parasite P. falciparum)', 'Cyp2d4 - cytochrome P450, family 2, subfamily d, polypeptide 4 (Norway rat)', 'ABCB1 - ATP binding cassette subfamily B member 1 (human)', 'Plasmodium falciparum (malaria parasite P. falciparum)', 'Plasmodium falciparum (malaria parasite P. falciparum)', 'CYP2D6 - cytochrome P450 family 2 subfamily D member 6 (gene/pseudogene) (human)', 'Plasmodium falciparum (malaria parasite P. falciparum)', 'Plasmodium falciparum (malaria parasite P. falciparum)', nan, 'Plasmodium falciparum (malaria parasite P. falciparum)', 'CYP2D6 - cytochrome P450 family 2 subfamily D member 6 (gene/pseudogene) (human)', 'CYP2D6 - cytochrome P450 family 2 subfamily D member 6 (gene/pseudogene) (human)', 'CYP2D6 - cytochrome P450 family 2 subfamily D member 6 (gene/pseudogene) (human)', 'SLC22A2 - solute carrier family 22 member 2 (human)', nan, 'Plasmodium falciparum (malaria parasite P. falciparum)', 'Slc22a2 - solute carrier family 22 (organic cation transporter), member 2 (house mouse)', nan, 'GLI3 - GLI family zinc finger 3 (human)', 'SLC22A2 - solute carrier family 22 member 2 (human)', nan, nan, 'Slco1a4 - solute carrier organic anion transporter family, member 1a4 (Norway rat)', 'Potassium channel subfamily K member 2 (human)', 'Slc22a1 - solute carrier family 22 member 1 (Norway rat)', 'Slc22a1 - solute carrier family 22 member 1 (Norway rat)', 'SCN3A - sodium voltage-gated channel alpha subunit 3 (human)', 'SCN2A - sodium voltage-gated channel alpha subunit 2 (human)', 'SCN1A - sodium voltage-gated channel alpha subunit 1 (human)', 'CYP2D6 - cytochrome P450 family 2 subfamily D member 6 (gene/pseudogene) (human)', nan, nan, 'ADRA2A - adrenoceptor alpha 2A (human)', nan, 'CYP2D6 - cytochrome P450 family 2 subfamily D member 6 (gene/pseudogene) (human)', nan, 'NR1I3 - nuclear receptor subfamily 1 group I member 3 (human)', nan, 'NR1I3 - nuclear receptor subfamily 1 group I member 3 (human)', 'OPRM1 - opioid receptor mu 1 (human)', 'Leishmania major', 'PPARG - peroxisome proliferator activated receptor gamma (human)', 'Leishmania major', nan, 'ABCB1 - ATP binding cassette subfamily B member 1 (human)', nan, 'PTGS1 - prostaglandin-endoperoxide synthase 1 (human)', nan, 'AHR - aryl hydrocarbon receptor (human)', 'Cyp2d3 - cytochrome P450, family 2, subfamily d, polypeptide 3 (Norway rat)', 'ABCB1 - ATP binding cassette subfamily B member 1 (human)', 'SLC6A4 - solute carrier family 6 member 4 (human)', 'Slc22a2 - solute carrier family 22 member 2 (Norway rat)', nan, 'CYP1A2 - cytochrome P450 family 1 subfamily A member 2 (human)', 'CYP1A2 - cytochrome P450 family 1 subfamily A member 2 (human)', 'GLI3 - GLI family zinc finger 3 (human)', 'CYP2D6 - cytochrome P450 family 2 subfamily D member 6 (gene/pseudogene) (human)', 'CYP2D6 - cytochrome P450 family 2 subfamily D member 6 (gene/pseudogene) (human)', nan, 'CYP3A7 - cytochrome P450 family 3 subfamily A member 7 (human)', 'CYP3A7 - cytochrome P450 family 3 subfamily A member 7 (human)', 'NSD2 - nuclear receptor binding SET domain protein 2 (human)', 'NSD2 - nuclear receptor binding SET domain protein 2 (human)', nan, 'CYP3A4 - cytochrome P450 family 3 subfamily A member 4 (human)', nan, 'Severe acute respiratory syndrome coronavirus 2', 'Severe acute respiratory syndrome coronavirus 2', nan, 'CYP2D6 - cytochrome P450 family 2 subfamily D member 6 (gene/pseudogene) (human)', nan, 'Trypanosoma brucei brucei', nan, nan, nan, nan, nan, nan, nan, nan, 'ABCB1 - ATP binding cassette subfamily B member 1 (human)', 'SLC22A1 - solute carrier family 22 member 1 (human)', 'NSD2 - nuclear receptor binding SET domain protein 2 (human)', 'NSD2 - nuclear receptor binding SET domain protein 2 (human)', 'NR1H4 - nuclear receptor subfamily 1 group H member 4 (human)', nan, 'ESR1 - estrogen receptor 1 (human)', 'AHR - aryl hydrocarbon receptor (human)', 'TDP1 - tyrosyl-DNA phosphodiesterase 1 (human)', 'KCNH2 - potassium voltage-gated channel subfamily H member 2 (human)', nan, nan, nan, 'NFE2L2 - NFE2 like bZIP transcription factor 2 (human)', 'NFE2L2 - NFE2 like bZIP transcription factor 2 (human)', nan, 'TSHR - thyroid stimulating hormone receptor (human)', 'TDP1 - tyrosyl-DNA phosphodiesterase 1 (human)', 'ESR1 - estrogen receptor 1 (human)', nan, 'ACHE - acetylcholinesterase (Yt blood group) (human)', 'ADRA1A - adrenoceptor alpha 1A (human)', 'ADORA3 - adenosine A3 receptor (human)', 'ADRA1A - adrenoceptor alpha 1A (human)', 'DRD1 - dopamine receptor D1 (human)', 'CHRM2 - cholinergic receptor muscarinic 2 (human)', 'AR - androgen receptor (human)', 'F2 - coagulation factor II, thrombin (human)', 'HTR1A - 5-hydroxytryptamine receptor 1A (human)', 'CHRM1 - cholinergic receptor muscarinic 1 (human)', 'HRH3 - histamine receptor H3 (human)', 'HTR2B - 5-hydroxytryptamine receptor 2B (human)', 'MAOA - monoamine oxidase A (human)', 'DRD3 - dopamine receptor D3 (human)', 'ESR1 - estrogen receptor 1 (human)', 'KDR - kinase insert domain receptor (human)', 'GABRA1 - gamma-aminobutyric acid type A receptor subunit alpha1 (human)', 'GABRB2 - gamma-aminobutyric acid type A receptor subunit beta2 (human)', 'GABRG2 - gamma-aminobutyric acid type A receptor subunit gamma2 (human)', 'GABRA2 - gamma-aminobutyric acid type A receptor subunit alpha2 (human)', 'CHRM1 - cholinergic receptor muscarinic 1 (human)', 'PTGS1 - prostaglandin-endoperoxide synthase 1 (human)', 'SLC6A3 - solute carrier family 6 member 3 (human)', 'PDE4A - phosphodiesterase 4A (human)', 'PGR - progesterone receptor (human)', 'TBXA2R - thromboxane A2 receptor (human)', 'PDE3A - phosphodiesterase 3A (human)', 'SLC6A2 - solute carrier family 6 member 2 (human)', 'TBXA2R - thromboxane A2 receptor (human)', 'ATXN2 - ataxin 2 (human)', 'ATXN2 - ataxin 2 (human)', 'Thrb - thyroid hormone receptor beta (Norway rat)', 'Thrb - thyroid hormone receptor beta (Norway rat)', nan, nan, nan, 'Slc22a2 - solute carrier family 22 member 2 (Norway rat)', nan, nan, nan, 'Cyp2d1 - cytochrome P450, family 2, subfamily d, polypeptide 1 (Norway rat)', nan, nan, nan, nan, nan, 'SLC22A1 - solute carrier family 22 member 1 (human)', 'Plasmodium falciparum (malaria parasite P. falciparum)', 'Slc22a2 - solute carrier family 22 member 2 (Norway rat)', nan, nan, nan, nan, nan, 'ABCB1 - ATP binding cassette subfamily B member 1 (human)', 'Slco1a1 - solute carrier organic anion transporter family, member 1a1 (Norway rat)', nan, 'ABCB1 - ATP binding cassette subfamily B member 1 (human)', nan, nan, 'ABCB11 - ATP binding cassette subfamily B member 11 (human)', nan, nan, nan, nan, nan, nan, 'ABCB1 - ATP binding cassette subfamily B member 1 (human)', 'Mycobacterium tuberculosis', 'Mycobacterium tuberculosis', 'ABCC2 - ATP binding cassette subfamily C member 2 (human)', 'ABCB11 - ATP binding cassette subfamily B member 11 (human)', 'ABCC3 - ATP binding cassette subfamily C member 3 (human)', 'ABCC4 - ATP binding cassette subfamily C member 4 (PEL blood group) (human)', nan, 'ABCB11 - ATP binding cassette subfamily B member 11 (human)', nan, 'ABCB1 - ATP binding cassette subfamily B member 1 (human)', nan, nan, 'Plasmodium falciparum (malaria parasite P. falciparum)', 'ABCB1 - ATP binding cassette subfamily B member 1 (human)', 'ABCB1 - ATP binding cassette subfamily B member 1 (human)', 'Plasmodium falciparum (malaria parasite P. falciparum)', nan, nan, nan, nan, nan, 'ABCB11 - ATP binding cassette subfamily B member 11 (human)', 'ALB - albumin (human)', nan, nan, 'Streptococcus pneumoniae', 'ABCB1 - ATP binding cassette subfamily B member 1 (human)', nan, 'Plasmodium falciparum (malaria parasite P. falciparum)', 'Plasmodium falciparum (malaria parasite P. falciparum)', nan, nan, nan, 'Lacticaseibacillus casei', 'Lacticaseibacillus casei', 'Escherichia coli', nan, 'Enterococcus faecium', 'Enterococcus faecium', 'Histidine-rich protein PFHRP-II (malaria parasite P. falciparum)', nan, 'Chain A, MAJOR APURINIC/APYRIMIDINIC ENDONUCLEASE (human)', 'ALB - albumin (human)', nan, nan, nan, nan, nan, nan, 'Plasmodium berghei', 'Plasmodium berghei', 'Plasmodium berghei', 'Plasmodium berghei', 'Plasmodium berghei', 'Plasmodium berghei', 'Plasmodium berghei', 'Plasmodium falciparum (malaria parasite P. falciparum)', 'Plasmodium falciparum (malaria parasite P. falciparum)', 'Plasmodium berghei', 'Plasmodium falciparum (malaria parasite P. falciparum)', 'Plasmodium falciparum (malaria parasite P. falciparum)', 'Plasmodium yoelii', 'Plasmodium falciparum (malaria parasite P. falciparum)', 'Plasmodium falciparum (malaria parasite P. falciparum)', 'Plasmodium yoelii', 'Plasmodium berghei', 'Plasmodium yoelii', 'Plasmodium berghei', 'Plasmodium falciparum (malaria parasite P. falciparum)', nan, nan, nan, 'ABCB1 - ATP binding cassette subfamily B member 1 (human)', nan, nan, nan, 'Plasmodium yoelii', 'Plasmodium berghei', 'Plasmodium falciparum (malaria parasite P. falciparum)', 'Plasmodium falciparum (malaria parasite P. falciparum)', 'Plasmodium falciparum (malaria parasite P. falciparum)', 'Plasmodium falciparum (malaria parasite P. falciparum)', 'Plasmodium falciparum (malaria parasite P. falciparum)', 'Plasmodium falciparum (malaria parasite P. falciparum)', 'Plasmodium falciparum (malaria parasite P. falciparum)', 'Staphylococcus aureus', 'Staphylococcus aureus', nan, nan, 'Staphylococcus aureus', 'Staphylococcus aureus', nan, nan, nan, 'Plasmodium falciparum (malaria parasite P. falciparum)', 'Plasmodium falciparum (malaria parasite P. falciparum)', 'Plasmodium falciparum (malaria parasite P. falciparum)', 'Plasmodium falciparum (malaria parasite P. falciparum)', 'Plasmodium falciparum (malaria parasite P. falciparum)', 'Plasmodium falciparum (malaria parasite P. falciparum)', 'Plasmodium falciparum (malaria parasite P. falciparum)', 'Plasmodium falciparum (malaria parasite P. falciparum)', 'Plasmodium falciparum (malaria parasite P. falciparum)', 'Plasmodium falciparum (malaria parasite P. falciparum)', 'Plasmodium falciparum (malaria parasite P. falciparum)', nan, 'Plasmodium falciparum (malaria parasite P. falciparum)', 'Plasmodium falciparum (malaria parasite P. falciparum)', nan, 'Plasmodium falciparum (malaria parasite P. falciparum)', 'Plasmodium falciparum (malaria parasite P. falciparum)', 'Plasmodium falciparum (malaria parasite P. falciparum)', 'Plasmodium falciparum (malaria parasite P. falciparum)', nan, nan, nan, nan, nan, nan, nan, nan, nan, 'Plasmodium falciparum (malaria parasite P. falciparum)', 'Plasmodium falciparum (malaria parasite P. falciparum)', 'Plasmodium falciparum (malaria parasite P. falciparum)', 'Plasmodium falciparum (malaria parasite P. falciparum)', 'Plasmodium falciparum (malaria parasite P. falciparum)', 'Plasmodium falciparum (malaria parasite P. falciparum)', 'SLC22A1 - solute carrier family 22 member 1 (human)', nan, nan, nan, nan, nan, nan, 'CYP3A4 - cytochrome P450 family 3 subfamily A member 4 (human)', nan, nan, nan, nan, nan, nan, nan, nan, nan, nan, nan, nan, nan, nan, nan, nan, nan, nan, nan, nan, nan, nan, nan, nan, nan, nan, nan, nan, nan, nan, nan, nan, nan, nan, nan, nan, nan, nan, nan, nan, nan, nan, nan, nan, nan, 'ABCC2 - ATP binding cassette subfamily C member 2 (human)', nan, nan, nan, 'Plasmodium falciparum (malaria parasite P. falciparum)', nan, nan, nan, nan, nan, nan, nan, nan, nan, nan, nan, 'Plasmodium falciparum (malaria parasite P. falciparum)', nan, nan, 'Plasmodium falciparum (malaria parasite P. falciparum)', 'Plasmodium falciparum (malaria parasite P. falciparum)', nan, 'Plasmodium falciparum (malaria parasite P. falciparum)', nan, nan, nan, nan, nan, nan, 'SCN1A - sodium voltage-gated channel alpha subunit 1 (human)', 'SCN2A - sodium voltage-gated channel alpha subunit 2 (human)', 'SCN3A - sodium voltage-gated channel alpha subunit 3 (human)', 'Plasmodium falciparum (malaria parasite P. falciparum)', 'Plasmodium falciparum (malaria parasite P. falciparum)', 'Homo sapiens (human)', 'Plasmodium falciparum (malaria parasite P. falciparum)', 'Homo sapiens (human)', 'Homo sapiens (human)', 'Plasmodium falciparum (malaria parasite P. falciparum)', 'Homo sapiens (human)', 'Mycobacterium tuberculosis', 'Plasmodium falciparum (malaria parasite P. falciparum)', 'Plasmodium falciparum (malaria parasite P. falciparum)', 'Homo sapiens (human)', 'Homo sapiens (human)', 'Plasmodium falciparum (malaria parasite P. falciparum)', nan, 'Homo sapiens (human)', nan, 'Plasmodium falciparum (malaria parasite P. falciparum)', 'Homo sapiens (human)', 'Homo sapiens (human)', 'Plasmodium falciparum (malaria parasite P. falciparum)', 'Plasmodium falciparum (malaria parasite P. falciparum)', 'Plasmodium falciparum (malaria parasite P. falciparum)', 'Plasmodium falciparum (malaria parasite P. falciparum)', nan, 'Plasmodium falciparum (malaria parasite P. falciparum)', 'Plasmodium falciparum (malaria parasite P. falciparum)', 'Plasmodium falciparum (malaria parasite P. falciparum)', nan, nan, 'Plasmodium falciparum (malaria parasite P. falciparum)', 'Plasmodium falciparum (malaria parasite P. falciparum)', 'Homo sapiens (human)', 'Plasmodium falciparum (malaria parasite P. falciparum)', nan, 'Plasmodium falciparum (malaria parasite P. falciparum)', 'ALB - albumin (human)', 'Plasmodium berghei', 'Plasmodium berghei', 'Plasmodium berghei', 'Plasmodium berghei', 'Plasmodium berghei', 'Plasmodium berghei', 'Plasmodium berghei', nan, 'Plasmodium falciparum (malaria parasite P. falciparum)', 'Plasmodium falciparum (malaria parasite P. falciparum)', 'Plasmodium falciparum (malaria parasite P. falciparum)', 'Plasmodium falciparum (malaria parasite P. falciparum)', 'Plasmodium falciparum (malaria parasite P. falciparum)', 'Plasmodium falciparum (malaria parasite P. falciparum)', 'Plasmodium falciparum (malaria parasite P. falciparum)', nan, nan, 'Plasmodium falciparum (malaria parasite P. falciparum)', 'Leishmania major', 'KCNH2 - potassium voltage-gated channel subfamily H member 2 (human)', 'SLC22A1 - solute carrier family 22 member 1 (human)', nan, nan, 'CYP3A4 - cytochrome P450 family 3 subfamily A member 4 (human)', nan, nan, nan, nan, nan, nan, 'Homo sapiens (human)', 'Hepacivirus hominis', nan, 'Hepacivirus hominis', nan, nan, 'Hepacivirus hominis', nan, nan, nan, 'Homo sapiens (human)', 'Nucleoprotein (Rift valley fever virus (STRAIN ZH-548 M12))', 'Plasmodium falciparum (malaria parasite P. falciparum)', 'SLC22A5 - solute carrier family 22 member 5 (human)', 'Slc22a1 - solute carrier family 22 member 1 (Norway rat)', 'Slc22a2 - solute carrier family 22 member 2 (Norway rat)', 'Slc22a2 - solute carrier family 22 member 2 (Norway rat)', 'SLC22A2 - solute carrier family 22 member 2 (human)', 'Slc22a1 - solute carrier family 22 member 1 (Norway rat)', 'ABCB1 - ATP binding cassette subfamily B member 1 (human)', 'Slc22a2 - solute carrier family 22 member 2 (Norway rat)', 'ABCB1 - ATP binding cassette subfamily B member 1 (human)', 'SLC22A4 - solute carrier family 22 member 4 (human)', 'SLC22A1 - solute carrier family 22 member 1 (human)', nan, nan, nan, nan, 'Plasmodium berghei', nan, nan, 'Plasmodium falciparum (malaria parasite P. falciparum)', 'Trypanosoma brucei brucei', nan, nan, nan, 'Leishmania mexicana mexicana', nan, 'Plasmodium falciparum (malaria parasite P. falciparum)', nan, nan, 'Plasmodium falciparum (malaria parasite P. falciparum)', 'Plasmodium berghei', 'Plasmodium berghei', 'Mus musculus (house mouse)', 'Plasmodium berghei', 'Plasmodium berghei', 'Mus musculus (house mouse)', nan, nan, nan, nan, nan, nan, nan, 'Plasmodium berghei', nan, nan, 'CFTR - CF transmembrane conductance regulator (human)', 'CFTR - CF transmembrane conductance regulator (human)', 'Plasmodium falciparum (malaria parasite P. falciparum)', 'Gnai3 - G protein subunit alpha i3 (Norway rat)', 'CCDC88A - coiled-coil domain containing 88A (human)', nan, nan, nan, nan, nan, nan, nan, nan, 'IFNG - interferon gamma (human)', 'SLC29A4 - solute carrier family 29 member 4 (human)', 'SLC29A4 - solute carrier family 29 member 4 (human)', 'KCNB2 - potassium voltage-gated channel subfamily B member 2 (human)', 'CYP3A4 - cytochrome P450 family 3 subfamily A member 4 (human)', 'Nr1i2 - nuclear receptor subfamily 1, group I, member 2 (Norway rat)', 'NR1I2 - nuclear receptor subfamily 1 group I member 2 (human)', nan, nan, nan, nan, nan, nan, nan, nan, nan, nan, nan, nan, nan, nan, nan, 'Plasmodium falciparum (malaria parasite P. falciparum)', nan, nan, 'Plasmodium falciparum (malaria parasite P. falciparum)', nan, 'Severe acute respiratory syndrome coronavirus 2', 'SLC22A3 - solute carrier family 22 member 3 (human)', 'Chikungunya virus', 'KCNK3 - potassium two pore domain channel subfamily K member 3 (human)', 'KCNK9 - potassium two pore domain channel subfamily K member 9 (human)', 'Plasmodium falciparum (malaria parasite P. falciparum)', 'Dengue virus', nan, nan, 'Plasmodium falciparum (malaria parasite P. falciparum)', 'Plasmodium falciparum (malaria parasite P. falciparum)', 'Plasmodium falciparum (malaria parasite P. falciparum)', 'Plasmodium falciparum (malaria parasite P. falciparum)', 'Plasmodium falciparum (malaria parasite P. falciparum)', nan, nan, nan, nan, nan, nan, nan, 'priA (Klebsiella pneumoniae)', 'ssb (Klebsiella pneumoniae)', 'Human herpesvirus 5 strain AD169', 'UL50 - nuclear egress membrane protein (Human betaherpesvirus 5)', 'UL53 - nuclear egress lamina protein (Human betaherpesvirus 5)', 'fixJ - oxygen response regulator transcription factor FixJ (Burkholderia lata)', 'fixJ - oxygen response regulator transcription factor FixJ (Burkholderia territorii)', 'fixJ - oxygen response regulator transcription factor FixJ (Burkholderia pyrrocinia)', 'fixJ - oxygen response regulator transcription factor FixJ (Burkholderia anthina)', 'fixJ - oxygen response regulator transcription factor FixJ (Burkholderia cenocepacia)', 'fixJ - oxygen response regulator transcription factor FixJ (Burkholderia cepacia)', 'MULTISPECIES: oxygen response regulator transcription factor FixJ (Burkholderia)', 'MULTISPECIES: oxygen response regulator transcription factor FixJ (Burkholderia)', 'MULTISPECIES: oxygen response regulator transcription factor FixJ (Burkholderia)', 'fixJ - oxygen response regulator transcription factor FixJ (Burkholderia seminalis)', 'MULTISPECIES: oxygen response regulator transcription factor FixJ (Burkholderia)', 'fixJ - oxygen response regulator transcription factor FixJ (Burkholderia metallica)', 'fixJ - oxygen response regulator transcription factor FixJ (Burkholderia ubonensis subsp. mesacidophila)', 'MULTISPECIES: oxygen response regulator transcription factor FixJ (Burkholderia)', 'MULTISPECIES: oxygen response regulator transcription factor FixJ (Burkholderia)', 'fixJ - oxygen response regulator transcription factor FixJ (Burkholderia stabilis)', 'fixJ - oxygen response regulator transcription factor FixJ (Burkholderia orbicola MC0-3)', 'oxygen sensor histidine kinase FixL (Burkholderia dolosa)', 'Burkholderia multivorans', 'DRD3 - dopamine receptor D3 (human)', 'DRD3 - dopamine receptor D3 (human)', 'TP53 - tumor protein p53 (human)', 'ATAD5 - ATPase family AAA domain containing 5 (human)', nan, nan, 'ATXN2 - ataxin 2 (human)', 'ATXN2 - ataxin 2 (human)', 'ATAD5 - ATPase family AAA domain containing 5 (human)', nan, nan, nan, nan, 'TP53 - tumor protein p53 (human)', nan, nan, nan, nan, nan, nan, 'ESR1 - estrogen receptor 1 (human)', nan, 'AR - androgen receptor (human)', nan, 'AR - androgen receptor (human)', 'NR3C1 - nuclear receptor subfamily 3 group C member 1 (human)', nan, 'AR - androgen receptor (human)', 'ESR1 - estrogen receptor 1 (human)', 'ESR1 - estrogen receptor 1 (human)', 'AR - androgen receptor (human)', nan, 'Thrb - thyroid hormone receptor beta (Norway rat)', nan, 'NR3C1 - nuclear receptor subfamily 3 group C member 1 (human)', 'ESR1 - estrogen receptor 1 (human)', nan, nan, 'AR - androgen receptor (human)', 'ESR1 - estrogen receptor 1 (human)', nan, 'AR - androgen receptor (human)', 'NR3C1 - nuclear receptor subfamily 3 group C member 1 (human)', 'AR - androgen receptor (human)', 'PPARD - peroxisome proliferator activated receptor delta (human)', 'PPARG - peroxisome proliferator activated receptor gamma (human)', nan, nan, nan, 'VDR - vitamin D receptor (human)', 'VDR - vitamin D receptor (human)', 'PPARG - peroxisome proliferator activated receptor gamma (human)', nan, nan, nan, 'PPARD - peroxisome proliferator activated receptor delta (human)', 'CYP19A1 - cytochrome P450 family 19 subfamily A member 1 (human)', 'HSPB1 - heat shock protein family B (small) member 1 (human)', 'PPARD - peroxisome proliferator activated receptor delta (human)', 'VDR - vitamin D receptor (human)', 'NR1H4 - nuclear receptor subfamily 1 group H member 4 (human)', nan, 'NR1H4 - nuclear receptor subfamily 1 group H member 4 (human)', 'PPARG - peroxisome proliferator activated receptor gamma (human)', 'PPARD - peroxisome proliferator activated receptor delta (human)', nan, nan, nan, 'HSPB1 - heat shock protein family B (small) member 1 (human)', 'NR1H4 - nuclear receptor subfamily 1 group H member 4 (human)', 'VDR - vitamin D receptor (human)', 'CYP19A1 - cytochrome P450 family 19 subfamily A member 1 (human)', nan, nan, 'NFKB1 - nuclear factor kappa B subunit 1 (human)', nan, 'ATF6 - activating transcription factor 6 (human)', nan, 'NFKB1 - nuclear factor kappa B subunit 1 (human)', 'ATF6 - activating transcription factor 6 (human)', nan, 'Rorc - RAR-related orphan receptor gamma (house mouse)', 'Rorc - RAR-related orphan receptor gamma (house mouse)', nan, 'JUN - Jun proto-oncogene, AP-1 transcription factor subunit (human)', 'RXRA - retinoid X receptor alpha (human)', 'JUN - Jun proto-oncogene, AP-1 transcription factor subunit (human)', 'NR3C1 - nuclear receptor subfamily 3 group C member 1 (human)', 'RXRA - retinoid X receptor alpha (human)', nan, 'RARA - retinoic acid receptor alpha (human)', 'RARA - retinoic acid receptor alpha (human)', 'RARA - retinoic acid receptor alpha (human)', 'GALC - galactosylceramidase (human)', 'LOC116160065 - luciferin 4-monooxygenase (common eastern firefly)', nan, nan, nan, nan, 'NR1I3 - nuclear receptor subfamily 1 group I member 3 (human)', 'TSHR - thyroid stimulating hormone receptor (human)', nan, 'LOC100757539 - histone H2AX (Chinese hamster)', 'HIF1A - hypoxia inducible factor 1 subunit alpha (human)', nan, nan, nan, nan, nan, nan, nan, nan, nan, nan, nan, nan, nan, nan, nan, nan, nan, nan, nan, nan, nan, nan, nan, nan, nan, nan, nan, 'NR1I3 - nuclear receptor subfamily 1 group I member 3 (human)', 'HIF1A - hypoxia inducible factor 1 subunit alpha (human)', 'LOC100757539 - histone H2AX (Chinese hamster)', nan, nan, 'AR - androgen receptor (human)', 'ESR1 - estrogen receptor 1 (human)', 'AR - androgen receptor (human)', 'ESR1 - estrogen receptor 1 (human)', nan, nan, 'ESRRA - estrogen related receptor alpha (human)', 'ESRRA - estrogen related receptor alpha (human)', 'ESRRA - estrogen related receptor alpha (human)', 'ESRRA - estrogen related receptor alpha (human)', 'HDAC9 - histone deacetylase 9 (human)', nan, nan, nan, 'GLI3 - GLI family zinc finger 3 (human)', 'ESR2 - estrogen receptor 2 (human)', 'ESR2 - estrogen receptor 2 (human)', nan, nan, 'AR - androgen receptor (human)', nan, 'ESR1 - estrogen receptor 1 (human)', nan, 'TSHR - thyroid stimulating hormone receptor (human)', nan, 'AR - androgen receptor (human)', 'HDAC9 - histone deacetylase 9 (human)', 'GLI3 - GLI family zinc finger 3 (human)', 'ESR1 - estrogen receptor 1 (human)', 'TSHR - thyroid stimulating hormone receptor (human)', 'ESR2 - estrogen receptor 2 (human)', 'TSHR - thyroid stimulating hormone receptor (human)', 'ESR2 - estrogen receptor 2 (human)', 'RXFP1 - relaxin family peptide receptor 1 (human)', 'ESRRA - estrogen related receptor alpha (human)', 'ESRRA - estrogen related receptor alpha (human)', 'ESRRA - estrogen related receptor alpha (human)', 'ESRRA - estrogen related receptor alpha (human)', nan, nan, nan, nan, nan, nan, nan, nan, nan, nan, nan, nan, nan, nan, nan, nan, 'PI4K2A - phosphatidylinositol 4-kinase type 2 alpha (human)', 'GPR32 - G protein-coupled receptor 32 (human)', 'PGR - progesterone receptor (human)', 'PGR - progesterone receptor (human)', nan, nan, nan, nan, 'SMAD2 - SMAD family member 2 (human)', 'SMAD3 - SMAD family member 3 (human)', 'TRHR - thyrotropin releasing hormone receptor (human)', 'TRHR - thyrotropin releasing hormone receptor (human)', 'SMAD3 - SMAD family member 3 (human)', 'SMAD2 - SMAD family member 2 (human)', 'CASP7 - caspase 7 (human)', 'CASP3 - caspase 3 (human)', nan, 'Casp3 - caspase 3 (Chinese hamster)', 'Casp7 - caspase 7 (Chinese hamster)', nan, 'TRHR - thyrotropin releasing hormone receptor (human)', 'NR1I2 - nuclear receptor subfamily 1 group I member 2 (human)', 'SMAD3 - SMAD family member 3 (human)', 'SMAD2 - SMAD family member 2 (human)', 'PGR - progesterone receptor (human)', 'CASP7 - caspase 7 (human)', 'CASP3 - caspase 3 (human)', nan, 'PGR - progesterone receptor (human)', 'SMAD2 - SMAD family member 2 (human)', 'SMAD3 - SMAD family member 3 (human)', 'TRHR - thyrotropin releasing hormone receptor (human)', 'Casp7 - caspase 7 (Chinese hamster)', 'Casp3 - caspase 3 (Chinese hamster)', nan, nan, nan, nan, nan, nan, nan, nan, nan, nan, nan, nan, nan, nan, nan, nan, nan, nan, nan, nan, nan, 'LCMVsSgp2 - nucleoprotein (Mammarenavirus choriomeningitidis)', 'Nucleoprotein (Lymphocytic choriomeningitis virus (strain Armstrong))', 'LASVsSgp1 - nucleoprotein (Mammarenavirus lassaense)', 'LASVsLgp1 - Z protein (Mammarenavirus lassaense)', 'LASVsLgp1 - Z protein (Mammarenavirus lassaense)', 'LASVsSgp1 - nucleoprotein (Mammarenavirus lassaense)', 'LCMVsSgp2 - nucleoprotein (Mammarenavirus choriomeningitidis)', 'Nucleoprotein (Lymphocytic choriomeningitis virus (strain Armstrong))', 'FH - fumarate hydratase (human)', 'FH - fumarate hydratase (human)', 'ACHE - acetylcholinesterase (Yt blood group) (human)', 'ACHE - acetylcholinesterase (Yt blood group) (human)', nan, nan, nan, nan, nan, nan, nan, nan, nan, nan, nan, nan, nan, nan, 'ACHE - acetylcholinesterase (Yt blood group) (human)', 'ACHE - acetylcholinesterase (Yt blood group) (human)', 'PPM1D - protein phosphatase, Mg2+/Mn2+ dependent 1D (human)', 'PPM1D - protein phosphatase, Mg2+/Mn2+ dependent 1D (human)', 'IFNB1 - interferon beta 1 (human)', 'PPM1D - protein phosphatase, Mg2+/Mn2+ dependent 1D (human)', 'PPM1D - protein phosphatase, Mg2+/Mn2+ dependent 1D (human)', nan, 'Chain A, Calcium and integrin-binding protein 1 (human)', 'CIB1 - calcium and integrin binding 1 (human)', 'TOR1A - torsin family 1 member A (human)', 'TOR1A - torsin family 1 member A (human)', 'CYP2C9 - cytochrome P450 family 2 subfamily C member 9 (human)', 'HTT - huntingtin (human)', 'HTT - huntingtin (human)', 'HTT - huntingtin (human)', 'HTT - huntingtin (human)', 'IP6K1 - inositol hexakisphosphate kinase 1 (human)', 'IP6K1 - inositol hexakisphosphate kinase 1 (human)', 'NTMT1 - N-terminal Xaa-Pro-Lys N-methyltransferase 1 (human)', 'NTMT1 - N-terminal Xaa-Pro-Lys N-methyltransferase 1 (human)', 'RAPGEF3 - Rap guanine nucleotide exchange factor 3 (human)', 'RAPGEF3 - Rap guanine nucleotide exchange factor 3 (human)', 'RAPGEF3 - Rap guanine nucleotide exchange factor 3 (human)', 'RAPGEF3 - Rap guanine nucleotide exchange factor 3 (human)', 'RAPGEF4 - Rap guanine nucleotide exchange factor 4 (human)', 'RAPGEF4 - Rap guanine nucleotide exchange factor 4 (human)', 'RAPGEF4 - Rap guanine nucleotide exchange factor 4 (human)', 'RAPGEF4 - Rap guanine nucleotide exchange factor 4 (human)', 'GPT2 - glutamic--pyruvic transaminase 2 (human)', 'GPT2 - glutamic--pyruvic transaminase 2 (human)', 'ALOX12 - arachidonate 12-lipoxygenase, 12S type (human)', 'ALOX12 - arachidonate 12-lipoxygenase, 12S type (human)', nan, 'SNCA - synuclein alpha (human)', 'SNCA - synuclein alpha (human)', 'CYP2C19 - cytochrome P450 family 2 subfamily C member 19 (human)', 'CYP2C19 - cytochrome P450 family 2 subfamily C member 19 (human)', 'CYP2C9 - cytochrome P450 family 2 subfamily C member 9 (human)', 'CYP2C9 - cytochrome P450 family 2 subfamily C member 9 (human)', 'KCNH2 - potassium voltage-gated channel subfamily H member 2 (human)', 'KCNH2 - potassium voltage-gated channel subfamily H member 2 (human)', 'CYP3A4 - cytochrome P450 family 3 subfamily A member 4 (human)', 'CYP3A4 - cytochrome P450 family 3 subfamily A member 4 (human)', 'D1Y31_gp1 - polyprotein (Foot-and-mouth disease virus O)', 'Genome polyprotein (Foot-and-mouth disease virus (strain A12))', 'D1Y31_gp1 - polyprotein (Foot-and-mouth disease virus O)', 'Genome polyprotein (Foot-and-mouth disease virus (strain A12))', nan, 'NFE2L2 - NFE2 like bZIP transcription factor 2 (human)', 'NFE2L2 - NFE2 like bZIP transcription factor 2 (human)', 'NFE2L2 - NFE2 like bZIP transcription factor 2 (human)', 'GNRHR - gonadotropin releasing hormone receptor (human)', 'KISS1R - KISS1 receptor (human)', nan, 'KISS1R - KISS1 receptor (human)', 'GNRHR - gonadotropin releasing hormone receptor (human)', 'GPX1 - glutathione peroxidase 1 (human)', 'GPX1 - glutathione peroxidase 1 (human)', 'GPX4 - glutathione peroxidase 4 (human)', 'GPX4 - glutathione peroxidase 4 (human)', 'Plasmodium falciparum (malaria parasite P. falciparum)', 'Dengue virus', 'Plasmodium falciparum (malaria parasite P. falciparum)', 'Plasmodium falciparum (malaria parasite P. falciparum)', nan, 'HDAC6 - histone deacetylase 6 (human)', 'HDAC6 - histone deacetylase 6 (human)', 'ORF1ab - ORF1a polyprotein;ORF1ab polyprotein (Severe acute respiratory syndrome coronavirus 2)', 'ORF1ab - ORF1a polyprotein;ORF1ab polyprotein (Severe acute respiratory syndrome coronavirus 2)', 'ORF1ab - ORF1a polyprotein;ORF1ab polyprotein (Severe acute respiratory syndrome coronavirus 2)', 'Severe acute respiratory syndrome coronavirus 2', 'Severe acute respiratory syndrome coronavirus 2', 'Severe acute respiratory syndrome coronavirus 2', 'Severe acute respiratory syndrome coronavirus 2', 'Severe acute respiratory syndrome coronavirus 2', 'Severe acute respiratory syndrome coronavirus 2', 'Severe acute respiratory syndrome coronavirus 2', 'Severe acute respiratory syndrome coronavirus 2', 'Entamoeba histolytica', 'Homo sapiens (human)', 'Homo sapiens (human)', nan, nan, nan, nan, nan, nan, 'Lacticaseibacillus casei', 'Lacticaseibacillus casei', nan, nan, nan, nan, nan, nan, nan, nan, nan, nan, nan, nan, nan, nan, nan, nan, nan, nan, nan, nan, 'SLCO1B3 - solute carrier organic anion transporter family member 1B3 (human)', 'SLCO1B1 - solute carrier organic anion transporter family member 1B1 (human)', 'SLCO2B1 - solute carrier organic anion transporter family member 2B1 (human)', 'Entamoeba histolytica', 'Mycobacterium tuberculosis', 'Mycobacterium tuberculosis', 'PNMT - phenylethanolamine N-methyltransferase (human)', 'COMT - catechol-O-methyltransferase (human)', 'NNMT - nicotinamide N-methyltransferase (human)', 'HNMT - histamine N-methyltransferase (human)', 'GAMT - guanidinoacetate N-methyltransferase (human)', 'GNMT - glycine N-methyltransferase (human)', 'PNMT - phenylethanolamine N-methyltransferase (human)', 'COMT - catechol-O-methyltransferase (human)', 'NNMT - nicotinamide N-methyltransferase (human)', 'HNMT - histamine N-methyltransferase (human)', 'GAMT - guanidinoacetate N-methyltransferase (human)', 'GNMT - glycine N-methyltransferase (human)', 'Luciferin 4-monooxygenase (Luciola mingrelica)', nan, nan, nan, 'TP53 - tumor protein p53 (human)', 'TP53 - tumor protein p53 (human)', nan, nan, 'TP53 - tumor protein p53 (human)', 'TP53 - tumor protein p53 (human)', nan, 'TP53 - tumor protein p53 (human)', 'TP53 - tumor protein p53 (human)', 'TP53 - tumor protein p53 (human)', 'TP53 - tumor protein p53 (human)', 'TP53 - tumor protein p53 (human)', 'TP53 - tumor protein p53 (human)', nan, nan, nan, nan])\n",
            "1217\n",
            "62\n",
            "[nan, 'MNAT1 - MNAT1 component of CDK activating kinase (human)', 'IFNB1 - interferon beta 1 (human)', 'CCNK - cyclin K (human)', 'HLA-B - major histocompatibility complex, class I, B (human)', 'Chain A, Calcium and integrin-binding protein 1 (human)', 'GNMT - glycine N-methyltransferase (human)', 'CCNT1 - cyclin T1 (human)', 'PNMT - phenylethanolamine N-methyltransferase (human)', 'CSNK1D - casein kinase 1 delta (human)', 'S - surface glycoprotein (Severe acute respiratory syndrome coronavirus 2)', 'AURKA - aurora kinase A (human)', 'CYP2D6 - cytochrome P450 family 2 subfamily D member 6 (gene/pseudogene) (human)', 'Cyclin-dependent kinase 1 (human)', 'CCNH - cyclin H (human)', 'SNCA - synuclein alpha (human)', 'FH - fumarate hydratase (human)', 'Mitogen-activated protein kinase 8 (human)', 'IP6K1 - inositol hexakisphosphate kinase 1 (human)', 'CIB1 - calcium and integrin binding 1 (human)', 'CDK7 - cyclin dependent kinase 7 (human)', 'Cyclin-dependent-like kinase 5  (human)', 'NTMT1 - N-terminal Xaa-Pro-Lys N-methyltransferase 1 (human)', 'Mitogen-activated protein kinase 9 (human)', 'Cyclin-C (human)', 'Cyclin-dependent kinase 9 (human)', 'BRD4 - bromodomain containing 4 (human)', 'Severe acute respiratory syndrome coronavirus 2', 'NNMT - nicotinamide N-methyltransferase (human)', 'Cyclin-A2 (human)', 'MAPK1 - mitogen-activated protein kinase 1 (human)', 'BRPF1 - bromodomain and PHD finger containing 1 (human)', 'COMT - catechol-O-methyltransferase (human)', 'CDK12 - cyclin dependent kinase 12 (human)', 'HDAC6 - histone deacetylase 6 (human)', 'Cyclin-dependent kinase 5 activator 1 (human)', 'Luciferin 4-monooxygenase (Luciola mingrelica)', 'Cyclin-H (human)', 'Cyclin-dependent kinase 7 (human)', 'GAMT - guanidinoacetate N-methyltransferase (human)', 'Cyclin-T1 (human)', 'CYP2C9 - cytochrome P450 family 2 subfamily C member 9 (human)', 'G2/mitotic-specific cyclin-B1 (human)', 'CYP3A4 - cytochrome P450 family 3 subfamily A member 4 (human)', 'CYP3A7 - cytochrome P450 family 3 subfamily A member 7 (human)', 'HNMT - histamine N-methyltransferase (human)', 'FGFR3 - fibroblast growth factor receptor 3 (human)', 'GPX4 - glutathione peroxidase 4 (human)', 'GSK3B - glycogen synthase kinase 3 beta (human)', 'TRIM24 - tripartite motif containing 24 (human)', 'CDK2 - cyclin dependent kinase 2 (human)', 'CDK9 - cyclin dependent kinase 9 (human)', 'CDK13 - cyclin dependent kinase 13 (human)', 'GPT2 - glutamic--pyruvic transaminase 2 (human)', 'Interleukin-1 receptor-associated kinase 1 (human)', 'ABL1 - ABL proto-oncogene 1, non-receptor tyrosine kinase (human)', 'ORF1ab - ORF1a polyprotein;ORF1ab polyprotein (Severe acute respiratory syndrome coronavirus 2)', 'NSD2 - nuclear receptor binding SET domain protein 2 (human)', 'Mitogen-activated protein kinase kinase kinase 11 (human)', 'Cyclin-dependent kinase 2 (human)', 'Cyclin-dependent kinase 8 (human)', 'GPX1 - glutathione peroxidase 1 (human)']\n"
          ]
        }
      ]
    },
    {
      "cell_type": "code",
      "source": [
        "#modify the bioessay_dict in a way that the values are only unique elements -> use set() function\n",
        "for i in"
      ],
      "metadata": {
        "id": "5agl0VOkoyLX"
      },
      "execution_count": null,
      "outputs": []
    },
    {
      "cell_type": "markdown",
      "source": [
        "# push the folder of the ids targets to github:"
      ],
      "metadata": {
        "id": "ugJTGIjRMR0m"
      }
    },
    {
      "cell_type": "markdown",
      "source": [
        "#how to do next step:\n",
        "make a folder with the name of the id (key in dict), and then download the uniprot sequence files (the first entry in the search query) for all the values and put them in the folder. in the end we should have 63 folders with many uniprot sequences in them."
      ],
      "metadata": {
        "id": "EXnr87TfhFma"
      }
    }
  ]
}