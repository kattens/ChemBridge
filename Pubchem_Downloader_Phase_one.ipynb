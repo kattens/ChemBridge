{
  "nbformat": 4,
  "nbformat_minor": 0,
  "metadata": {
    "colab": {
      "provenance": [],
      "authorship_tag": "ABX9TyPwxK4CXhDXa/FxghuxpQqv",
      "include_colab_link": true
    },
    "kernelspec": {
      "name": "python3",
      "display_name": "Python 3"
    },
    "language_info": {
      "name": "python"
    }
  },
  "cells": [
    {
      "cell_type": "markdown",
      "metadata": {
        "id": "view-in-github",
        "colab_type": "text"
      },
      "source": [
        "<a href=\"https://colab.research.google.com/github/kattens/PubChem-Data-Handler/blob/main/Pubchem_Downloader_Phase_one.ipynb\" target=\"_parent\"><img src=\"https://colab.research.google.com/assets/colab-badge.svg\" alt=\"Open In Colab\"/></a>"
      ]
    },
    {
      "cell_type": "code",
      "execution_count": null,
      "metadata": {
        "colab": {
          "base_uri": "https://localhost:8080/"
        },
        "id": "kKc8xF3T8SiS",
        "outputId": "a66e6d80-0c39-4e5d-c617-5ce68971898b"
      },
      "outputs": [
        {
          "output_type": "stream",
          "name": "stdout",
          "text": [
            "Collecting PubChemPy\n",
            "  Downloading PubChemPy-1.0.4.tar.gz (29 kB)\n",
            "  Preparing metadata (setup.py) ... \u001b[?25l\u001b[?25hdone\n",
            "Building wheels for collected packages: PubChemPy\n",
            "  Building wheel for PubChemPy (setup.py) ... \u001b[?25l\u001b[?25hdone\n",
            "  Created wheel for PubChemPy: filename=PubChemPy-1.0.4-py3-none-any.whl size=13819 sha256=bcf00d6cac6a608ad2f19eed84db541c1a9273643a0983c9b75c2b425330b12a\n",
            "  Stored in directory: /root/.cache/pip/wheels/90/7c/45/18a0671e3c3316966ef7ed9ad2b3f3300a7e41d3421a44e799\n",
            "Successfully built PubChemPy\n",
            "Installing collected packages: PubChemPy\n",
            "Successfully installed PubChemPy-1.0.4\n"
          ]
        }
      ],
      "source": [
        "!pip install PubChemPy"
      ]
    },
    {
      "cell_type": "code",
      "source": [
        "import pubchempy as pcp\n",
        "import csv\n",
        "\n",
        "def fetch_bioassay_results(pubchem_ids):\n",
        "    results = []\n",
        "    for cid in pubchem_ids:\n",
        "        try:\n",
        "            compound = pcp.Compound.from_cid(cid)\n",
        "            assays = compound.get_assays()\n",
        "            for assay in assays:\n",
        "                result = {\n",
        "                    'CID': cid,\n",
        "                    'Assay ID': assay.aid,\n",
        "                    'Description': assay.description,\n",
        "                    'Results': str(assay.results)  # Convert results to string if needed\n",
        "                }\n",
        "                results.append(result)\n",
        "        except Exception as e:\n",
        "            results.append({'CID': cid, 'Error': str(e)})\n",
        "    return results\n",
        "\n",
        "def save_results_to_csv(results, filename):\n",
        "    keys = results[0].keys()\n",
        "    with open(filename, 'w', newline='') as output_file:\n",
        "        dict_writer = csv.DictWriter(output_file, keys)\n",
        "        dict_writer.writeheader()\n",
        "        dict_writer.writerows(results)\n",
        "\n",
        "# List of PubChem CIDs\n",
        "pubchem_ids = [5330175]  # Replace these with your actual CIDs\n",
        "\n",
        "# Fetching the bioassay results\n",
        "bioassay_results = fetch_bioassay_results(pubchem_ids)\n",
        "\n",
        "# Save the results to a CSV file\n",
        "save_results_to_csv(bioassay_results, 'bioassay_results.csv')\n",
        "\n"
      ],
      "metadata": {
        "id": "MMwW6i2Q8ZBV"
      },
      "execution_count": null,
      "outputs": []
    },
    {
      "cell_type": "code",
      "source": [],
      "metadata": {
        "id": "CiWz_r8P8eRc"
      },
      "execution_count": null,
      "outputs": []
    }
  ]
}