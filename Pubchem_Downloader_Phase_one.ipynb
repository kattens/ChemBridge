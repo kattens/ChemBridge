{
  "nbformat": 4,
  "nbformat_minor": 0,
  "metadata": {
    "colab": {
      "provenance": [],
      "mount_file_id": "1nUqLK5WqiMEJ2_o0rqC1OA5E4Fb_ets2",
      "authorship_tag": "ABX9TyOBuSi3rbE1D9ZMsrxP/OPl",
      "include_colab_link": true
    },
    "kernelspec": {
      "name": "python3",
      "display_name": "Python 3"
    },
    "language_info": {
      "name": "python"
    }
  },
  "cells": [
    {
      "cell_type": "markdown",
      "metadata": {
        "id": "view-in-github",
        "colab_type": "text"
      },
      "source": [
        "<a href=\"https://colab.research.google.com/github/kattens/PubChem-Data-Handler/blob/main/Pubchem_Downloader_Phase_one.ipynb\" target=\"_parent\"><img src=\"https://colab.research.google.com/assets/colab-badge.svg\" alt=\"Open In Colab\"/></a>"
      ]
    },
    {
      "cell_type": "code",
      "execution_count": 1,
      "metadata": {
        "id": "kKc8xF3T8SiS"
      },
      "outputs": [],
      "source": [
        "%%capture\n",
        "!pip install PubChemPy"
      ]
    },
    {
      "cell_type": "code",
      "source": [
        "import csv\n",
        "import pandas as pd\n",
        "import pubchempy as pcp\n",
        "import os\n",
        "import requests"
      ],
      "metadata": {
        "id": "lo_Nt5Pu0Mqw"
      },
      "execution_count": 71,
      "outputs": []
    },
    {
      "cell_type": "code",
      "source": [
        "file_path = '/content/drive/MyDrive/cdot_actives_50 1.xlsx'\n",
        "\n",
        "df = pd.read_excel(file_path)"
      ],
      "metadata": {
        "id": "nJ7j4Egg0RDv"
      },
      "execution_count": 72,
      "outputs": []
    },
    {
      "cell_type": "code",
      "source": [
        "#based on a experiment theres some NaN values in the column that we should remove\n",
        "#remove the rows with NaN as the pubchem_cid value\n",
        "df = df.dropna(subset=['pubchem_cid'])"
      ],
      "metadata": {
        "id": "lgCThy304TL8"
      },
      "execution_count": 73,
      "outputs": []
    },
    {
      "cell_type": "code",
      "source": [
        "#access to the pubchem_cid column\n",
        "df['pubchem_cid']"
      ],
      "metadata": {
        "colab": {
          "base_uri": "https://localhost:8080/",
          "height": 458
        },
        "id": "wtZ9uV3471_1",
        "outputId": "2ad41f5a-e162-45f2-efc0-5497efc79da4"
      },
      "execution_count": 74,
      "outputs": [
        {
          "output_type": "execute_result",
          "data": {
            "text/plain": [
              "0      5330175.0\n",
              "1      5311340.0\n",
              "2     11511120.0\n",
              "3       221354.0\n",
              "4      6806409.0\n",
              "         ...    \n",
              "60     9829836.0\n",
              "61    51031035.0\n",
              "62      452192.0\n",
              "63       30323.0\n",
              "64    11785878.0\n",
              "Name: pubchem_cid, Length: 63, dtype: float64"
            ],
            "text/html": [
              "<div>\n",
              "<style scoped>\n",
              "    .dataframe tbody tr th:only-of-type {\n",
              "        vertical-align: middle;\n",
              "    }\n",
              "\n",
              "    .dataframe tbody tr th {\n",
              "        vertical-align: top;\n",
              "    }\n",
              "\n",
              "    .dataframe thead th {\n",
              "        text-align: right;\n",
              "    }\n",
              "</style>\n",
              "<table border=\"1\" class=\"dataframe\">\n",
              "  <thead>\n",
              "    <tr style=\"text-align: right;\">\n",
              "      <th></th>\n",
              "      <th>pubchem_cid</th>\n",
              "    </tr>\n",
              "  </thead>\n",
              "  <tbody>\n",
              "    <tr>\n",
              "      <th>0</th>\n",
              "      <td>5330175.0</td>\n",
              "    </tr>\n",
              "    <tr>\n",
              "      <th>1</th>\n",
              "      <td>5311340.0</td>\n",
              "    </tr>\n",
              "    <tr>\n",
              "      <th>2</th>\n",
              "      <td>11511120.0</td>\n",
              "    </tr>\n",
              "    <tr>\n",
              "      <th>3</th>\n",
              "      <td>221354.0</td>\n",
              "    </tr>\n",
              "    <tr>\n",
              "      <th>4</th>\n",
              "      <td>6806409.0</td>\n",
              "    </tr>\n",
              "    <tr>\n",
              "      <th>...</th>\n",
              "      <td>...</td>\n",
              "    </tr>\n",
              "    <tr>\n",
              "      <th>60</th>\n",
              "      <td>9829836.0</td>\n",
              "    </tr>\n",
              "    <tr>\n",
              "      <th>61</th>\n",
              "      <td>51031035.0</td>\n",
              "    </tr>\n",
              "    <tr>\n",
              "      <th>62</th>\n",
              "      <td>452192.0</td>\n",
              "    </tr>\n",
              "    <tr>\n",
              "      <th>63</th>\n",
              "      <td>30323.0</td>\n",
              "    </tr>\n",
              "    <tr>\n",
              "      <th>64</th>\n",
              "      <td>11785878.0</td>\n",
              "    </tr>\n",
              "  </tbody>\n",
              "</table>\n",
              "<p>63 rows × 1 columns</p>\n",
              "</div><br><label><b>dtype:</b> float64</label>"
            ]
          },
          "metadata": {},
          "execution_count": 74
        }
      ]
    },
    {
      "cell_type": "code",
      "source": [
        "#make a list\n",
        "pubchem_ids = df['pubchem_cid'].tolist() #type = float\n",
        "pubchem_targets = df['target'].tolist() #type = string\n",
        "\n",
        "#convert the float to int\n",
        "pubchem_ids = [int(i) for i in pubchem_ids]\n",
        "\n",
        "#make every element in pubchem_targets a list and if see | break and make a new entry in the list\n",
        "for i in range(len(pubchem_targets)):\n",
        "  if isinstance(pubchem_targets[i], str): #checking if the element is a string before continuing\n",
        "    if '|' in pubchem_targets[i]:\n",
        "        pubchem_targets[i] = pubchem_targets[i].strip().split('|')\n",
        "    else:\n",
        "        #remove the '' from the entry\n",
        "        pubchem_targets[i] = pubchem_targets[i].strip().replace(' ', '') #Added strip before replace\n",
        "        pubchem_targets[i] = [pubchem_targets[i]]\n",
        "\n",
        "'''\n",
        "#just to make sure the values are correct to make a dict\n",
        "print(len(pubchem_ids))\n",
        "print(len(pubchem_targets))\n",
        "print(type(pubchem_targets[2][0]))\n",
        "'''\n",
        "\n",
        "#make a dictionary such that ids are the keys and targets are the values\n",
        "pubchem_dict = dict(zip(pubchem_ids , pubchem_targets))\n",
        "print(pubchem_dict)\n"
      ],
      "metadata": {
        "colab": {
          "base_uri": "https://localhost:8080/"
        },
        "id": "f4rQ_LG433Lr",
        "outputId": "e6bbd9c2-9cac-476d-837f-7b657bb0bbbb"
      },
      "execution_count": 75,
      "outputs": [
        {
          "output_type": "stream",
          "name": "stdout",
          "text": [
            "{5330175: ['SRC'], 5311340: ['OPRL1'], 11511120: ['EGFR', 'ERBB2', 'ERBB4'], 221354: ['CCR1'], 6806409: ['TP53', 'USP14'], 5329480: ['EGFR', 'ERBB2'], 12947: ['TLR7', 'TLR9'], 444810: ['MRGPRX1'], 135421339: ['BRAF'], 9939609: ['PLA2G7'], 42627755: ['ERNÂ\\xa01.00'], 53464483: ['TRPV4'], 3647519: ['HNMT'], 9810709: ['TOP2A'], 6413301: ['TP53', 'USP14'], 119081415: ['CDK7'], 5311382: ['EGFR', 'FGFR1', 'PDGFRB', 'PKMYT1', 'SRC', 'WEE1'], 53315868: ['EHMT2'], 10219: ['RPS2'], 9914412: ['AURKA', 'AURKB'], 2993: ['KCNN1', 'KCNN3'], 24756910: ['EGFR', 'ERBB2'], 6918097: ['ADORA3'], 4534086: ['SLC8A1', 'TRPC3', 'TRPC5', 'TRPC6'], 73416445: ['ATP1A1'], 132928: ['BDKRB2'], 5281035: ['AR'], 121750: ['TYMS'], 9852185: ['BCL2'], 51000408: ['ATR'], 73602827: ['CDK7'], 3499: ['PRKCA', 'PRKCB', 'PRKCD', 'PRKCG', 'PRKCZ'], 9809926: ['CACNA2D1'], 41867: ['CHD1', 'TOP2A'], 6918837: ['HDAC1', 'HDAC2', 'HDAC3', 'HDAC4', 'HDAC6', 'HDAC7', 'HDAC8', 'HDAC9'], 24858111: ['DNMT1', 'DNMT3A', 'DNMT3B'], 33630: ['CACNA1G'], 2798: ['KCNA5', 'KCNH1'], 441074: ['KCNA5', 'KCNA7', 'KCNH1', 'KCNH2', 'KCNH5', 'KCNK1', 'KCNK6', 'SCN5A', 'SLC29A4'], 4735: ['TRDMT1'], 3034034: ['GP9', 'KCNB2', 'KCNN4', 'SLC29A4'], 676352: ['CASP3'], 49855250: ['HDAC1', 'HDAC10', 'HDAC2', 'HDAC3', 'HDAC4', 'HDAC5', 'HDAC6', 'HDAC9'], 154257: ['ESR1', 'ESR2'], 24795070: ['FLT3', 'PIM1', 'PIM2', 'PIM3'], 11978790: ['MTOR', 'PIK3CA', 'PIK3CB', 'PIK3CG'], 439530: ['NHP2L1', 'RPL10L', 'RPL11', 'RPL13A', 'RPL15', 'RPL19', 'RPL23', 'RPL23A', 'RPL26L1', 'RPL3', 'RPL37', 'RPL8', 'RSL24D1'], 6445562: ['EGFR'], 9829526: ['ADRA1A', 'ADRA1B', 'ADRA1D'], 5583: ['DHFR'], 446536: ['PLA2G1B'], 46848036: ['ABL1', 'PDGFRB'], 9549305: ['IGF1R'], 25150857: ['EHMT1', 'EHMT2'], 53315882: ['EHMT2'], 6197: ['RPL3'], 51358113: ['MTOR'], 16007391: ['AURKB'], 9829836: ['ADRB1', 'ADRB2', 'ADRB3'], 51031035: ['RAC1', 'RAC3'], 452192: ['HIF1A'], 30323: ['TOP2A', 'TOP2B'], 11785878: ['LCK']}\n"
          ]
        }
      ]
    },
    {
      "cell_type": "markdown",
      "source": [
        "# Now we have a dictionary of the ids and targets.\n"
      ],
      "metadata": {
        "id": "aSHQactQ9MrR"
      }
    },
    {
      "cell_type": "code",
      "source": [
        "for cid in pubchem_ids:\n",
        "  print(cid)"
      ],
      "metadata": {
        "id": "SXfO_BjWciH4"
      },
      "execution_count": null,
      "outputs": []
    },
    {
      "cell_type": "code",
      "source": [
        "'''\n",
        "Next step is to download the ids biological test results csv files from pubchem website\n",
        "We tried to use the PUG API but it wasnt downloading the correct files so we did it manually\n",
        "'''\n",
        "\n",
        "#folder to save the csv files in:\n",
        "folder_path = '/content/drive/MyDrive/IDS_Target_Result'\n",
        "\n",
        "def fetch_bioassay_results(pubchem_ids, folder_path):\n",
        "    # Ensure the folder exists\n",
        "    os.makedirs(folder_path, exist_ok=True)\n",
        "    for cid in pubchem_ids:\n",
        "        # The url, using f-string formatting -> same for all the files\n",
        "        url = f\"https://pubchem.ncbi.nlm.nih.gov/sdq/sdqagent.cgi?infmt=json&outfmt=csv&query={{%22download%22:%22*%22,%22collection%22:%22bioactivity%22,%22order%22:[%22acvalue,asc%22],%22start%22:1,%22limit%22:10000000,%22downloadfilename%22:%22pubchem_cid_{cid}_bioactivity%22,%22nullatbottom%22:1,%22where%22:{{%22ands%22:[{{%22cid%22:%22{cid}%22}}]}}}}\"\n",
        "\n",
        "        # Send a GET request to the API\n",
        "        response = requests.get(url)\n",
        "\n",
        "        # Check if the request was successful\n",
        "        if response.status_code == 200:\n",
        "            # Define the file path\n",
        "            file_path = os.path.join(folder_path, f\"{cid}.csv\")\n",
        "            # Write the content to a CSV file\n",
        "            with open(file_path, 'wb') as file:\n",
        "                file.write(response.content)\n",
        "            print(f\"Bioassay data for CID {cid} has been downloaded and saved to {file_path}\")\n",
        "        else:\n",
        "            print(f\"Failed to retrieve bioassay data for CID {cid}. HTTP Status Code: {response.status_code}\")\n",
        "\n",
        "\n"
      ],
      "metadata": {
        "id": "zJ39h15r9cVd"
      },
      "execution_count": 77,
      "outputs": []
    },
    {
      "cell_type": "code",
      "source": [
        "fetch_bioassay_results(pubchem_ids , folder_path)"
      ],
      "metadata": {
        "colab": {
          "base_uri": "https://localhost:8080/"
        },
        "id": "vHJoOjZTcO9y",
        "outputId": "7ecae597-6105-48e1-abd6-7ceef9088650"
      },
      "execution_count": 78,
      "outputs": [
        {
          "output_type": "stream",
          "name": "stdout",
          "text": [
            "Bioassay data for CID 5330175 has been downloaded and saved to /content/drive/MyDrive/IDS_Target_Result/5330175.csv\n",
            "Bioassay data for CID 5311340 has been downloaded and saved to /content/drive/MyDrive/IDS_Target_Result/5311340.csv\n",
            "Bioassay data for CID 11511120 has been downloaded and saved to /content/drive/MyDrive/IDS_Target_Result/11511120.csv\n",
            "Bioassay data for CID 221354 has been downloaded and saved to /content/drive/MyDrive/IDS_Target_Result/221354.csv\n",
            "Bioassay data for CID 6806409 has been downloaded and saved to /content/drive/MyDrive/IDS_Target_Result/6806409.csv\n",
            "Bioassay data for CID 5329480 has been downloaded and saved to /content/drive/MyDrive/IDS_Target_Result/5329480.csv\n",
            "Bioassay data for CID 12947 has been downloaded and saved to /content/drive/MyDrive/IDS_Target_Result/12947.csv\n",
            "Bioassay data for CID 444810 has been downloaded and saved to /content/drive/MyDrive/IDS_Target_Result/444810.csv\n",
            "Bioassay data for CID 135421339 has been downloaded and saved to /content/drive/MyDrive/IDS_Target_Result/135421339.csv\n",
            "Bioassay data for CID 9939609 has been downloaded and saved to /content/drive/MyDrive/IDS_Target_Result/9939609.csv\n",
            "Bioassay data for CID 42627755 has been downloaded and saved to /content/drive/MyDrive/IDS_Target_Result/42627755.csv\n",
            "Bioassay data for CID 53464483 has been downloaded and saved to /content/drive/MyDrive/IDS_Target_Result/53464483.csv\n",
            "Bioassay data for CID 3647519 has been downloaded and saved to /content/drive/MyDrive/IDS_Target_Result/3647519.csv\n",
            "Bioassay data for CID 9810709 has been downloaded and saved to /content/drive/MyDrive/IDS_Target_Result/9810709.csv\n",
            "Bioassay data for CID 6413301 has been downloaded and saved to /content/drive/MyDrive/IDS_Target_Result/6413301.csv\n",
            "Bioassay data for CID 119081415 has been downloaded and saved to /content/drive/MyDrive/IDS_Target_Result/119081415.csv\n",
            "Bioassay data for CID 5311382 has been downloaded and saved to /content/drive/MyDrive/IDS_Target_Result/5311382.csv\n",
            "Bioassay data for CID 53315868 has been downloaded and saved to /content/drive/MyDrive/IDS_Target_Result/53315868.csv\n",
            "Bioassay data for CID 10219 has been downloaded and saved to /content/drive/MyDrive/IDS_Target_Result/10219.csv\n",
            "Bioassay data for CID 9914412 has been downloaded and saved to /content/drive/MyDrive/IDS_Target_Result/9914412.csv\n",
            "Bioassay data for CID 2993 has been downloaded and saved to /content/drive/MyDrive/IDS_Target_Result/2993.csv\n",
            "Bioassay data for CID 24756910 has been downloaded and saved to /content/drive/MyDrive/IDS_Target_Result/24756910.csv\n",
            "Bioassay data for CID 6918097 has been downloaded and saved to /content/drive/MyDrive/IDS_Target_Result/6918097.csv\n",
            "Bioassay data for CID 4534086 has been downloaded and saved to /content/drive/MyDrive/IDS_Target_Result/4534086.csv\n",
            "Bioassay data for CID 73416445 has been downloaded and saved to /content/drive/MyDrive/IDS_Target_Result/73416445.csv\n",
            "Bioassay data for CID 132928 has been downloaded and saved to /content/drive/MyDrive/IDS_Target_Result/132928.csv\n",
            "Bioassay data for CID 5281035 has been downloaded and saved to /content/drive/MyDrive/IDS_Target_Result/5281035.csv\n",
            "Bioassay data for CID 121750 has been downloaded and saved to /content/drive/MyDrive/IDS_Target_Result/121750.csv\n",
            "Bioassay data for CID 9852185 has been downloaded and saved to /content/drive/MyDrive/IDS_Target_Result/9852185.csv\n",
            "Bioassay data for CID 51000408 has been downloaded and saved to /content/drive/MyDrive/IDS_Target_Result/51000408.csv\n",
            "Bioassay data for CID 73602827 has been downloaded and saved to /content/drive/MyDrive/IDS_Target_Result/73602827.csv\n",
            "Bioassay data for CID 3499 has been downloaded and saved to /content/drive/MyDrive/IDS_Target_Result/3499.csv\n",
            "Bioassay data for CID 9809926 has been downloaded and saved to /content/drive/MyDrive/IDS_Target_Result/9809926.csv\n",
            "Bioassay data for CID 41867 has been downloaded and saved to /content/drive/MyDrive/IDS_Target_Result/41867.csv\n",
            "Bioassay data for CID 6918837 has been downloaded and saved to /content/drive/MyDrive/IDS_Target_Result/6918837.csv\n",
            "Bioassay data for CID 24858111 has been downloaded and saved to /content/drive/MyDrive/IDS_Target_Result/24858111.csv\n",
            "Bioassay data for CID 33630 has been downloaded and saved to /content/drive/MyDrive/IDS_Target_Result/33630.csv\n",
            "Bioassay data for CID 2798 has been downloaded and saved to /content/drive/MyDrive/IDS_Target_Result/2798.csv\n",
            "Bioassay data for CID 441074 has been downloaded and saved to /content/drive/MyDrive/IDS_Target_Result/441074.csv\n",
            "Bioassay data for CID 4735 has been downloaded and saved to /content/drive/MyDrive/IDS_Target_Result/4735.csv\n",
            "Bioassay data for CID 3034034 has been downloaded and saved to /content/drive/MyDrive/IDS_Target_Result/3034034.csv\n",
            "Bioassay data for CID 676352 has been downloaded and saved to /content/drive/MyDrive/IDS_Target_Result/676352.csv\n",
            "Bioassay data for CID 49855250 has been downloaded and saved to /content/drive/MyDrive/IDS_Target_Result/49855250.csv\n",
            "Bioassay data for CID 154257 has been downloaded and saved to /content/drive/MyDrive/IDS_Target_Result/154257.csv\n",
            "Bioassay data for CID 24795070 has been downloaded and saved to /content/drive/MyDrive/IDS_Target_Result/24795070.csv\n",
            "Bioassay data for CID 11978790 has been downloaded and saved to /content/drive/MyDrive/IDS_Target_Result/11978790.csv\n",
            "Bioassay data for CID 439530 has been downloaded and saved to /content/drive/MyDrive/IDS_Target_Result/439530.csv\n",
            "Bioassay data for CID 6445562 has been downloaded and saved to /content/drive/MyDrive/IDS_Target_Result/6445562.csv\n",
            "Bioassay data for CID 9829526 has been downloaded and saved to /content/drive/MyDrive/IDS_Target_Result/9829526.csv\n",
            "Bioassay data for CID 5583 has been downloaded and saved to /content/drive/MyDrive/IDS_Target_Result/5583.csv\n",
            "Bioassay data for CID 446536 has been downloaded and saved to /content/drive/MyDrive/IDS_Target_Result/446536.csv\n",
            "Bioassay data for CID 46848036 has been downloaded and saved to /content/drive/MyDrive/IDS_Target_Result/46848036.csv\n",
            "Bioassay data for CID 9549305 has been downloaded and saved to /content/drive/MyDrive/IDS_Target_Result/9549305.csv\n",
            "Bioassay data for CID 25150857 has been downloaded and saved to /content/drive/MyDrive/IDS_Target_Result/25150857.csv\n",
            "Bioassay data for CID 53315882 has been downloaded and saved to /content/drive/MyDrive/IDS_Target_Result/53315882.csv\n",
            "Bioassay data for CID 6197 has been downloaded and saved to /content/drive/MyDrive/IDS_Target_Result/6197.csv\n",
            "Bioassay data for CID 51358113 has been downloaded and saved to /content/drive/MyDrive/IDS_Target_Result/51358113.csv\n",
            "Bioassay data for CID 16007391 has been downloaded and saved to /content/drive/MyDrive/IDS_Target_Result/16007391.csv\n",
            "Bioassay data for CID 9829836 has been downloaded and saved to /content/drive/MyDrive/IDS_Target_Result/9829836.csv\n",
            "Bioassay data for CID 51031035 has been downloaded and saved to /content/drive/MyDrive/IDS_Target_Result/51031035.csv\n",
            "Bioassay data for CID 452192 has been downloaded and saved to /content/drive/MyDrive/IDS_Target_Result/452192.csv\n",
            "Bioassay data for CID 30323 has been downloaded and saved to /content/drive/MyDrive/IDS_Target_Result/30323.csv\n",
            "Bioassay data for CID 11785878 has been downloaded and saved to /content/drive/MyDrive/IDS_Target_Result/11785878.csv\n"
          ]
        }
      ]
    },
    {
      "source": [
        "#THE PRACTICE CODE FOR SEEING IF THE REQUEST RETURNS THE PAGE WE WANT!\n",
        "'''\n",
        "import requests\n",
        "import webbrowser\n",
        "from IPython.display import IFrame\n",
        "\n",
        "def fetch_bioassay_results(cid):\n",
        "    query = f'https://pubchem.ncbi.nlm.nih.gov/compound/{cid}#section=BioAssay-Results&fullscreen=true'\n",
        "\n",
        "    try:\n",
        "        # Try opening in a new tab (might not work in all environments)\n",
        "        webbrowser.open_new_tab(query)\n",
        "    except Exception as e:\n",
        "        print(f\"Error opening in new tab: {e}\")\n",
        "        # Fallback: Open in default browser (new window or tab)\n",
        "        webbrowser.open(query)\n",
        "\n",
        "    # Embed the webpage in the notebook using IFrame\n",
        "    display(IFrame(query, width=800, height=600))\n",
        "\n",
        "    # Make the request with 'requests' (optional)\n",
        "    response = requests.get(query)\n",
        "    if response.status_code == 200:\n",
        "        print(f\"Successfully accessed the website for CID: {cid}\")\n",
        "    else:\n",
        "        print(f\"Failed to access the website for CID: {cid}, Status code: {response.status_code}\")\n",
        "\n",
        "# Example usage\n",
        "fetch_bioassay_results(5330175)\n",
        "'''"
      ],
      "cell_type": "code",
      "metadata": {
        "id": "6mrkV2IDDFZf"
      },
      "execution_count": null,
      "outputs": []
    }
  ]
}