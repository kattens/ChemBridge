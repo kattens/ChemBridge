{
  "nbformat": 4,
  "nbformat_minor": 0,
  "metadata": {
    "colab": {
      "provenance": [],
      "mount_file_id": "1nUqLK5WqiMEJ2_o0rqC1OA5E4Fb_ets2",
      "authorship_tag": "ABX9TyObNlWP5NTK+HvoRgy6Gqbx",
      "include_colab_link": true
    },
    "kernelspec": {
      "name": "python3",
      "display_name": "Python 3"
    },
    "language_info": {
      "name": "python"
    }
  },
  "cells": [
    {
      "cell_type": "markdown",
      "metadata": {
        "id": "view-in-github",
        "colab_type": "text"
      },
      "source": [
        "<a href=\"https://colab.research.google.com/github/kattens/PubChem-Data-Handler/blob/main/Pubchem_Downloader_Phase_one.ipynb\" target=\"_parent\"><img src=\"https://colab.research.google.com/assets/colab-badge.svg\" alt=\"Open In Colab\"/></a>"
      ]
    },
    {
      "cell_type": "code",
      "execution_count": 36,
      "metadata": {
        "id": "kKc8xF3T8SiS"
      },
      "outputs": [],
      "source": [
        "%%capture\n",
        "!pip install PubChemPy"
      ]
    },
    {
      "cell_type": "code",
      "source": [
        "import csv\n",
        "import pandas as pd\n",
        "import pubchempy as pcp\n",
        "import os\n",
        "import requests"
      ],
      "metadata": {
        "id": "lo_Nt5Pu0Mqw"
      },
      "execution_count": 37,
      "outputs": []
    },
    {
      "cell_type": "code",
      "source": [
        "file_path = '/content/drive/MyDrive/cdot_actives_50 1.xlsx'\n",
        "\n",
        "df = pd.read_excel(file_path)"
      ],
      "metadata": {
        "id": "nJ7j4Egg0RDv"
      },
      "execution_count": 38,
      "outputs": []
    },
    {
      "cell_type": "code",
      "source": [
        "#based on a experiment theres some NaN values in the column that we should remove\n",
        "#remove the rows with NaN as the pubchem_cid value\n",
        "df = df.dropna(subset=['pubchem_cid'])"
      ],
      "metadata": {
        "id": "lgCThy304TL8"
      },
      "execution_count": 39,
      "outputs": []
    },
    {
      "cell_type": "code",
      "source": [
        "#access to the pubchem_cid column\n",
        "df['pubchem_cid']"
      ],
      "metadata": {
        "colab": {
          "base_uri": "https://localhost:8080/",
          "height": 458
        },
        "id": "wtZ9uV3471_1",
        "outputId": "ed876f56-13c3-43bb-adfc-77bc45c0b0f0"
      },
      "execution_count": 40,
      "outputs": [
        {
          "output_type": "execute_result",
          "data": {
            "text/plain": [
              "0      5330175.0\n",
              "1      5311340.0\n",
              "2     11511120.0\n",
              "3       221354.0\n",
              "4      6806409.0\n",
              "         ...    \n",
              "60     9829836.0\n",
              "61    51031035.0\n",
              "62      452192.0\n",
              "63       30323.0\n",
              "64    11785878.0\n",
              "Name: pubchem_cid, Length: 63, dtype: float64"
            ],
            "text/html": [
              "<div>\n",
              "<style scoped>\n",
              "    .dataframe tbody tr th:only-of-type {\n",
              "        vertical-align: middle;\n",
              "    }\n",
              "\n",
              "    .dataframe tbody tr th {\n",
              "        vertical-align: top;\n",
              "    }\n",
              "\n",
              "    .dataframe thead th {\n",
              "        text-align: right;\n",
              "    }\n",
              "</style>\n",
              "<table border=\"1\" class=\"dataframe\">\n",
              "  <thead>\n",
              "    <tr style=\"text-align: right;\">\n",
              "      <th></th>\n",
              "      <th>pubchem_cid</th>\n",
              "    </tr>\n",
              "  </thead>\n",
              "  <tbody>\n",
              "    <tr>\n",
              "      <th>0</th>\n",
              "      <td>5330175.0</td>\n",
              "    </tr>\n",
              "    <tr>\n",
              "      <th>1</th>\n",
              "      <td>5311340.0</td>\n",
              "    </tr>\n",
              "    <tr>\n",
              "      <th>2</th>\n",
              "      <td>11511120.0</td>\n",
              "    </tr>\n",
              "    <tr>\n",
              "      <th>3</th>\n",
              "      <td>221354.0</td>\n",
              "    </tr>\n",
              "    <tr>\n",
              "      <th>4</th>\n",
              "      <td>6806409.0</td>\n",
              "    </tr>\n",
              "    <tr>\n",
              "      <th>...</th>\n",
              "      <td>...</td>\n",
              "    </tr>\n",
              "    <tr>\n",
              "      <th>60</th>\n",
              "      <td>9829836.0</td>\n",
              "    </tr>\n",
              "    <tr>\n",
              "      <th>61</th>\n",
              "      <td>51031035.0</td>\n",
              "    </tr>\n",
              "    <tr>\n",
              "      <th>62</th>\n",
              "      <td>452192.0</td>\n",
              "    </tr>\n",
              "    <tr>\n",
              "      <th>63</th>\n",
              "      <td>30323.0</td>\n",
              "    </tr>\n",
              "    <tr>\n",
              "      <th>64</th>\n",
              "      <td>11785878.0</td>\n",
              "    </tr>\n",
              "  </tbody>\n",
              "</table>\n",
              "<p>63 rows × 1 columns</p>\n",
              "</div><br><label><b>dtype:</b> float64</label>"
            ]
          },
          "metadata": {},
          "execution_count": 40
        }
      ]
    },
    {
      "cell_type": "code",
      "source": [
        "#make a list\n",
        "pubchem_ids = df['pubchem_cid'].tolist() #type = float\n",
        "pubchem_targets = df['target'].tolist() #type = string\n",
        "\n",
        "#convert the float to int\n",
        "pubchem_ids = [int(i) for i in pubchem_ids]\n",
        "\n",
        "#make every element in pubchem_targets a list and if see | break and make a new entry in the list\n",
        "for i in range(len(pubchem_targets)):\n",
        "  if isinstance(pubchem_targets[i], str): #checking if the element is a string before continuing\n",
        "    if '|' in pubchem_targets[i]:\n",
        "        pubchem_targets[i] = pubchem_targets[i].strip().split('|')\n",
        "    else:\n",
        "        #remove the '' from the entry\n",
        "        pubchem_targets[i] = pubchem_targets[i].strip().replace(' ', '') #Added strip before replace\n",
        "        pubchem_targets[i] = [pubchem_targets[i]]\n",
        "\n",
        "'''\n",
        "#just to make sure the values are correct to make a dict\n",
        "print(len(pubchem_ids))\n",
        "print(len(pubchem_targets))\n",
        "print(type(pubchem_targets[2][0]))\n",
        "'''\n",
        "\n",
        "#make a dictionary such that ids are the keys and targets are the values\n",
        "pubchem_dict = dict(zip(pubchem_ids , pubchem_targets))\n",
        "print(pubchem_dict)\n"
      ],
      "metadata": {
        "colab": {
          "base_uri": "https://localhost:8080/"
        },
        "id": "f4rQ_LG433Lr",
        "outputId": "4e82ca76-ddb4-4a63-930b-ebe8f62bc2a8"
      },
      "execution_count": 41,
      "outputs": [
        {
          "output_type": "stream",
          "name": "stdout",
          "text": [
            "{5330175: ['SRC'], 5311340: ['OPRL1'], 11511120: ['EGFR', 'ERBB2', 'ERBB4'], 221354: ['CCR1'], 6806409: ['TP53', 'USP14'], 5329480: ['EGFR', 'ERBB2'], 12947: ['TLR7', 'TLR9'], 444810: ['MRGPRX1'], 135421339: ['BRAF'], 9939609: ['PLA2G7'], 42627755: ['ERNÂ\\xa01.00'], 53464483: ['TRPV4'], 3647519: ['HNMT'], 9810709: ['TOP2A'], 6413301: ['TP53', 'USP14'], 119081415: ['CDK7'], 5311382: ['EGFR', 'FGFR1', 'PDGFRB', 'PKMYT1', 'SRC', 'WEE1'], 53315868: ['EHMT2'], 10219: ['RPS2'], 9914412: ['AURKA', 'AURKB'], 2993: ['KCNN1', 'KCNN3'], 24756910: ['EGFR', 'ERBB2'], 6918097: ['ADORA3'], 4534086: ['SLC8A1', 'TRPC3', 'TRPC5', 'TRPC6'], 73416445: ['ATP1A1'], 132928: ['BDKRB2'], 5281035: ['AR'], 121750: ['TYMS'], 9852185: ['BCL2'], 51000408: ['ATR'], 73602827: ['CDK7'], 3499: ['PRKCA', 'PRKCB', 'PRKCD', 'PRKCG', 'PRKCZ'], 9809926: ['CACNA2D1'], 41867: ['CHD1', 'TOP2A'], 6918837: ['HDAC1', 'HDAC2', 'HDAC3', 'HDAC4', 'HDAC6', 'HDAC7', 'HDAC8', 'HDAC9'], 24858111: ['DNMT1', 'DNMT3A', 'DNMT3B'], 33630: ['CACNA1G'], 2798: ['KCNA5', 'KCNH1'], 441074: ['KCNA5', 'KCNA7', 'KCNH1', 'KCNH2', 'KCNH5', 'KCNK1', 'KCNK6', 'SCN5A', 'SLC29A4'], 4735: ['TRDMT1'], 3034034: ['GP9', 'KCNB2', 'KCNN4', 'SLC29A4'], 676352: ['CASP3'], 49855250: ['HDAC1', 'HDAC10', 'HDAC2', 'HDAC3', 'HDAC4', 'HDAC5', 'HDAC6', 'HDAC9'], 154257: ['ESR1', 'ESR2'], 24795070: ['FLT3', 'PIM1', 'PIM2', 'PIM3'], 11978790: ['MTOR', 'PIK3CA', 'PIK3CB', 'PIK3CG'], 439530: ['NHP2L1', 'RPL10L', 'RPL11', 'RPL13A', 'RPL15', 'RPL19', 'RPL23', 'RPL23A', 'RPL26L1', 'RPL3', 'RPL37', 'RPL8', 'RSL24D1'], 6445562: ['EGFR'], 9829526: ['ADRA1A', 'ADRA1B', 'ADRA1D'], 5583: ['DHFR'], 446536: ['PLA2G1B'], 46848036: ['ABL1', 'PDGFRB'], 9549305: ['IGF1R'], 25150857: ['EHMT1', 'EHMT2'], 53315882: ['EHMT2'], 6197: ['RPL3'], 51358113: ['MTOR'], 16007391: ['AURKB'], 9829836: ['ADRB1', 'ADRB2', 'ADRB3'], 51031035: ['RAC1', 'RAC3'], 452192: ['HIF1A'], 30323: ['TOP2A', 'TOP2B'], 11785878: ['LCK']}\n"
          ]
        }
      ]
    },
    {
      "cell_type": "markdown",
      "source": [
        "# Now we have a dictionary of the ids and targets.\n"
      ],
      "metadata": {
        "id": "aSHQactQ9MrR"
      }
    },
    {
      "cell_type": "code",
      "source": [
        "for cid in pubchem_ids:\n",
        "  print(cid)"
      ],
      "metadata": {
        "id": "SXfO_BjWciH4",
        "colab": {
          "base_uri": "https://localhost:8080/"
        },
        "outputId": "f8236311-3f8b-419f-9432-ab7eae4933ca"
      },
      "execution_count": 42,
      "outputs": [
        {
          "output_type": "stream",
          "name": "stdout",
          "text": [
            "5330175\n",
            "5311340\n",
            "11511120\n",
            "221354\n",
            "6806409\n",
            "5329480\n",
            "12947\n",
            "444810\n",
            "135421339\n",
            "9939609\n",
            "42627755\n",
            "53464483\n",
            "3647519\n",
            "9810709\n",
            "6413301\n",
            "119081415\n",
            "5311382\n",
            "53315868\n",
            "10219\n",
            "9914412\n",
            "2993\n",
            "24756910\n",
            "6918097\n",
            "4534086\n",
            "73416445\n",
            "132928\n",
            "5281035\n",
            "121750\n",
            "9852185\n",
            "51000408\n",
            "73602827\n",
            "3499\n",
            "9809926\n",
            "41867\n",
            "6918837\n",
            "24858111\n",
            "33630\n",
            "2798\n",
            "441074\n",
            "4735\n",
            "3034034\n",
            "676352\n",
            "49855250\n",
            "154257\n",
            "24795070\n",
            "11978790\n",
            "439530\n",
            "6445562\n",
            "9829526\n",
            "5583\n",
            "446536\n",
            "46848036\n",
            "9549305\n",
            "25150857\n",
            "53315882\n",
            "6197\n",
            "51358113\n",
            "16007391\n",
            "9829836\n",
            "51031035\n",
            "452192\n",
            "30323\n",
            "11785878\n"
          ]
        }
      ]
    },
    {
      "cell_type": "code",
      "source": [
        "'''\n",
        "Next step is to download the ids biological test results csv files from pubchem website\n",
        "We tried to use the PUG API but it wasnt downloading the correct files so we did it manually\n",
        "'''\n",
        "\n",
        "#folder to save the csv files in:\n",
        "folder_path = '/content/drive/MyDrive/IDS_Target_Result'\n",
        "\n",
        "def fetch_bioassay_results(pubchem_ids, folder_path):\n",
        "    # Ensure the folder exists\n",
        "    os.makedirs(folder_path, exist_ok=True)\n",
        "    for cid in pubchem_ids:\n",
        "        # The url, using f-string formatting -> same for all the files\n",
        "        url = f\"https://pubchem.ncbi.nlm.nih.gov/sdq/sdqagent.cgi?infmt=json&outfmt=csv&query={{%22download%22:%22*%22,%22collection%22:%22bioactivity%22,%22order%22:[%22acvalue,asc%22],%22start%22:1,%22limit%22:10000000,%22downloadfilename%22:%22pubchem_cid_{cid}_bioactivity%22,%22nullatbottom%22:1,%22where%22:{{%22ands%22:[{{%22cid%22:%22{cid}%22}}]}}}}\"\n",
        "\n",
        "        # Send a GET request to the API\n",
        "        response = requests.get(url)\n",
        "\n",
        "        # Check if the request was successful\n",
        "        if response.status_code == 200:\n",
        "            # Define the file path\n",
        "            file_path = os.path.join(folder_path, f\"{cid}.csv\")\n",
        "            # Write the content to a CSV file\n",
        "            with open(file_path, 'wb') as file:\n",
        "                file.write(response.content)\n",
        "            print(f\"Bioassay data for CID {cid} has been downloaded and saved to {file_path}\")\n",
        "        else:\n",
        "            print(f\"Failed to retrieve bioassay data for CID {cid}. HTTP Status Code: {response.status_code}\")\n",
        "\n",
        "\n"
      ],
      "metadata": {
        "id": "zJ39h15r9cVd"
      },
      "execution_count": 43,
      "outputs": []
    },
    {
      "cell_type": "code",
      "source": [
        "#uncomment if you need to download the ids targets\n",
        "#fetch_bioassay_results(pubchem_ids , folder_path)"
      ],
      "metadata": {
        "id": "vHJoOjZTcO9y"
      },
      "execution_count": 44,
      "outputs": []
    },
    {
      "cell_type": "markdown",
      "source": [
        "#Now that we have all the csv files we should extract and create the dictionary for the new ids and targets."
      ],
      "metadata": {
        "id": "F7avUZDievt5"
      }
    },
    {
      "cell_type": "code",
      "source": [
        "#open csv and get the column names\n",
        "new_df = pd.read_csv('/content/drive/MyDrive/IDS_Target_Result/10219.csv')\n",
        "print(new_df.columns)"
      ],
      "metadata": {
        "id": "hSteAljbfVQX",
        "colab": {
          "base_uri": "https://localhost:8080/"
        },
        "outputId": "cca76114-b7c2-40f2-dca2-b41db7cac8ca"
      },
      "execution_count": 45,
      "outputs": [
        {
          "output_type": "stream",
          "name": "stdout",
          "text": [
            "Index([' baid', 'acvalue', 'aid', 'sid', 'cid', 'geneid', 'pmid', 'aidtype',\n",
            "       'aidmdate', 'hasdrc', 'rnai', 'activity', 'protacxn', 'acname',\n",
            "       'acqualifier', 'aidsrcname', 'aidname', 'cmpdname', 'targetname',\n",
            "       'targeturl', 'ecs', 'repacxn', 'taxid', 'cellids', 'targettaxid',\n",
            "       'anatomyid', 'anatomy', 'dois', 'pmcids', 'pclids', 'citations'],\n",
            "      dtype='object')\n"
          ]
        }
      ]
    },
    {
      "source": [
        "#create an empty dictionary\n",
        "bioessay_dict = {}\n",
        "\n",
        "#go through all the csv files in the folder, have the name of the file as key and the column 'targetname' as value\n",
        "for file in os.listdir(folder_path):\n",
        "  if file.endswith('.csv'):\n",
        "    file_path = os.path.join(folder_path , file)\n",
        "    df = pd.read_csv(file_path)\n",
        "    bioessay_dict[file] = df['targetname'].tolist()\n",
        ""
      ],
      "cell_type": "code",
      "metadata": {
        "id": "6mrkV2IDDFZf"
      },
      "execution_count": 46,
      "outputs": []
    },
    {
      "cell_type": "markdown",
      "source": [
        "#As shown here:\n",
        "3034034 pubchem id has many targets\n",
        "we may run into things like that but number of the unique elements are not much."
      ],
      "metadata": {
        "id": "ewUVzIL1oBiJ"
      }
    },
    {
      "cell_type": "code",
      "source": [
        "#give example from the bioessay_dict with the first entry\n",
        "print(list(bioessay_dict.items())[61])\n",
        "#check how many elements are there in the value which is a list\n",
        "print(len(list(bioessay_dict.values())[61]))\n",
        "#also drop the values that are similar only keep the unique ones in the list\n",
        "print(len(set(list(bioessay_dict.values())[61])))\n",
        "print(list(set(list(bioessay_dict.values())[61])))"
      ],
      "metadata": {
        "id": "IfXR13ZXhzkv",
        "outputId": "b6040b50-7e59-4c4b-ead1-642d9a082ed3",
        "colab": {
          "base_uri": "https://localhost:8080/"
        }
      },
      "execution_count": 54,
      "outputs": [
        {
          "output_type": "stream",
          "name": "stdout",
          "text": [
            "('30323.csv', ['PTPRC - protein tyrosine phosphatase receptor type C (human)', 'DRD1 - dopamine receptor D1 (human)', 'Nuclear receptor subfamily 3 group C member 3  (cattle)', 'Mapk10 - mitogen-activated protein kinase 10 (house mouse)', 'NPY2R - neuropeptide Y receptor Y2 (human)', 'PDE4B - phosphodiesterase 4B (human)', 'MMP1 - matrix metallopeptidase 1 (human)', 'HPGD - 15-hydroxyprostaglandin dehydrogenase (human)', 'fixJ - oxygen response regulator transcription factor FixJ (Burkholderia metallica)', 'SNCA - synuclein alpha (human)', 'ADRB2 - adrenoceptor beta 2 (human)', 'SMAD3 - SMAD family member 3 (human)', 'AGTR1 - angiotensin II receptor type 1 (human)', 'CNR1 - cannabinoid receptor 1 (human)', 'TERT - telomerase reverse transcriptase (human)', 'OPRD1 - opioid receptor delta 1 (human)', 'TACR2 - tachykinin receptor 2 (human)', 'IDH1 - isocitrate dehydrogenase (NADP(+)) 1 (human)', 'TSHR - thyroid stimulating hormone receptor (human)', 'Htr1b - 5-hydroxytryptamine receptor 1B (Norway rat)', 'PDE4D - phosphodiesterase 4D (human)', 'NPY1R - neuropeptide Y receptor Y1 (human)', 'Nucleoprotein (Lymphocytic choriomeningitis virus (strain Armstrong))', 'luciferase (Pennsylania firefly)', 'ID4 - inhibitor of DNA binding 4 (human)', 'Ptgs1 - prostaglandin-endoperoxide synthase 1 (Norway rat)', 'ADRB3 - adrenoceptor beta 3 (human)', 'tsaE - tRNA (adenosine(37)-N6)-threonylcarbamoyltransferase complex ATPase subunit type 1 TsaE (Shigella boydii)', 'UGT1A6 - UDP glucuronosyltransferase family 1 member A6 (human)', 'HMGCR - 3-hydroxy-3-methylglutaryl-CoA reductase (human)', 'Leishmania major', 'PDE5A - phosphodiesterase 5A (human)', 'fixJ - oxygen response regulator transcription factor FixJ (Burkholderia anthina)', 'ADRA2C - adrenoceptor alpha 2C (human)', 'ELANE - elastase, neutrophil expressed (human)', 'ABCC1 - ATP binding cassette subfamily C member 1 (ABCC1 blood group) (human)', 'HDAC11 - histone deacetylase 11 (human)', 'Chain A, Cruzipain (Trypanosoma cruzi)', 'CXCR2 - C-X-C motif chemokine receptor 2 (human)', 'RXFP1 - relaxin family peptide receptor 1 (human)', 'ABCC2 - ATP binding cassette subfamily C member 2 (human)', 'HDAC5 - histone deacetylase 5 (human)', 'CASP7 - caspase 7 (human)', 'Maob - monoamine oxidase B (house mouse)', 'CYP2C19 - cytochrome P450 family 2 subfamily C member 19 (human)', 'LCMVsSgp2 - nucleoprotein (Mammarenavirus choriomeningitidis)', 'Chain A, Ferritin light chain (horse)', 'ABCB1 - ATP binding cassette subfamily B member 1 (human)', 'Spike glycoprotein (Severe acute respiratory syndrome-related coronavirus)', 'LASVsSgp1 - nucleoprotein (Mammarenavirus lassaense)', 'CXCR1 - C-X-C motif chemokine receptor 1 (human)', 'Streptococcus pyogenes', 'Htr4 - 5-hydroxytryptamine receptor 4 (domestic guinea pig)', 'FYN - FYN proto-oncogene, Src family tyrosine kinase (human)', 'GALC - galactosylceramidase (human)', 'ALOX12 - arachidonate 12-lipoxygenase, 12S type (human)', 'TBXA2R - thromboxane A2 receptor (human)', 'D1Y31_gp1 - polyprotein (Foot-and-mouth disease virus O)', 'GPX4 - glutathione peroxidase 4 (human)', 'ERBB2 - erb-b2 receptor tyrosine kinase 2 (human)', 'Plasmodium falciparum (malaria parasite P. falciparum)', 'Chain B, HADH2 protein (human)', 'CIB1 - calcium and integrin binding 1 (human)', 'fixJ - oxygen response regulator transcription factor FixJ (Burkholderia orbicola MC0-3)', 'MEN1 - menin 1 (human)', 'EDNRA - endothelin receptor type A (human)', 'KCNH2 - potassium voltage-gated channel subfamily H member 2 (human)', 'NSD2 - nuclear receptor binding SET domain protein 2 (human)', 'CYP3A7 - cytochrome P450 family 3 subfamily A member 7 (human)', 'MLNR - motilin receptor (human)', 'GBA1 - glucosylceramidase beta 1 (human)', 'NTMT1 - N-terminal Xaa-Pro-Lys N-methyltransferase 1 (human)', 'PPARD - peroxisome proliferator activated receptor delta (human)', 'USP1 - ubiquitin specific peptidase 1 (human)', 'CYP1A2 - cytochrome P450 family 1 subfamily A member 2 (human)', 'Plasmodium berghei', 'PTGS2 - prostaglandin-endoperoxide synthase 2 (human)', 'HTR3A - 5-hydroxytryptamine receptor 3A (human)', 'UL50 - nuclear egress membrane protein (Human betaherpesvirus 5)', 'CYP3A4 - cytochrome P450 family 3 subfamily A member 4 (human)', 'AVPR1A - arginine vasopressin receptor 1A (human)', 'TRHR - thyrotropin releasing hormone receptor (human)', 'Tb927.3.3270 - ATP-dependent phosphofructokinase (Trypanosoma brucei brucei TREU927)', 'HTR2C - 5-hydroxytryptamine receptor 2C (human)', 'AHR - aryl hydrocarbon receptor (human)', 'ADRB1 - adrenoceptor beta 1 (human)', 'PRSS1 - serine protease 1 (human)', 'POLK - DNA polymerase kappa (human)', 'GNRHR - gonadotropin releasing hormone receptor (human)', 'lethal factor (plasmid) (Bacillus anthracis str. A2012)', 'ALOX15 - arachidonate 15-lipoxygenase (rabbit)', 'SLC6A4 - solute carrier family 6 member 4 (human)', 'LOC116160065 - luciferin 4-monooxygenase (common eastern firefly)', 'PPM1D - protein phosphatase, Mg2+/Mn2+ dependent 1D (human)', 'CELA1 - chymotrypsin like elastase 1 (pig)', 'MC5R - melanocortin 5 receptor (human)', 'endonuclease IV (Escherichia coli)', 'BDKRB2 - bradykinin receptor B2 (human)', 'Adra1a - adrenoceptor alpha 1A (Norway rat)', 'AR - androgen receptor (human)', 'RUNX1 - RUNX family transcription factor 1 (human)', 'NFKB1 - nuclear factor kappa B subunit 1 (human)', 'Escherichia coli', 'Nos1 - nitric oxide synthase 1 (Norway rat)', 'GLI3 - GLI family zinc finger 3 (human)', 'GNAI1 - G protein subunit alpha i1 (human)', 'CTSG - cathepsin G (human)', 'Dhfr - dihydrofolate reductase (house mouse)', 'NR1I3 - nuclear receptor subfamily 1 group I member 3 (human)', 'phosphopantetheinyl transferase (Bacillus subtilis)', 'ADRA2B - adrenoceptor alpha 2B (human)', 'Chain A, BCL-2-RELATED PROTEIN A1 (human)', 'Leishmania tropica', 'CCR5 - C-C motif chemokine receptor 5 (human)', 'GPR32 - G protein-coupled receptor 32 (human)', 'NR3C1 - nuclear receptor subfamily 3 group C member 1 (human)', 'CALCR - calcitonin receptor (human)', 'fixJ - oxygen response regulator transcription factor FixJ (Burkholderia pyrrocinia)', 'Glra3 - glycine receptor, alpha 3 (Norway rat)', 'CBFB - core-binding factor subunit beta (human)', 'TP53 - tumor protein p53 (human)', 'BLM - BLM RecQ like helicase (human)', 'fixJ - oxygen response regulator transcription factor FixJ (Burkholderia stabilis)', 'hypothetical protein G057_19877 (Klebsiella pneumoniae hvKP1)', 'UGT1A1 - UDP glucuronosyltransferase family 1 member A1 (human)', 'YAP1 - Yes1 associated transcriptional regulator (human)', 'Casp3 - caspase 3 (Chinese hamster)', 'Impa1 - inositol monophosphatase 1 (Norway rat)', 'Rorc - RAR-related orphan receptor gamma (house mouse)', 'CHRM2 - cholinergic receptor muscarinic 2 (human)', 'DRD4 - dopamine receptor D4 (human)', 'Salmonella enterica subsp. enterica serovar Typhimurium', 'PI4K2A - phosphatidylinositol 4-kinase type 2 alpha (human)', 'Homo sapiens (human)', 'HTT - huntingtin (human)', 'SLC6A3 - solute carrier family 6 member 3 (human)', nan, 'hypothetical protein, conserved (Trypanosoma brucei)', 'HRH3 - histamine receptor H3 (human)', 'Abcc1 - ATP-binding cassette, sub-family C member 1 (house mouse)', 'HSPB1 - heat shock protein family B (small) member 1 (human)', 'MAPK1 - mitogen-activated protein kinase 1 (human)', 'ADRA2A - adrenoceptor alpha 2A (human)', 'Htr1a - 5-hydroxytryptamine receptor 1A (Norway rat)', 'HDAC9 - histone deacetylase 9 (human)', 'CHRNA4 - cholinergic receptor nicotinic alpha 4 subunit (human)', 'thioredoxin peroxidase (Schistosoma mansoni)', 'CCR2 - C-C motif chemokine receptor 2 (human)', 'NR1H4 - nuclear receptor subfamily 1 group H member 4 (human)', 'Chain A, HADH2 protein (human)', 'Casp7 - caspase 7 (Chinese hamster)', \"Saccharomyces cerevisiae (baker's yeast)\", 'shiga toxin 1 B subunit (Escherichia coli O157:H7)', 'ABCG2 - ATP binding cassette subfamily G member 2 (JR blood group) (human)', 'PGR - progesterone receptor (human)', 'CASP1 - caspase 1 (human)', 'Adra1b - adrenoceptor alpha 1B (Norway rat)', 'S - spike glycoprotein (SARS coronavirus Tor2)', 'CCDC88A - coiled-coil domain containing 88A (human)', 'fixJ - oxygen response regulator transcription factor FixJ (Burkholderia seminalis)', 'Slc22a2 - solute carrier family 22 member 2 (Norway rat)', 'MAPK14 - mitogen-activated protein kinase 14 (human)', 'ESR1 - estrogen receptor 1 (human)', 'AVPR2 - arginine vasopressin receptor 2 (human)', 'HRH1 - histamine receptor H1 (human)', 'Rattus norvegicus (Norway rat)', 'Gnai3 - G protein subunit alpha i3 (Norway rat)', 'AGTR2 - angiotensin II receptor type 2 (human)', 'NR1I2 - nuclear receptor subfamily 1 group I member 2 (human)', 'GMNN - geminin DNA replication inhibitor (human)', 'MAPT - microtubule associated protein tau (human)', 'HDAC10 - histone deacetylase 10 (human)', 'Chain A, TYROSYL-DNA PHOSPHODIESTERASE (human)', 'Chain A, 2-oxoglutarate Oxygenase (human)', 'ATXN2 - ataxin 2 (human)', 'CYP2C9 - cytochrome P450 family 2 subfamily C member 9 (human)', 'Abcb1a - ATP-binding cassette, sub-family B member 1A (house mouse)', 'RARA - retinoic acid receptor alpha (human)', 'shiga toxin 1 variant A subunit (Escherichia coli O157:H7)', 'Pmp22 - peripheral myelin protein 22 (Norway rat)', 'CFTR - CF transmembrane conductance regulator (human)', 'HDAC4 - histone deacetylase 4 (human)', 'PTAFR - platelet activating factor receptor (human)', 'KAT2A - lysine acetyltransferase 2A (human)', 'TBXAS1 - thromboxane A synthase 1 (human)', 'Cacna1c - calcium voltage-gated channel subunit alpha1 C (Norway rat)', 'priA (Klebsiella pneumoniae)', 'DRD2 - dopamine receptor D2 (human)', 'MC3R - melanocortin 3 receptor (human)', 'SLC6A2 - solute carrier family 6 member 2 (human)', 'ACE - angiotensin I converting enzyme (rabbit)', 'HLA-B - major histocompatibility complex, class I, B (human)', 'ALDH1A1 - aldehyde dehydrogenase 1 family member A1 (human)', 'HRH2 - histamine receptor H2 (human)', 'LMNA - lamin A/C (human)', 'CHRM5 - cholinergic receptor muscarinic 5 (human)', 'RGS4 - regulator of G protein signaling 4 (human)', 'TOR1A - torsin family 1 member A (human)', 'HDAC7 - histone deacetylase 7 (human)', 'HDAC6 - histone deacetylase 6 (human)', 'Abcb1b - ATP-binding cassette, sub-family B member 1B (house mouse)', 'Bacillus subtilis', 'CYP2D6 - cytochrome P450 family 2 subfamily D member 6 (gene/pseudogene) (human)', 'CYP2E1 - cytochrome P450 family 2 subfamily E member 1 (human)', 'ALOX15B - arachidonate 15-lipoxygenase type B (human)', 'LASVsLgp1 - Z protein (Mammarenavirus lassaense)', 'ADORA1 - adenosine A1 receptor (human)', 'CA2 - carbonic anhydrase 2 (human)', 'ADORA3 - adenosine A3 receptor (human)', 'UGT1A9 - UDP glucuronosyltransferase family 1 member A9 (human)', 'MMP2 - matrix metallopeptidase 2 (human)', 'EZH2 - enhancer of zeste 2 polycomb repressive complex 2 subunit (human)', 'AKR1A1 - aldo-keto reductase family 1 member A1 (human)', 'Mus musculus (house mouse)', 'KISS1R - KISS1 receptor (human)', 'fixJ - oxygen response regulator transcription factor FixJ (Burkholderia cenocepacia)', 'RGS12 - regulator of G protein signaling 12 (human)', 'CYP19A1 - cytochrome P450 family 19 subfamily A member 1 (human)', 'DRD3 - dopamine receptor D3 (human)', 'ABCB11 - ATP binding cassette subfamily B member 11 (human)', 'CCKAR - cholecystokinin A receptor (human)', 'HIF1A - hypoxia inducible factor 1 subunit alpha (human)', 'Chain A, Calcium and integrin-binding protein 1 (human)', 'PDE3A - phosphodiesterase 3A (human)', 'Insr - insulin receptor (Norway rat)', 'Cgas - cyclic GMP-AMP synthase (house mouse)', 'RAPGEF3 - Rap guanine nucleotide exchange factor 3 (human)', 'GLP1R - glucagon like peptide 1 receptor (human)', 'EGFR - epidermal growth factor receptor (human)', 'Bacillus cereus', 'GPT2 - glutamic--pyruvic transaminase 2 (human)', 'Maoa - monoamine oxidase A (house mouse)', 'IFNB1 - interferon beta 1 (human)', 'GAA - alpha glucosidase (human)', 'TACR1 - tachykinin receptor 1 (human)', 'CYSLTR1 - cysteinyl leukotriene receptor 1 (human)', 'NFKBIA - NFKB inhibitor alpha (human)', 'HDAC3 - histone deacetylase 3 (human)', 'Ar - androgen receptor (Norway rat)', 'fixJ - oxygen response regulator transcription factor FixJ (Burkholderia territorii)', 'ESR2 - estrogen receptor 2 (human)', 'Corynebacterium diphtheriae', 'Chain A, ATP-DEPENDENT DNA HELICASE Q1 (human)', 'SMAD2 - SMAD family member 2 (human)', 'MAPK3 - mitogen-activated protein kinase 3 (human)', 'APOBEC3G - apolipoprotein B mRNA editing enzyme catalytic subunit 3G (human)', 'HTR6 - 5-hydroxytryptamine receptor 6 (human)', 'VDR - vitamin D receptor (human)', 'Abcb11 - ATP-binding cassette, sub-family B member 11 (house mouse)', 'TOP2A - DNA topoisomerase II alpha (human)', 'NFE2L2 - NFE2 like bZIP transcription factor 2 (human)', 'Gabra1 - gamma-aminobutyric acid type A receptor subunit alpha 1 (Norway rat)', 'GLS - glutaminase (human)', 'CASP3 - caspase 3 (human)', 'CHRM1 - cholinergic receptor muscarinic 1 (human)', 'CGAS - cyclic GMP-AMP synthase (human)', 'Severe acute respiratory syndrome coronavirus 2', 'HDAC8 - histone deacetylase 8 (human)', 'FLT1 - fms related receptor tyrosine kinase 1 (human)', 'THRB - thyroid hormone receptor beta (human)', 'CELA2A - chymotrypsin-like elastase family, member 2A (pig)', 'GAPDH - glyceraldehyde-3-phosphate dehydrogenase (human)', 'ALOX15 - arachidonate 15-lipoxygenase (human)', 'SIGMAR1 - sigma non-opioid intracellular receptor 1 (human)', 'oxygen sensor histidine kinase FixL (Burkholderia dolosa)', 'GLA - galactosidase alpha (human)', 'Staphylococcus epidermidis', 'VIPR1 - vasoactive intestinal peptide receptor 1 (human)', 'Chain A, Putative fructose-1,6-bisphosphate aldolase (Giardia intestinalis)', 'MC4R - melanocortin 4 receptor (human)', 'Glra2 - glycine receptor, alpha 2 (Norway rat)', 'Chain A, Beta-lactamase (Escherichia coli K-12)', 'S - surface glycoprotein (Severe acute respiratory syndrome coronavirus 2)', 'Grin1 - glutamate ionotropic receptor NMDA type subunit 1 (Norway rat)', 'RXRA - retinoid X receptor alpha (human)', 'Chain A, MAJOR APURINIC/APYRIMIDINIC ENDONUCLEASE (human)', 'LOC100757539 - histone H2AX (Chinese hamster)', 'TDP1 - tyrosyl-DNA phosphodiesterase 1 (human)', 'GPR151 - G protein-coupled receptor 151 (human)', 'SLC29A1 - solute carrier family 29 member 1 (Augustine blood group) (human)', 'Human herpesvirus 5 strain AD169', 'MAOA - monoamine oxidase A (human)', 'Genome polyprotein (Foot-and-mouth disease virus (strain A12))', 'FH - fumarate hydratase (human)', 'IFNG - interferon gamma (human)', 'HDAC2 - histone deacetylase 2 (human)', 'IP6K1 - inositol hexakisphosphate kinase 1 (human)', 'TOP1 - DNA topoisomerase I (human)', 'Staphylococcus aureus', 'ssb (Klebsiella pneumoniae)', 'OPRK1 - opioid receptor kappa 1 (human)', 'ESRRA - estrogen related receptor alpha (human)', 'ACHE - acetylcholinesterase (Yt blood group) (human)', 'Burkholderia multivorans', 'HTR2A - 5-hydroxytryptamine receptor 2A (human)', 'GHSR - growth hormone secretagogue receptor (human)', 'ADRA1D - adrenoceptor alpha 1D (human)', 'ATAD5 - ATPase family AAA domain containing 5 (human)', 'HTR2B - 5-hydroxytryptamine receptor 2B (human)', 'GPX1 - glutathione peroxidase 1 (human)', 'OPRM1 - opioid receptor mu 1 (human)', 'Reverse transcriptase/RNaseH  (Human immunodeficiency virus 1)', 'TTR - transthyretin (human)', 'fixJ - oxygen response regulator transcription factor FixJ (Burkholderia cepacia)', 'CHRM4 - cholinergic receptor muscarinic 4 (human)', 'Nr1i2 - nuclear receptor subfamily 1, group I, member 2 (Norway rat)', 'LCK - LCK proto-oncogene, Src family tyrosine kinase (human)', 'CYP2A6 - cytochrome P450 family 2 subfamily A member 6 (human)', 'CCKBR - cholecystokinin B receptor (human)', 'KMT2A - lysine methyltransferase 2A (human)', 'MITF - melanocyte inducing transcription factor (human)', 'CBR1 - carbonyl reductase 1 (human)', 'tsaE - N(6)-L-threonylcarbamoyladenine synthase, TsaE subunit (Escherichia coli str. K-12 substr. MG1655)', 'CHRM3 - cholinergic receptor muscarinic 3 (human)', 'MULTISPECIES: oxygen response regulator transcription factor FixJ (Burkholderia)', 'MMP9 - matrix metallopeptidase 9 (human)', 'Nos2 - nitric oxide synthase 2, inducible (house mouse)', 'RAPGEF4 - Rap guanine nucleotide exchange factor 4 (human)', 'PPP3CA - protein phosphatase 3 catalytic subunit alpha (human)', 'ATF6 - activating transcription factor 6 (human)', 'ORF1ab - ORF1a polyprotein;ORF1ab polyprotein (Severe acute respiratory syndrome coronavirus 2)', 'fixJ - oxygen response regulator transcription factor FixJ (Burkholderia lata)', 'Thrb - thyroid hormone receptor beta (Norway rat)', 'ND4 - NADH dehydrogenase subunit 4 (human)', 'STK33 - serine/threonine kinase 33 (human)', 'Akr1b1 - aldo-keto reductase family 1 member B1 (Norway rat)', 'PRKCA - protein kinase C alpha (human)', 'Glrb - glycine receptor, beta (Norway rat)', 'heat shock 70kDa protein 5 (glucose-regulated protein, 78kDa) (human)', 'UL53 - nuclear egress lamina protein (Human betaherpesvirus 5)', 'PPARG - peroxisome proliferator activated receptor gamma (human)', 'HDAC1 - histone deacetylase 1 (human)', 'PTGS1 - prostaglandin-endoperoxide synthase 1 (human)', 'cyclic AMP receptor protein (Vibrio cholerae O1 biovar El Tor str. N16961)', 'ABCC6 - ATP binding cassette subfamily C member 6 (human)', 'CCR4 - C-C motif chemokine receptor 4 (human)', 'euchromatic histone-lysine N-methyltransferase 2 (human)', 'JUN - Jun proto-oncogene, AP-1 transcription factor subunit (human)', 'Abcb1b - ATP-binding cassette, sub-family B member 1B (Norway rat)', 'ADORA2A - adenosine A2a receptor (human)', 'fixJ - oxygen response regulator transcription factor FixJ (Burkholderia ubonensis subsp. mesacidophila)', 'Glra1 - glycine receptor, alpha 1 (Norway rat)', 'Chain A, Breast cancer type 1 susceptibility protein (human)'])\n",
            "343\n",
            "343\n",
            "['PTPRC - protein tyrosine phosphatase receptor type C (human)', 'DRD1 - dopamine receptor D1 (human)', 'Nuclear receptor subfamily 3 group C member 3  (cattle)', 'Mapk10 - mitogen-activated protein kinase 10 (house mouse)', 'NPY2R - neuropeptide Y receptor Y2 (human)', 'PDE4B - phosphodiesterase 4B (human)', 'MMP1 - matrix metallopeptidase 1 (human)', 'HPGD - 15-hydroxyprostaglandin dehydrogenase (human)', 'fixJ - oxygen response regulator transcription factor FixJ (Burkholderia metallica)', 'SNCA - synuclein alpha (human)', 'ADRB2 - adrenoceptor beta 2 (human)', 'SMAD3 - SMAD family member 3 (human)', 'AGTR1 - angiotensin II receptor type 1 (human)', 'CNR1 - cannabinoid receptor 1 (human)', 'TERT - telomerase reverse transcriptase (human)', 'OPRD1 - opioid receptor delta 1 (human)', 'TACR2 - tachykinin receptor 2 (human)', 'IDH1 - isocitrate dehydrogenase (NADP(+)) 1 (human)', 'Htr1b - 5-hydroxytryptamine receptor 1B (Norway rat)', 'TSHR - thyroid stimulating hormone receptor (human)', 'PDE4D - phosphodiesterase 4D (human)', 'NPY1R - neuropeptide Y receptor Y1 (human)', 'Nucleoprotein (Lymphocytic choriomeningitis virus (strain Armstrong))', 'luciferase (Pennsylania firefly)', 'ID4 - inhibitor of DNA binding 4 (human)', 'Ptgs1 - prostaglandin-endoperoxide synthase 1 (Norway rat)', 'ADRB3 - adrenoceptor beta 3 (human)', 'tsaE - tRNA (adenosine(37)-N6)-threonylcarbamoyltransferase complex ATPase subunit type 1 TsaE (Shigella boydii)', 'UGT1A6 - UDP glucuronosyltransferase family 1 member A6 (human)', 'HMGCR - 3-hydroxy-3-methylglutaryl-CoA reductase (human)', 'Leishmania major', 'PDE5A - phosphodiesterase 5A (human)', 'fixJ - oxygen response regulator transcription factor FixJ (Burkholderia anthina)', 'ADRA2C - adrenoceptor alpha 2C (human)', 'ELANE - elastase, neutrophil expressed (human)', 'ABCC1 - ATP binding cassette subfamily C member 1 (ABCC1 blood group) (human)', 'HDAC11 - histone deacetylase 11 (human)', 'Chain A, Cruzipain (Trypanosoma cruzi)', 'CXCR2 - C-X-C motif chemokine receptor 2 (human)', 'RXFP1 - relaxin family peptide receptor 1 (human)', 'ABCC2 - ATP binding cassette subfamily C member 2 (human)', 'HDAC5 - histone deacetylase 5 (human)', 'CASP7 - caspase 7 (human)', 'Maob - monoamine oxidase B (house mouse)', 'CYP2C19 - cytochrome P450 family 2 subfamily C member 19 (human)', 'LCMVsSgp2 - nucleoprotein (Mammarenavirus choriomeningitidis)', 'Chain A, Ferritin light chain (horse)', 'ABCB1 - ATP binding cassette subfamily B member 1 (human)', 'Spike glycoprotein (Severe acute respiratory syndrome-related coronavirus)', 'LASVsSgp1 - nucleoprotein (Mammarenavirus lassaense)', 'CXCR1 - C-X-C motif chemokine receptor 1 (human)', 'Streptococcus pyogenes', 'Htr4 - 5-hydroxytryptamine receptor 4 (domestic guinea pig)', 'FYN - FYN proto-oncogene, Src family tyrosine kinase (human)', 'GALC - galactosylceramidase (human)', 'ALOX12 - arachidonate 12-lipoxygenase, 12S type (human)', 'TBXA2R - thromboxane A2 receptor (human)', 'D1Y31_gp1 - polyprotein (Foot-and-mouth disease virus O)', 'GPX4 - glutathione peroxidase 4 (human)', 'ERBB2 - erb-b2 receptor tyrosine kinase 2 (human)', 'Plasmodium falciparum (malaria parasite P. falciparum)', 'Chain B, HADH2 protein (human)', 'CIB1 - calcium and integrin binding 1 (human)', 'fixJ - oxygen response regulator transcription factor FixJ (Burkholderia orbicola MC0-3)', 'MEN1 - menin 1 (human)', 'EDNRA - endothelin receptor type A (human)', 'KCNH2 - potassium voltage-gated channel subfamily H member 2 (human)', 'NSD2 - nuclear receptor binding SET domain protein 2 (human)', 'CYP3A7 - cytochrome P450 family 3 subfamily A member 7 (human)', 'MLNR - motilin receptor (human)', 'GBA1 - glucosylceramidase beta 1 (human)', 'NTMT1 - N-terminal Xaa-Pro-Lys N-methyltransferase 1 (human)', 'PPARD - peroxisome proliferator activated receptor delta (human)', 'USP1 - ubiquitin specific peptidase 1 (human)', 'CYP1A2 - cytochrome P450 family 1 subfamily A member 2 (human)', 'Plasmodium berghei', 'PTGS2 - prostaglandin-endoperoxide synthase 2 (human)', 'HTR3A - 5-hydroxytryptamine receptor 3A (human)', 'UL50 - nuclear egress membrane protein (Human betaherpesvirus 5)', 'CYP3A4 - cytochrome P450 family 3 subfamily A member 4 (human)', 'AVPR1A - arginine vasopressin receptor 1A (human)', 'TRHR - thyrotropin releasing hormone receptor (human)', 'Tb927.3.3270 - ATP-dependent phosphofructokinase (Trypanosoma brucei brucei TREU927)', 'HTR2C - 5-hydroxytryptamine receptor 2C (human)', 'AHR - aryl hydrocarbon receptor (human)', 'ADRB1 - adrenoceptor beta 1 (human)', 'PRSS1 - serine protease 1 (human)', 'POLK - DNA polymerase kappa (human)', 'GNRHR - gonadotropin releasing hormone receptor (human)', 'lethal factor (plasmid) (Bacillus anthracis str. A2012)', 'ALOX15 - arachidonate 15-lipoxygenase (rabbit)', 'SLC6A4 - solute carrier family 6 member 4 (human)', 'LOC116160065 - luciferin 4-monooxygenase (common eastern firefly)', 'PPM1D - protein phosphatase, Mg2+/Mn2+ dependent 1D (human)', 'CELA1 - chymotrypsin like elastase 1 (pig)', 'MC5R - melanocortin 5 receptor (human)', 'endonuclease IV (Escherichia coli)', 'BDKRB2 - bradykinin receptor B2 (human)', 'Adra1a - adrenoceptor alpha 1A (Norway rat)', 'AR - androgen receptor (human)', 'RUNX1 - RUNX family transcription factor 1 (human)', 'NFKB1 - nuclear factor kappa B subunit 1 (human)', 'Escherichia coli', 'Nos1 - nitric oxide synthase 1 (Norway rat)', 'GLI3 - GLI family zinc finger 3 (human)', 'GNAI1 - G protein subunit alpha i1 (human)', 'CTSG - cathepsin G (human)', 'Dhfr - dihydrofolate reductase (house mouse)', 'NR1I3 - nuclear receptor subfamily 1 group I member 3 (human)', 'phosphopantetheinyl transferase (Bacillus subtilis)', 'ADRA2B - adrenoceptor alpha 2B (human)', 'Chain A, BCL-2-RELATED PROTEIN A1 (human)', 'Leishmania tropica', 'CCR5 - C-C motif chemokine receptor 5 (human)', 'GPR32 - G protein-coupled receptor 32 (human)', 'NR3C1 - nuclear receptor subfamily 3 group C member 1 (human)', 'CALCR - calcitonin receptor (human)', 'fixJ - oxygen response regulator transcription factor FixJ (Burkholderia pyrrocinia)', 'Glra3 - glycine receptor, alpha 3 (Norway rat)', 'CBFB - core-binding factor subunit beta (human)', 'TP53 - tumor protein p53 (human)', 'BLM - BLM RecQ like helicase (human)', 'fixJ - oxygen response regulator transcription factor FixJ (Burkholderia stabilis)', 'hypothetical protein G057_19877 (Klebsiella pneumoniae hvKP1)', 'UGT1A1 - UDP glucuronosyltransferase family 1 member A1 (human)', 'YAP1 - Yes1 associated transcriptional regulator (human)', 'Casp3 - caspase 3 (Chinese hamster)', 'Impa1 - inositol monophosphatase 1 (Norway rat)', 'Rorc - RAR-related orphan receptor gamma (house mouse)', 'CHRM2 - cholinergic receptor muscarinic 2 (human)', 'DRD4 - dopamine receptor D4 (human)', 'Salmonella enterica subsp. enterica serovar Typhimurium', 'PI4K2A - phosphatidylinositol 4-kinase type 2 alpha (human)', 'Homo sapiens (human)', 'HTT - huntingtin (human)', 'SLC6A3 - solute carrier family 6 member 3 (human)', nan, 'hypothetical protein, conserved (Trypanosoma brucei)', 'HRH3 - histamine receptor H3 (human)', 'Abcc1 - ATP-binding cassette, sub-family C member 1 (house mouse)', 'HSPB1 - heat shock protein family B (small) member 1 (human)', 'MAPK1 - mitogen-activated protein kinase 1 (human)', 'ADRA2A - adrenoceptor alpha 2A (human)', 'Htr1a - 5-hydroxytryptamine receptor 1A (Norway rat)', 'HDAC9 - histone deacetylase 9 (human)', 'CHRNA4 - cholinergic receptor nicotinic alpha 4 subunit (human)', 'thioredoxin peroxidase (Schistosoma mansoni)', 'CCR2 - C-C motif chemokine receptor 2 (human)', 'NR1H4 - nuclear receptor subfamily 1 group H member 4 (human)', 'Chain A, HADH2 protein (human)', 'Casp7 - caspase 7 (Chinese hamster)', \"Saccharomyces cerevisiae (baker's yeast)\", 'shiga toxin 1 B subunit (Escherichia coli O157:H7)', 'ABCG2 - ATP binding cassette subfamily G member 2 (JR blood group) (human)', 'PGR - progesterone receptor (human)', 'CASP1 - caspase 1 (human)', 'Adra1b - adrenoceptor alpha 1B (Norway rat)', 'S - spike glycoprotein (SARS coronavirus Tor2)', 'CCDC88A - coiled-coil domain containing 88A (human)', 'fixJ - oxygen response regulator transcription factor FixJ (Burkholderia seminalis)', 'Slc22a2 - solute carrier family 22 member 2 (Norway rat)', 'MAPK14 - mitogen-activated protein kinase 14 (human)', 'ESR1 - estrogen receptor 1 (human)', 'AVPR2 - arginine vasopressin receptor 2 (human)', 'HRH1 - histamine receptor H1 (human)', 'Rattus norvegicus (Norway rat)', 'Gnai3 - G protein subunit alpha i3 (Norway rat)', 'AGTR2 - angiotensin II receptor type 2 (human)', 'NR1I2 - nuclear receptor subfamily 1 group I member 2 (human)', 'GMNN - geminin DNA replication inhibitor (human)', 'MAPT - microtubule associated protein tau (human)', 'HDAC10 - histone deacetylase 10 (human)', 'Chain A, TYROSYL-DNA PHOSPHODIESTERASE (human)', 'Chain A, 2-oxoglutarate Oxygenase (human)', 'ATXN2 - ataxin 2 (human)', 'CYP2C9 - cytochrome P450 family 2 subfamily C member 9 (human)', 'Abcb1a - ATP-binding cassette, sub-family B member 1A (house mouse)', 'RARA - retinoic acid receptor alpha (human)', 'shiga toxin 1 variant A subunit (Escherichia coli O157:H7)', 'Pmp22 - peripheral myelin protein 22 (Norway rat)', 'CFTR - CF transmembrane conductance regulator (human)', 'HDAC4 - histone deacetylase 4 (human)', 'PTAFR - platelet activating factor receptor (human)', 'KAT2A - lysine acetyltransferase 2A (human)', 'TBXAS1 - thromboxane A synthase 1 (human)', 'Cacna1c - calcium voltage-gated channel subunit alpha1 C (Norway rat)', 'priA (Klebsiella pneumoniae)', 'DRD2 - dopamine receptor D2 (human)', 'MC3R - melanocortin 3 receptor (human)', 'SLC6A2 - solute carrier family 6 member 2 (human)', 'ACE - angiotensin I converting enzyme (rabbit)', 'HLA-B - major histocompatibility complex, class I, B (human)', 'ALDH1A1 - aldehyde dehydrogenase 1 family member A1 (human)', 'HRH2 - histamine receptor H2 (human)', 'LMNA - lamin A/C (human)', 'CHRM5 - cholinergic receptor muscarinic 5 (human)', 'RGS4 - regulator of G protein signaling 4 (human)', 'TOR1A - torsin family 1 member A (human)', 'HDAC7 - histone deacetylase 7 (human)', 'HDAC6 - histone deacetylase 6 (human)', 'Abcb1b - ATP-binding cassette, sub-family B member 1B (house mouse)', 'Bacillus subtilis', 'CYP2D6 - cytochrome P450 family 2 subfamily D member 6 (gene/pseudogene) (human)', 'CYP2E1 - cytochrome P450 family 2 subfamily E member 1 (human)', 'ALOX15B - arachidonate 15-lipoxygenase type B (human)', 'LASVsLgp1 - Z protein (Mammarenavirus lassaense)', 'ADORA1 - adenosine A1 receptor (human)', 'CA2 - carbonic anhydrase 2 (human)', 'ADORA3 - adenosine A3 receptor (human)', 'UGT1A9 - UDP glucuronosyltransferase family 1 member A9 (human)', 'MMP2 - matrix metallopeptidase 2 (human)', 'EZH2 - enhancer of zeste 2 polycomb repressive complex 2 subunit (human)', 'AKR1A1 - aldo-keto reductase family 1 member A1 (human)', 'Mus musculus (house mouse)', 'KISS1R - KISS1 receptor (human)', 'fixJ - oxygen response regulator transcription factor FixJ (Burkholderia cenocepacia)', 'RGS12 - regulator of G protein signaling 12 (human)', 'CYP19A1 - cytochrome P450 family 19 subfamily A member 1 (human)', 'DRD3 - dopamine receptor D3 (human)', 'ABCB11 - ATP binding cassette subfamily B member 11 (human)', 'CCKAR - cholecystokinin A receptor (human)', 'HIF1A - hypoxia inducible factor 1 subunit alpha (human)', 'Chain A, Calcium and integrin-binding protein 1 (human)', 'PDE3A - phosphodiesterase 3A (human)', 'Insr - insulin receptor (Norway rat)', 'Cgas - cyclic GMP-AMP synthase (house mouse)', 'RAPGEF3 - Rap guanine nucleotide exchange factor 3 (human)', 'GLP1R - glucagon like peptide 1 receptor (human)', 'EGFR - epidermal growth factor receptor (human)', 'Bacillus cereus', 'GPT2 - glutamic--pyruvic transaminase 2 (human)', 'Maoa - monoamine oxidase A (house mouse)', 'IFNB1 - interferon beta 1 (human)', 'GAA - alpha glucosidase (human)', 'TACR1 - tachykinin receptor 1 (human)', 'CYSLTR1 - cysteinyl leukotriene receptor 1 (human)', 'NFKBIA - NFKB inhibitor alpha (human)', 'HDAC3 - histone deacetylase 3 (human)', 'Ar - androgen receptor (Norway rat)', 'fixJ - oxygen response regulator transcription factor FixJ (Burkholderia territorii)', 'ESR2 - estrogen receptor 2 (human)', 'Corynebacterium diphtheriae', 'Chain A, ATP-DEPENDENT DNA HELICASE Q1 (human)', 'SMAD2 - SMAD family member 2 (human)', 'MAPK3 - mitogen-activated protein kinase 3 (human)', 'APOBEC3G - apolipoprotein B mRNA editing enzyme catalytic subunit 3G (human)', 'HTR6 - 5-hydroxytryptamine receptor 6 (human)', 'VDR - vitamin D receptor (human)', 'Abcb11 - ATP-binding cassette, sub-family B member 11 (house mouse)', 'TOP2A - DNA topoisomerase II alpha (human)', 'NFE2L2 - NFE2 like bZIP transcription factor 2 (human)', 'Gabra1 - gamma-aminobutyric acid type A receptor subunit alpha 1 (Norway rat)', 'GLS - glutaminase (human)', 'CASP3 - caspase 3 (human)', 'CHRM1 - cholinergic receptor muscarinic 1 (human)', 'CGAS - cyclic GMP-AMP synthase (human)', 'Severe acute respiratory syndrome coronavirus 2', 'HDAC8 - histone deacetylase 8 (human)', 'FLT1 - fms related receptor tyrosine kinase 1 (human)', 'THRB - thyroid hormone receptor beta (human)', 'CELA2A - chymotrypsin-like elastase family, member 2A (pig)', 'GAPDH - glyceraldehyde-3-phosphate dehydrogenase (human)', 'ALOX15 - arachidonate 15-lipoxygenase (human)', 'SIGMAR1 - sigma non-opioid intracellular receptor 1 (human)', 'oxygen sensor histidine kinase FixL (Burkholderia dolosa)', 'GLA - galactosidase alpha (human)', 'Staphylococcus epidermidis', 'VIPR1 - vasoactive intestinal peptide receptor 1 (human)', 'Chain A, Putative fructose-1,6-bisphosphate aldolase (Giardia intestinalis)', 'MC4R - melanocortin 4 receptor (human)', 'Glra2 - glycine receptor, alpha 2 (Norway rat)', 'Chain A, Beta-lactamase (Escherichia coli K-12)', 'S - surface glycoprotein (Severe acute respiratory syndrome coronavirus 2)', 'Grin1 - glutamate ionotropic receptor NMDA type subunit 1 (Norway rat)', 'RXRA - retinoid X receptor alpha (human)', 'Chain A, MAJOR APURINIC/APYRIMIDINIC ENDONUCLEASE (human)', 'LOC100757539 - histone H2AX (Chinese hamster)', 'TDP1 - tyrosyl-DNA phosphodiesterase 1 (human)', 'GPR151 - G protein-coupled receptor 151 (human)', 'SLC29A1 - solute carrier family 29 member 1 (Augustine blood group) (human)', 'Human herpesvirus 5 strain AD169', 'MAOA - monoamine oxidase A (human)', 'Genome polyprotein (Foot-and-mouth disease virus (strain A12))', 'FH - fumarate hydratase (human)', 'IFNG - interferon gamma (human)', 'HDAC2 - histone deacetylase 2 (human)', 'IP6K1 - inositol hexakisphosphate kinase 1 (human)', 'TOP1 - DNA topoisomerase I (human)', 'Staphylococcus aureus', 'ssb (Klebsiella pneumoniae)', 'OPRK1 - opioid receptor kappa 1 (human)', 'ESRRA - estrogen related receptor alpha (human)', 'ACHE - acetylcholinesterase (Yt blood group) (human)', 'Burkholderia multivorans', 'HTR2A - 5-hydroxytryptamine receptor 2A (human)', 'GHSR - growth hormone secretagogue receptor (human)', 'ADRA1D - adrenoceptor alpha 1D (human)', 'ATAD5 - ATPase family AAA domain containing 5 (human)', 'HTR2B - 5-hydroxytryptamine receptor 2B (human)', 'GPX1 - glutathione peroxidase 1 (human)', 'OPRM1 - opioid receptor mu 1 (human)', 'Reverse transcriptase/RNaseH  (Human immunodeficiency virus 1)', 'TTR - transthyretin (human)', 'fixJ - oxygen response regulator transcription factor FixJ (Burkholderia cepacia)', 'CHRM4 - cholinergic receptor muscarinic 4 (human)', 'Nr1i2 - nuclear receptor subfamily 1, group I, member 2 (Norway rat)', 'LCK - LCK proto-oncogene, Src family tyrosine kinase (human)', 'CYP2A6 - cytochrome P450 family 2 subfamily A member 6 (human)', 'CCKBR - cholecystokinin B receptor (human)', 'KMT2A - lysine methyltransferase 2A (human)', 'MITF - melanocyte inducing transcription factor (human)', 'CBR1 - carbonyl reductase 1 (human)', 'tsaE - N(6)-L-threonylcarbamoyladenine synthase, TsaE subunit (Escherichia coli str. K-12 substr. MG1655)', 'CHRM3 - cholinergic receptor muscarinic 3 (human)', 'MULTISPECIES: oxygen response regulator transcription factor FixJ (Burkholderia)', 'MMP9 - matrix metallopeptidase 9 (human)', 'Nos2 - nitric oxide synthase 2, inducible (house mouse)', 'RAPGEF4 - Rap guanine nucleotide exchange factor 4 (human)', 'PPP3CA - protein phosphatase 3 catalytic subunit alpha (human)', 'ATF6 - activating transcription factor 6 (human)', 'ORF1ab - ORF1a polyprotein;ORF1ab polyprotein (Severe acute respiratory syndrome coronavirus 2)', 'fixJ - oxygen response regulator transcription factor FixJ (Burkholderia lata)', 'Thrb - thyroid hormone receptor beta (Norway rat)', 'ND4 - NADH dehydrogenase subunit 4 (human)', 'STK33 - serine/threonine kinase 33 (human)', 'Akr1b1 - aldo-keto reductase family 1 member B1 (Norway rat)', 'PRKCA - protein kinase C alpha (human)', 'Glrb - glycine receptor, beta (Norway rat)', 'heat shock 70kDa protein 5 (glucose-regulated protein, 78kDa) (human)', 'UL53 - nuclear egress lamina protein (Human betaherpesvirus 5)', 'PPARG - peroxisome proliferator activated receptor gamma (human)', 'HDAC1 - histone deacetylase 1 (human)', 'PTGS1 - prostaglandin-endoperoxide synthase 1 (human)', 'cyclic AMP receptor protein (Vibrio cholerae O1 biovar El Tor str. N16961)', 'ABCC6 - ATP binding cassette subfamily C member 6 (human)', 'CCR4 - C-C motif chemokine receptor 4 (human)', 'euchromatic histone-lysine N-methyltransferase 2 (human)', 'JUN - Jun proto-oncogene, AP-1 transcription factor subunit (human)', 'Abcb1b - ATP-binding cassette, sub-family B member 1B (Norway rat)', 'ADORA2A - adenosine A2a receptor (human)', 'fixJ - oxygen response regulator transcription factor FixJ (Burkholderia ubonensis subsp. mesacidophila)', 'Glra1 - glycine receptor, alpha 1 (Norway rat)', 'Chain A, Breast cancer type 1 susceptibility protein (human)']\n"
          ]
        }
      ]
    },
    {
      "cell_type": "markdown",
      "source": [
        "### **Why did we decide to remove the '-' from the target names?**\n",
        "1. **Removing the Dash (`-`) Broadens the Search Scope**:\n",
        "   - Correct: Removing the dash makes the query less strict, allowing UniProt to search for terms independently rather than as a single specific entity.\n",
        "   - With the dash, UniProt interprets the query as a combined condition (`DRD1 - dopamine receptor D1`), which might not match any entry directly or narrows the search results significantly.\n",
        "\n",
        "2. **Dashes in Names Indicate Context, Not the Full Name**:\n",
        "   - Partially correct: While the dash *can* separate parts of the query (e.g., gene name vs. organism name), its meaning is dependent on the context. For example:\n",
        "     - `\"DRD1 - dopamine receptor D1 (human)\"` might be interpreted as looking for a human protein explicitly labeled in that format.\n",
        "     - Without the dash (`DRD1 dopamine receptor D1`), UniProt searches for \"DRD1\" and \"dopamine receptor D1\" more freely, increasing potential matches.\n",
        "\n",
        "3. **Why Removing the Dash Expands Results**:\n",
        "   - UniProt's search treats the dash (`-`) as part of the query, which could limit results to exact matches with the dash present. When you remove the dash, the system searches for terms individually, yielding broader matches.\n",
        "\n",
        "---\n",
        "\n",
        "### **Refined Explanation**\n",
        "- If the dash exists in your query (`DRD1 - dopamine receptor D1`), UniProt interprets it as a specific, tightly coupled phrase. This might not yield results unless an entry explicitly matches this exact structure.\n",
        "- Without the dash (`DRD1 dopamine receptor D1`), UniProt treats the terms as separate keywords and attempts to find matches containing any or all of them. This is why removing the dash often yields broader and more relevant results.\n",
        "\n",
        "---\n",
        "\n",
        "### **Source**\n",
        "\n",
        "The behavior you've observed when searching UniProt with and without a dash (`-`) in your query stems from how UniProt's search engine interprets special characters and query syntax. While UniProt's documentation doesn't explicitly detail the impact of dashes in search queries, we can infer the following based on general search engine behaviors and available information:\n",
        "\n",
        "**1. Special Characters in Search Queries:**\n",
        "- Search engines often treat special characters like dashes as operators or delimiters. In some contexts, a dash can signify exclusion (e.g., `term1 -term2` searches for entries containing \"term1\" but not \"term2\"). However, without explicit documentation from UniProt on this behavior, it's unclear how a dash is processed in your specific query.\n",
        "\n",
        "**2. Broadening Search Results:**\n",
        "- Removing the dash from your query (`DRD1 dopamine receptor D1`) allows the search engine to interpret the terms more flexibly, potentially returning a broader set of results. This approach aligns with general search practices where simplifying queries can yield more comprehensive results.\n",
        "\n",
        "**3. Organism Specification:**\n",
        "- Including terms like \"human\" in your query helps specify the organism of interest. UniProt entries often include the organism name, so adding this term can refine your search to entries related to human proteins.\n",
        "\n",
        "**Recommendations:**\n",
        "- **Simplify Queries:** Use straightforward terms without special characters unless you're certain of their function in the search syntax.\n",
        "- **Specify Organism:** Include the organism name (e.g., \"human\") to narrow down results to the species of interest.\n",
        "- **Consult Documentation:** For complex queries, refer to UniProt's [Advanced Search Help](https://www.uniprot.org/help/advanced_search) for guidance on query syntax and field-specific searches.\n",
        "\n"
      ],
      "metadata": {
        "id": "5BkQbLVjnvrk"
      }
    },
    {
      "cell_type": "code",
      "source": [
        "#modify the bioessay_dict in a way that the values are only unique elements -> use set() function\n",
        "# for i in  list(bioessay_dict.values())[i]:\n",
        "#  bioessay_dict[i] = list(set(bioessay_dict[i]))\n",
        "#  print(len(bioessay_dict[i]))\n",
        "for key in bioessay_dict:\n",
        "    unique_values = list(set(bioessay_dict[key]))\n",
        "    bioessay_dict[key] = unique_values\n",
        "    print(len(unique_values))  # Optional: print the number of unique values\n"
      ],
      "metadata": {
        "colab": {
          "base_uri": "https://localhost:8080/"
        },
        "id": "5agl0VOkoyLX",
        "outputId": "957f7a4c-3b97-45e2-d49b-5eeefefcde44"
      },
      "execution_count": 51,
      "outputs": [
        {
          "output_type": "stream",
          "name": "stdout",
          "text": [
            "38\n",
            "89\n",
            "347\n",
            "49\n",
            "2\n",
            "48\n",
            "170\n",
            "5\n",
            "140\n",
            "35\n",
            "28\n",
            "36\n",
            "0\n",
            "5\n",
            "13\n",
            "4\n",
            "135\n",
            "29\n",
            "318\n",
            "179\n",
            "188\n",
            "363\n",
            "20\n",
            "76\n",
            "0\n",
            "4\n",
            "73\n",
            "14\n",
            "39\n",
            "60\n",
            "62\n",
            "302\n",
            "0\n",
            "155\n",
            "93\n",
            "41\n",
            "156\n",
            "15\n",
            "570\n",
            "288\n",
            "190\n",
            "42\n",
            "45\n",
            "94\n",
            "344\n",
            "332\n",
            "295\n",
            "458\n",
            "36\n",
            "125\n",
            "1\n",
            "31\n",
            "305\n",
            "106\n",
            "23\n",
            "608\n",
            "72\n",
            "536\n",
            "79\n",
            "35\n",
            "1\n",
            "343\n",
            "46\n"
          ]
        }
      ]
    },
    {
      "source": [
        "for key in bioessay_dict:\n",
        "    unique_values = list(set(bioessay_dict[key]))\n",
        "    bioessay_dict[key] = unique_values\n",
        "    # print(len(unique_values))  # Optional: print the number of unique values"
      ],
      "cell_type": "code",
      "metadata": {
        "id": "a_ozGf6bkfQh"
      },
      "execution_count": null,
      "outputs": []
    },
    {
      "source": [
        "for key in bioessay_dict:\n",
        "    unique_values = list(set(bioessay_dict[key]))\n",
        "    bioessay_dict[key] = unique_values\n",
        "    # print(len(unique_values))  # Optional: print the number of unique values"
      ],
      "cell_type": "code",
      "metadata": {
        "id": "7gazSs6ZkZvz"
      },
      "execution_count": null,
      "outputs": []
    },
    {
      "cell_type": "markdown",
      "source": [
        "# push the folder of the ids targets to github:"
      ],
      "metadata": {
        "id": "ugJTGIjRMR0m"
      }
    },
    {
      "cell_type": "markdown",
      "source": [
        "#how to do next step:\n",
        "make a folder with the name of the id (key in dict), and then download the uniprot sequence files (the first entry in the search query) for all the values and put them in the folder. in the end we should have 63 folders with many uniprot sequences in them."
      ],
      "metadata": {
        "id": "EXnr87TfhFma"
      }
    }
  ]
}