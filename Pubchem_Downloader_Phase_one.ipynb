{
  "nbformat": 4,
  "nbformat_minor": 0,
  "metadata": {
    "colab": {
      "provenance": [],
      "mount_file_id": "1nUqLK5WqiMEJ2_o0rqC1OA5E4Fb_ets2",
      "authorship_tag": "ABX9TyPJxgtDgQM4N9GL2TnGsNY7",
      "include_colab_link": true
    },
    "kernelspec": {
      "name": "python3",
      "display_name": "Python 3"
    },
    "language_info": {
      "name": "python"
    }
  },
  "cells": [
    {
      "cell_type": "markdown",
      "metadata": {
        "id": "view-in-github",
        "colab_type": "text"
      },
      "source": [
        "<a href=\"https://colab.research.google.com/github/kattens/PubChem-Data-Handler/blob/main/Pubchem_Downloader_Phase_one.ipynb\" target=\"_parent\"><img src=\"https://colab.research.google.com/assets/colab-badge.svg\" alt=\"Open In Colab\"/></a>"
      ]
    },
    {
      "cell_type": "code",
      "execution_count": 1,
      "metadata": {
        "id": "kKc8xF3T8SiS"
      },
      "outputs": [],
      "source": [
        "%%capture\n",
        "!pip install PubChemPy"
      ]
    },
    {
      "cell_type": "code",
      "source": [
        "import csv\n",
        "import pandas as pd\n",
        "import pubchempy as pcp\n",
        "import os"
      ],
      "metadata": {
        "id": "lo_Nt5Pu0Mqw"
      },
      "execution_count": 36,
      "outputs": []
    },
    {
      "cell_type": "code",
      "source": [
        "file_path = '/content/drive/MyDrive/cdot_actives_50 1.xlsx'\n",
        "\n",
        "df = pd.read_excel(file_path)"
      ],
      "metadata": {
        "id": "nJ7j4Egg0RDv"
      },
      "execution_count": 3,
      "outputs": []
    },
    {
      "cell_type": "code",
      "source": [
        "#based on a experiment theres some NaN values in the column that we should remove\n",
        "#remove the rows with NaN as the pubchem_cid value\n",
        "df = df.dropna(subset=['pubchem_cid'])"
      ],
      "metadata": {
        "id": "lgCThy304TL8"
      },
      "execution_count": 23,
      "outputs": []
    },
    {
      "cell_type": "code",
      "source": [
        "#access to the pubchem_cid column\n",
        "df['pubchem_cid']"
      ],
      "metadata": {
        "id": "wtZ9uV3471_1"
      },
      "execution_count": null,
      "outputs": []
    },
    {
      "cell_type": "code",
      "source": [
        "#make a list\n",
        "pubchem_ids = df['pubchem_cid'].tolist() #type = float\n",
        "pubchem_targets = df['target'].tolist() #type = string\n",
        "\n",
        "#convert the float to int\n",
        "pubchem_ids = [int(i) for i in pubchem_ids]\n",
        "\n",
        "#make every element in pubchem_targets a list and if see | break and make a new entry in the list\n",
        "for i in range(len(pubchem_targets)):\n",
        "  if isinstance(pubchem_targets[i], str): #checking if the element is a string before continuing\n",
        "    if '|' in pubchem_targets[i]:\n",
        "        pubchem_targets[i] = pubchem_targets[i].strip().split('|')\n",
        "    else:\n",
        "        #remove the '' from the entry\n",
        "        pubchem_targets[i] = pubchem_targets[i].strip().replace(' ', '') #Added strip before replace\n",
        "        pubchem_targets[i] = [pubchem_targets[i]]\n",
        "\n",
        "'''\n",
        "#just to make sure the values are correct to make a dict\n",
        "print(len(pubchem_ids))\n",
        "print(len(pubchem_targets))\n",
        "print(type(pubchem_targets[2][0]))\n",
        "'''\n",
        "\n",
        "#make a dictionary such that ids are the keys and targets are the values\n",
        "pubchem_dict = dict(zip(pubchem_ids , pubchem_targets))\n",
        "print(pubchem_dict)\n"
      ],
      "metadata": {
        "colab": {
          "base_uri": "https://localhost:8080/"
        },
        "id": "f4rQ_LG433Lr",
        "outputId": "cd705715-a560-4abc-cd3a-8c3125060d08"
      },
      "execution_count": 33,
      "outputs": [
        {
          "output_type": "stream",
          "name": "stdout",
          "text": [
            "63\n",
            "63\n",
            "<class 'str'>\n",
            "{5330175: ['SRC'], 5311340: ['OPRL1'], 11511120: ['EGFR', 'ERBB2', 'ERBB4'], 221354: ['CCR1'], 6806409: ['TP53', 'USP14'], 5329480: ['EGFR', 'ERBB2'], 12947: ['TLR7', 'TLR9'], 444810: ['MRGPRX1'], 135421339: ['BRAF'], 9939609: ['PLA2G7'], 42627755: ['ERNÂ\\xa01.00'], 53464483: ['TRPV4'], 3647519: ['HNMT'], 9810709: ['TOP2A'], 6413301: ['TP53', 'USP14'], 119081415: ['CDK7'], 5311382: ['EGFR', 'FGFR1', 'PDGFRB', 'PKMYT1', 'SRC', 'WEE1'], 53315868: ['EHMT2'], 10219: ['RPS2'], 9914412: ['AURKA', 'AURKB'], 2993: ['KCNN1', 'KCNN3'], 24756910: ['EGFR', 'ERBB2'], 6918097: ['ADORA3'], 4534086: ['SLC8A1', 'TRPC3', 'TRPC5', 'TRPC6'], 73416445: ['ATP1A1'], 132928: ['BDKRB2'], 5281035: ['AR'], 121750: ['TYMS'], 9852185: ['BCL2'], 51000408: ['ATR'], 73602827: ['CDK7'], 3499: ['PRKCA', 'PRKCB', 'PRKCD', 'PRKCG', 'PRKCZ'], 9809926: ['CACNA2D1'], 41867: ['CHD1', 'TOP2A'], 6918837: ['HDAC1', 'HDAC2', 'HDAC3', 'HDAC4', 'HDAC6', 'HDAC7', 'HDAC8', 'HDAC9'], 24858111: ['DNMT1', 'DNMT3A', 'DNMT3B'], 33630: ['CACNA1G'], 2798: ['KCNA5', 'KCNH1'], 441074: ['KCNA5', 'KCNA7', 'KCNH1', 'KCNH2', 'KCNH5', 'KCNK1', 'KCNK6', 'SCN5A', 'SLC29A4'], 4735: ['TRDMT1'], 3034034: ['GP9', 'KCNB2', 'KCNN4', 'SLC29A4'], 676352: ['CASP3'], 49855250: ['HDAC1', 'HDAC10', 'HDAC2', 'HDAC3', 'HDAC4', 'HDAC5', 'HDAC6', 'HDAC9'], 154257: ['ESR1', 'ESR2'], 24795070: ['FLT3', 'PIM1', 'PIM2', 'PIM3'], 11978790: ['MTOR', 'PIK3CA', 'PIK3CB', 'PIK3CG'], 439530: ['NHP2L1', 'RPL10L', 'RPL11', 'RPL13A', 'RPL15', 'RPL19', 'RPL23', 'RPL23A', 'RPL26L1', 'RPL3', 'RPL37', 'RPL8', 'RSL24D1'], 6445562: ['EGFR'], 9829526: ['ADRA1A', 'ADRA1B', 'ADRA1D'], 5583: ['DHFR'], 446536: ['PLA2G1B'], 46848036: ['ABL1', 'PDGFRB'], 9549305: ['IGF1R'], 25150857: ['EHMT1', 'EHMT2'], 53315882: ['EHMT2'], 6197: ['RPL3'], 51358113: ['MTOR'], 16007391: ['AURKB'], 9829836: ['ADRB1', 'ADRB2', 'ADRB3'], 51031035: ['RAC1', 'RAC3'], 452192: ['HIF1A'], 30323: ['TOP2A', 'TOP2B'], 11785878: ['LCK']}\n"
          ]
        }
      ]
    },
    {
      "cell_type": "markdown",
      "source": [
        "# Now we have a dictionary of the ids and targets.\n"
      ],
      "metadata": {
        "id": "aSHQactQ9MrR"
      }
    },
    {
      "cell_type": "code",
      "source": [
        "'''\n",
        "Next step is to download the ids biological test results csv files from pubchem website\n",
        "'''\n",
        "\n",
        "#folder to save the csv files in:\n",
        "folder_path = '/content/drive/MyDrive/IDS_Target_Result'\n",
        "\n",
        "def fetch_bioassay_results(pubchem_ids, folder_path):\n",
        "    for cid in pubchem_ids:\n",
        "        # The query, using f-string formatting\n",
        "        query = f\"https://pubchem.ncbi.nlm.nih.gov/compound/{cid}\"\n",
        "\n"
      ],
      "metadata": {
        "id": "zJ39h15r9cVd"
      },
      "execution_count": 40,
      "outputs": []
    },
    {
      "source": [
        "#THE PRACTICE CODE FOR SEEING IF THE REQUEST RETURNS THE PAGE WE WANT!\n",
        "\n",
        "import requests\n",
        "import webbrowser\n",
        "from IPython.display import IFrame\n",
        "\n",
        "def fetch_bioassay_results(cid):\n",
        "    query = f'https://pubchem.ncbi.nlm.nih.gov/compound/{cid}#section=BioAssay-Results&fullscreen=true'\n",
        "\n",
        "    try:\n",
        "        # Try opening in a new tab (might not work in all environments)\n",
        "        webbrowser.open_new_tab(query)\n",
        "    except Exception as e:\n",
        "        print(f\"Error opening in new tab: {e}\")\n",
        "        # Fallback: Open in default browser (new window or tab)\n",
        "        webbrowser.open(query)\n",
        "\n",
        "    # Embed the webpage in the notebook using IFrame\n",
        "    display(IFrame(query, width=800, height=600))\n",
        "\n",
        "    # Make the request with 'requests' (optional)\n",
        "    response = requests.get(query)\n",
        "    if response.status_code == 200:\n",
        "        print(f\"Successfully accessed the website for CID: {cid}\")\n",
        "    else:\n",
        "        print(f\"Failed to access the website for CID: {cid}, Status code: {response.status_code}\")\n",
        "\n",
        "# Example usage\n",
        "fetch_bioassay_results(5330175)\n",
        "\n"
      ],
      "cell_type": "code",
      "metadata": {
        "colab": {
          "base_uri": "https://localhost:8080/",
          "height": 638
        },
        "id": "6mrkV2IDDFZf",
        "outputId": "dcde0944-1a95-4639-a808-5bb069bc5c58"
      },
      "execution_count": 56,
      "outputs": [
        {
          "output_type": "display_data",
          "data": {
            "text/plain": [
              "<IPython.lib.display.IFrame at 0x7b5a99bc0610>"
            ],
            "text/html": [
              "\n",
              "        <iframe\n",
              "            width=\"800\"\n",
              "            height=\"600\"\n",
              "            src=\"https://pubchem.ncbi.nlm.nih.gov/compound/5330175#section=BioAssay-Results&fullscreen=true\"\n",
              "            frameborder=\"0\"\n",
              "            allowfullscreen\n",
              "            \n",
              "        ></iframe>\n",
              "        "
            ]
          },
          "metadata": {}
        },
        {
          "output_type": "stream",
          "name": "stdout",
          "text": [
            "Successfully accessed the website for CID: 5330175\n"
          ]
        }
      ]
    },
    {
      "cell_type": "code",
      "source": [
        "import os\n",
        "import requests\n",
        "\n",
        "def fetch_and_download_bioassay_csv(cid, folder_path):\n",
        "    # Ensure the folder exists\n",
        "    os.makedirs(folder_path, exist_ok=True)\n",
        "\n",
        "    # Define the URL for the PUG REST API to fetch bioassay data in CSV format\n",
        "    url = f\"https://pubchem.ncbi.nlm.nih.gov/rest/pug/compound/cid/{cid}/assaysummary/CSV\"\n",
        "\n",
        "    # Send a GET request to the API\n",
        "    response = requests.get(url)\n",
        "\n",
        "    # Check if the request was successful\n",
        "    if response.status_code == 200:\n",
        "        # Define the file path\n",
        "        file_path = os.path.join(folder_path, f\"{cid}.csv\")\n",
        "        # Write the content to a CSV file\n",
        "        with open(file_path, 'wb') as file:\n",
        "            file.write(response.content)\n",
        "        print(f\"Bioassay data for CID {cid} has been downloaded and saved to {file_path}\")\n",
        "    else:\n",
        "        print(f\"Failed to retrieve bioassay data for CID {cid}. HTTP Status Code: {response.status_code}\")\n",
        "\n",
        "# Example usage\n",
        "fetch_and_download_bioassay_csv(5330175, folder_path)\n"
      ],
      "metadata": {
        "colab": {
          "base_uri": "https://localhost:8080/"
        },
        "id": "FavYeHm6CoyK",
        "outputId": "3eec5f9a-c27d-4a6a-dead-6765424c23bc"
      },
      "execution_count": 57,
      "outputs": [
        {
          "output_type": "stream",
          "name": "stdout",
          "text": [
            "Bioassay data for CID 5330175 has been downloaded and saved to /content/drive/MyDrive/IDS_Target_Result/5330175.csv\n"
          ]
        }
      ]
    },
    {
      "cell_type": "code",
      "source": [],
      "metadata": {
        "id": "Pg_raOOnJgKO"
      },
      "execution_count": null,
      "outputs": []
    }
  ]
}